{
 "cells": [
  {
   "cell_type": "markdown",
   "metadata": {},
   "source": [
    "# Feature Selection Strategy"
   ]
  },
  {
   "cell_type": "code",
   "execution_count": 1,
   "metadata": {},
   "outputs": [],
   "source": [
    "import numpy as np\n",
    "import pandas as pd\n",
    "import seaborn as sns\n",
    "import sklearn.metrics as metrics "
   ]
  },
  {
   "cell_type": "code",
   "execution_count": 2,
   "metadata": {},
   "outputs": [],
   "source": [
    "train = pd.read_csv(\"../data/trainp.csv\")\n",
    "dev = pd.read_csv(\"../data/devp.csv\")\n",
    "test= pd.read_csv(\"../data/testp.csv\")\n"
   ]
  },
  {
   "cell_type": "code",
   "execution_count": 3,
   "metadata": {},
   "outputs": [],
   "source": [
    "varsel = pd.read_csv(\"../data/varsel.csv\")"
   ]
  },
  {
   "cell_type": "code",
   "execution_count": 4,
   "metadata": {},
   "outputs": [
    {
     "data": {
      "text/html": [
       "<div>\n",
       "<style scoped>\n",
       "    .dataframe tbody tr th:only-of-type {\n",
       "        vertical-align: middle;\n",
       "    }\n",
       "\n",
       "    .dataframe tbody tr th {\n",
       "        vertical-align: top;\n",
       "    }\n",
       "\n",
       "    .dataframe thead th {\n",
       "        text-align: right;\n",
       "    }\n",
       "</style>\n",
       "<table border=\"1\" class=\"dataframe\">\n",
       "  <thead>\n",
       "    <tr style=\"text-align: right;\">\n",
       "      <th></th>\n",
       "      <th>Unnamed: 0</th>\n",
       "      <th>Variable</th>\n",
       "      <th>Lasso</th>\n",
       "      <th>Ridge</th>\n",
       "      <th>RandomForest</th>\n",
       "      <th>GradientBoost</th>\n",
       "      <th>Linear Regression</th>\n",
       "      <th>Ada Boost</th>\n",
       "      <th>dtree</th>\n",
       "      <th>Sum</th>\n",
       "    </tr>\n",
       "  </thead>\n",
       "  <tbody>\n",
       "    <tr>\n",
       "      <th>0</th>\n",
       "      <td>0</td>\n",
       "      <td>monthly_oilprice_avg</td>\n",
       "      <td>0</td>\n",
       "      <td>0</td>\n",
       "      <td>1</td>\n",
       "      <td>0</td>\n",
       "      <td>0</td>\n",
       "      <td>0</td>\n",
       "      <td>1</td>\n",
       "      <td>2</td>\n",
       "    </tr>\n",
       "    <tr>\n",
       "      <th>1</th>\n",
       "      <td>1</td>\n",
       "      <td>total_month_holidays</td>\n",
       "      <td>0</td>\n",
       "      <td>0</td>\n",
       "      <td>0</td>\n",
       "      <td>0</td>\n",
       "      <td>0</td>\n",
       "      <td>0</td>\n",
       "      <td>0</td>\n",
       "      <td>0</td>\n",
       "    </tr>\n",
       "    <tr>\n",
       "      <th>2</th>\n",
       "      <td>2</td>\n",
       "      <td>perishable</td>\n",
       "      <td>0</td>\n",
       "      <td>0</td>\n",
       "      <td>0</td>\n",
       "      <td>1</td>\n",
       "      <td>0</td>\n",
       "      <td>0</td>\n",
       "      <td>0</td>\n",
       "      <td>1</td>\n",
       "    </tr>\n",
       "    <tr>\n",
       "      <th>3</th>\n",
       "      <td>3</td>\n",
       "      <td>BREAD.BAKERY</td>\n",
       "      <td>0</td>\n",
       "      <td>0</td>\n",
       "      <td>0</td>\n",
       "      <td>0</td>\n",
       "      <td>0</td>\n",
       "      <td>0</td>\n",
       "      <td>0</td>\n",
       "      <td>0</td>\n",
       "    </tr>\n",
       "    <tr>\n",
       "      <th>4</th>\n",
       "      <td>4</td>\n",
       "      <td>BEVERAGES</td>\n",
       "      <td>0</td>\n",
       "      <td>0</td>\n",
       "      <td>1</td>\n",
       "      <td>1</td>\n",
       "      <td>0</td>\n",
       "      <td>1</td>\n",
       "      <td>1</td>\n",
       "      <td>4</td>\n",
       "    </tr>\n",
       "  </tbody>\n",
       "</table>\n",
       "</div>"
      ],
      "text/plain": [
       "   Unnamed: 0              Variable  Lasso  Ridge  RandomForest  \\\n",
       "0           0  monthly_oilprice_avg      0      0             1   \n",
       "1           1  total_month_holidays      0      0             0   \n",
       "2           2            perishable      0      0             0   \n",
       "3           3          BREAD.BAKERY      0      0             0   \n",
       "4           4             BEVERAGES      0      0             1   \n",
       "\n",
       "   GradientBoost  Linear Regression  Ada Boost  dtree  Sum  \n",
       "0              0                  0          0      1    2  \n",
       "1              0                  0          0      0    0  \n",
       "2              1                  0          0      0    1  \n",
       "3              0                  0          0      0    0  \n",
       "4              1                  0          1      1    4  "
      ]
     },
     "execution_count": 4,
     "metadata": {},
     "output_type": "execute_result"
    }
   ],
   "source": [
    "varsel.head()"
   ]
  },
  {
   "cell_type": "code",
   "execution_count": 5,
   "metadata": {},
   "outputs": [],
   "source": [
    "v2 = varsel.loc[varsel['Sum']>=2]['Variable'].tolist()\n",
    "v3 = varsel.loc[varsel['Sum']>=3]['Variable'].tolist()\n",
    "v4 = varsel.loc[varsel['Sum']>=4]['Variable'].tolist()"
   ]
  },
  {
   "cell_type": "code",
   "execution_count": 6,
   "metadata": {},
   "outputs": [
    {
     "data": {
      "text/plain": [
       "['BEVERAGES',\n",
       " 'CLEANING',\n",
       " 'store_typeA',\n",
       " 'total_city_sales.x',\n",
       " 'sales_perc.x',\n",
       " 'cluster8',\n",
       " 'top5_item',\n",
       " 'class1040',\n",
       " 'class1072',\n",
       " 'item_per',\n",
       " 'store_per']"
      ]
     },
     "execution_count": 6,
     "metadata": {},
     "output_type": "execute_result"
    }
   ],
   "source": [
    "v4"
   ]
  },
  {
   "cell_type": "markdown",
   "metadata": {},
   "source": [
    "## Linear Regression"
   ]
  },
  {
   "cell_type": "code",
   "execution_count": 7,
   "metadata": {},
   "outputs": [
    {
     "data": {
      "text/html": [
       "<div>\n",
       "<style scoped>\n",
       "    .dataframe tbody tr th:only-of-type {\n",
       "        vertical-align: middle;\n",
       "    }\n",
       "\n",
       "    .dataframe tbody tr th {\n",
       "        vertical-align: top;\n",
       "    }\n",
       "\n",
       "    .dataframe thead th {\n",
       "        text-align: right;\n",
       "    }\n",
       "</style>\n",
       "<table border=\"1\" class=\"dataframe\">\n",
       "  <thead>\n",
       "    <tr style=\"text-align: right;\">\n",
       "      <th></th>\n",
       "      <th>id</th>\n",
       "      <th>monthly_oilprice_avg</th>\n",
       "      <th>BEVERAGES</th>\n",
       "      <th>POULTRY</th>\n",
       "      <th>GROCERY.I</th>\n",
       "      <th>CLEANING</th>\n",
       "      <th>store_typeA</th>\n",
       "      <th>store_typeD</th>\n",
       "      <th>city_Guayaquil</th>\n",
       "      <th>total_city_sales.x</th>\n",
       "      <th>sales_perc.x</th>\n",
       "      <th>cluster8</th>\n",
       "      <th>top5_item</th>\n",
       "      <th>class1040</th>\n",
       "      <th>class1072</th>\n",
       "      <th>year2017</th>\n",
       "      <th>month8</th>\n",
       "      <th>item_per</th>\n",
       "      <th>store_per</th>\n",
       "      <th>total_unit_sales</th>\n",
       "    </tr>\n",
       "  </thead>\n",
       "  <tbody>\n",
       "    <tr>\n",
       "      <th>0</th>\n",
       "      <td>1474241</td>\n",
       "      <td>0.201154</td>\n",
       "      <td>0</td>\n",
       "      <td>0</td>\n",
       "      <td>0</td>\n",
       "      <td>0</td>\n",
       "      <td>0</td>\n",
       "      <td>0</td>\n",
       "      <td>0</td>\n",
       "      <td>0.083314</td>\n",
       "      <td>0.048508</td>\n",
       "      <td>0</td>\n",
       "      <td>0</td>\n",
       "      <td>0</td>\n",
       "      <td>0</td>\n",
       "      <td>0</td>\n",
       "      <td>0</td>\n",
       "      <td>0.001325</td>\n",
       "      <td>0.023096</td>\n",
       "      <td>3.688879</td>\n",
       "    </tr>\n",
       "    <tr>\n",
       "      <th>1</th>\n",
       "      <td>973784</td>\n",
       "      <td>0.229517</td>\n",
       "      <td>0</td>\n",
       "      <td>0</td>\n",
       "      <td>1</td>\n",
       "      <td>0</td>\n",
       "      <td>0</td>\n",
       "      <td>0</td>\n",
       "      <td>0</td>\n",
       "      <td>0.021197</td>\n",
       "      <td>0.012943</td>\n",
       "      <td>0</td>\n",
       "      <td>0</td>\n",
       "      <td>0</td>\n",
       "      <td>0</td>\n",
       "      <td>0</td>\n",
       "      <td>0</td>\n",
       "      <td>0.001186</td>\n",
       "      <td>0.020886</td>\n",
       "      <td>3.891820</td>\n",
       "    </tr>\n",
       "    <tr>\n",
       "      <th>2</th>\n",
       "      <td>1458848</td>\n",
       "      <td>0.269875</td>\n",
       "      <td>0</td>\n",
       "      <td>0</td>\n",
       "      <td>0</td>\n",
       "      <td>0</td>\n",
       "      <td>0</td>\n",
       "      <td>0</td>\n",
       "      <td>1</td>\n",
       "      <td>0.228751</td>\n",
       "      <td>0.124626</td>\n",
       "      <td>0</td>\n",
       "      <td>0</td>\n",
       "      <td>0</td>\n",
       "      <td>0</td>\n",
       "      <td>0</td>\n",
       "      <td>0</td>\n",
       "      <td>0.001323</td>\n",
       "      <td>0.022468</td>\n",
       "      <td>3.258097</td>\n",
       "    </tr>\n",
       "    <tr>\n",
       "      <th>3</th>\n",
       "      <td>185972</td>\n",
       "      <td>0.942353</td>\n",
       "      <td>0</td>\n",
       "      <td>0</td>\n",
       "      <td>0</td>\n",
       "      <td>1</td>\n",
       "      <td>0</td>\n",
       "      <td>1</td>\n",
       "      <td>0</td>\n",
       "      <td>0.028841</td>\n",
       "      <td>0.018528</td>\n",
       "      <td>0</td>\n",
       "      <td>0</td>\n",
       "      <td>0</td>\n",
       "      <td>0</td>\n",
       "      <td>0</td>\n",
       "      <td>0</td>\n",
       "      <td>0.001161</td>\n",
       "      <td>0.022039</td>\n",
       "      <td>5.023881</td>\n",
       "    </tr>\n",
       "    <tr>\n",
       "      <th>4</th>\n",
       "      <td>483059</td>\n",
       "      <td>0.229517</td>\n",
       "      <td>0</td>\n",
       "      <td>0</td>\n",
       "      <td>0</td>\n",
       "      <td>0</td>\n",
       "      <td>0</td>\n",
       "      <td>0</td>\n",
       "      <td>0</td>\n",
       "      <td>0.021197</td>\n",
       "      <td>0.012943</td>\n",
       "      <td>0</td>\n",
       "      <td>0</td>\n",
       "      <td>0</td>\n",
       "      <td>0</td>\n",
       "      <td>0</td>\n",
       "      <td>0</td>\n",
       "      <td>0.000969</td>\n",
       "      <td>0.020886</td>\n",
       "      <td>4.852030</td>\n",
       "    </tr>\n",
       "  </tbody>\n",
       "</table>\n",
       "</div>"
      ],
      "text/plain": [
       "        id  monthly_oilprice_avg  BEVERAGES  POULTRY  GROCERY.I  CLEANING  \\\n",
       "0  1474241              0.201154          0        0          0         0   \n",
       "1   973784              0.229517          0        0          1         0   \n",
       "2  1458848              0.269875          0        0          0         0   \n",
       "3   185972              0.942353          0        0          0         1   \n",
       "4   483059              0.229517          0        0          0         0   \n",
       "\n",
       "   store_typeA  store_typeD  city_Guayaquil  total_city_sales.x  sales_perc.x  \\\n",
       "0            0            0               0            0.083314      0.048508   \n",
       "1            0            0               0            0.021197      0.012943   \n",
       "2            0            0               1            0.228751      0.124626   \n",
       "3            0            1               0            0.028841      0.018528   \n",
       "4            0            0               0            0.021197      0.012943   \n",
       "\n",
       "   cluster8  top5_item  class1040  class1072  year2017  month8  item_per  \\\n",
       "0         0          0          0          0         0       0  0.001325   \n",
       "1         0          0          0          0         0       0  0.001186   \n",
       "2         0          0          0          0         0       0  0.001323   \n",
       "3         0          0          0          0         0       0  0.001161   \n",
       "4         0          0          0          0         0       0  0.000969   \n",
       "\n",
       "   store_per  total_unit_sales  \n",
       "0   0.023096          3.688879  \n",
       "1   0.020886          3.891820  \n",
       "2   0.022468          3.258097  \n",
       "3   0.022039          5.023881  \n",
       "4   0.020886          4.852030  "
      ]
     },
     "execution_count": 7,
     "metadata": {},
     "output_type": "execute_result"
    }
   ],
   "source": [
    "train.head()"
   ]
  },
  {
   "cell_type": "code",
   "execution_count": 10,
   "metadata": {},
   "outputs": [],
   "source": [
    "X2= train.loc[:, v2]\n",
    "X3= train.loc[:, v3]\n",
    "X4= train.loc[:, v4]\n",
    "y = train.loc[:,'total_unit_sales']"
   ]
  },
  {
   "cell_type": "code",
   "execution_count": 14,
   "metadata": {},
   "outputs": [],
   "source": [
    "Xdev2= dev.loc[:, v2]\n",
    "Xdev3= dev.loc[:, v3]\n",
    "Xdev4= dev.loc[:, v4]\n",
    "ydev = dev.loc[:,'total_unit_sales']"
   ]
  },
  {
   "cell_type": "code",
   "execution_count": 10,
   "metadata": {},
   "outputs": [],
   "source": [
    "from sklearn.linear_model import LinearRegression\n",
    "lrmod2 = LinearRegression().fit(X2,y)"
   ]
  },
  {
   "cell_type": "code",
   "execution_count": 11,
   "metadata": {},
   "outputs": [],
   "source": [
    "y_hat2 = lrmod2.predict(X2)\n",
    "ydev_hat2 = lrmod2.predict(Xdev2)"
   ]
  },
  {
   "cell_type": "code",
   "execution_count": 12,
   "metadata": {},
   "outputs": [
    {
     "name": "stdout",
     "output_type": "stream",
     "text": [
      "MSE= 0.908753\n",
      "RMSE= 0.953285\n",
      "MAE= 0.755750\n",
      "MSLE= 0.030693\n",
      "R2= 0.127223\n"
     ]
    }
   ],
   "source": [
    "print('MSE= %f' % metrics.mean_squared_error(y,y_hat2))#, squared=False)) <--- version 0.22 +\n",
    "print('RMSE= %f' % np.sqrt(metrics.mean_squared_error(y,y_hat2)))\n",
    "print('MAE= %f' % metrics.mean_absolute_error(y,y_hat2))\n",
    "print('MSLE= %f' % metrics.mean_squared_log_error(y,y_hat2))\n",
    "print('R2= %f' % metrics.r2_score(y,y_hat2))"
   ]
  },
  {
   "cell_type": "code",
   "execution_count": 13,
   "metadata": {},
   "outputs": [
    {
     "name": "stdout",
     "output_type": "stream",
     "text": [
      "MSE= 0.911509\n",
      "RMSE= 0.954730\n",
      "MAE= 0.756612\n",
      "MSLE= 0.030846\n",
      "R2= 0.127054\n"
     ]
    }
   ],
   "source": [
    "print('MSE= %f' % metrics.mean_squared_error(ydev,ydev_hat2))#, squared=False)) <--- version 0.22 +\n",
    "print('RMSE= %f' % np.sqrt(metrics.mean_squared_error(ydev,ydev_hat2)))\n",
    "print('MAE= %f' % metrics.mean_absolute_error(ydev,ydev_hat2))\n",
    "print('MSLE= %f' % metrics.mean_squared_log_error(ydev,ydev_hat2))\n",
    "print('R2= %f' % metrics.r2_score(ydev,ydev_hat2))"
   ]
  },
  {
   "cell_type": "code",
   "execution_count": 14,
   "metadata": {},
   "outputs": [
    {
     "data": {
      "text/plain": [
       "0.11572353389710811"
      ]
     },
     "execution_count": 14,
     "metadata": {},
     "output_type": "execute_result"
    }
   ],
   "source": [
    "lrmod3 = LinearRegression().fit(X3,y)\n",
    "lrmod3.score(X3,y)"
   ]
  },
  {
   "cell_type": "code",
   "execution_count": 15,
   "metadata": {},
   "outputs": [],
   "source": [
    "y_hat3 = lrmod3.predict(X3)"
   ]
  },
  {
   "cell_type": "code",
   "execution_count": 16,
   "metadata": {},
   "outputs": [
    {
     "name": "stdout",
     "output_type": "stream",
     "text": [
      "MSE= 0.920726\n",
      "RMSE= 0.959545\n",
      "MAE= 0.761314\n",
      "MSLE= 0.031075\n",
      "R2= 0.115724\n"
     ]
    }
   ],
   "source": [
    "print('MSE= %f' % metrics.mean_squared_error(y,y_hat3))#, squared=False)) <--- version 0.22 +\n",
    "print('RMSE= %f' % np.sqrt(metrics.mean_squared_error(y,y_hat3)))\n",
    "print('MAE= %f' % metrics.mean_absolute_error(y,y_hat3))\n",
    "print('MSLE= %f' % metrics.mean_squared_log_error(y,y_hat3))\n",
    "print('R2= %f' % metrics.r2_score(y,y_hat3))"
   ]
  },
  {
   "cell_type": "code",
   "execution_count": 17,
   "metadata": {},
   "outputs": [
    {
     "data": {
      "text/plain": [
       "0.10736331074452654"
      ]
     },
     "execution_count": 17,
     "metadata": {},
     "output_type": "execute_result"
    }
   ],
   "source": [
    "lrmod4 = LinearRegression().fit(X4,y)\n",
    "lrmod4.score(X4,y)"
   ]
  },
  {
   "cell_type": "code",
   "execution_count": 18,
   "metadata": {},
   "outputs": [],
   "source": [
    "y_hat4 = lrmod4.predict(X4)"
   ]
  },
  {
   "cell_type": "code",
   "execution_count": 19,
   "metadata": {},
   "outputs": [
    {
     "name": "stdout",
     "output_type": "stream",
     "text": [
      "MSE= 0.929431\n",
      "RMSE= 0.964070\n",
      "MAE= 0.764505\n",
      "MSLE= 0.031409\n",
      "R2= 0.107363\n"
     ]
    }
   ],
   "source": [
    "print('MSE= %f' % metrics.mean_squared_error(y,y_hat4))#, squared=False)) <--- version 0.22 +\n",
    "print('RMSE= %f' % np.sqrt(metrics.mean_squared_error(y,y_hat4)))\n",
    "print('MAE= %f' % metrics.mean_absolute_error(y,y_hat4))\n",
    "print('MSLE= %f' % metrics.mean_squared_log_error(y,y_hat4))\n",
    "print('R2= %f' % metrics.r2_score(y,y_hat4))"
   ]
  },
  {
   "cell_type": "markdown",
   "metadata": {},
   "source": [
    "### Variable Selection using Random Forest"
   ]
  },
  {
   "cell_type": "code",
   "execution_count": 20,
   "metadata": {},
   "outputs": [
    {
     "name": "stderr",
     "output_type": "stream",
     "text": [
      "C:\\Users\\Guy\\Anaconda3\\lib\\site-packages\\sklearn\\ensemble\\forest.py:245: FutureWarning: The default value of n_estimators will change from 10 in version 0.20 to 100 in 0.22.\n",
      "  \"10 in version 0.20 to 100 in 0.22.\", FutureWarning)\n"
     ]
    }
   ],
   "source": [
    "from sklearn.ensemble import RandomForestRegressor\n",
    "rfmod2 = RandomForestRegressor().fit(X2, y)\n",
    "#rfmod.feature_importances_ "
   ]
  },
  {
   "cell_type": "code",
   "execution_count": 21,
   "metadata": {},
   "outputs": [],
   "source": [
    "y_hat2 = rfmod2.predict(X2)"
   ]
  },
  {
   "cell_type": "code",
   "execution_count": 22,
   "metadata": {},
   "outputs": [
    {
     "name": "stdout",
     "output_type": "stream",
     "text": [
      "MSE= 0.139735\n",
      "RMSE= 0.373812\n",
      "MAE= 0.227964\n",
      "MSLE= 0.004874\n",
      "R2= 0.865797\n"
     ]
    }
   ],
   "source": [
    "print('MSE= %f' % metrics.mean_squared_error(y,y_hat2))#, squared=False)) <--- version 0.22 +\n",
    "print('RMSE= %f' % np.sqrt(metrics.mean_squared_error(y,y_hat2)))\n",
    "print('MAE= %f' % metrics.mean_absolute_error(y,y_hat2))\n",
    "print('MSLE= %f' % metrics.mean_squared_log_error(y,y_hat2))\n",
    "print('R2= %f' % metrics.r2_score(y,y_hat2))"
   ]
  },
  {
   "cell_type": "code",
   "execution_count": 41,
   "metadata": {},
   "outputs": [],
   "source": [
    "ydev_hat2 = rfmod2.predict(Xdev2)"
   ]
  },
  {
   "cell_type": "code",
   "execution_count": 42,
   "metadata": {},
   "outputs": [
    {
     "name": "stdout",
     "output_type": "stream",
     "text": [
      "MSE= 0.424809\n",
      "RMSE= 0.651773\n",
      "MAE= 0.447287\n",
      "MSLE= 0.014909\n",
      "R2= 0.593164\n"
     ]
    }
   ],
   "source": [
    "print('MSE= %f' % metrics.mean_squared_error(ydev,ydev_hat2))#, squared=False)) <--- version 0.22 +\n",
    "print('RMSE= %f' % np.sqrt(metrics.mean_squared_error(ydev,ydev_hat2)))\n",
    "print('MAE= %f' % metrics.mean_absolute_error(ydev,ydev_hat2))\n",
    "print('MSLE= %f' % metrics.mean_squared_log_error(ydev,ydev_hat2))\n",
    "print('R2= %f' % metrics.r2_score(ydev,ydev_hat2))"
   ]
  },
  {
   "cell_type": "code",
   "execution_count": 23,
   "metadata": {
    "scrolled": true
   },
   "outputs": [
    {
     "name": "stderr",
     "output_type": "stream",
     "text": [
      "C:\\Users\\Guy\\Anaconda3\\lib\\site-packages\\sklearn\\ensemble\\forest.py:245: FutureWarning: The default value of n_estimators will change from 10 in version 0.20 to 100 in 0.22.\n",
      "  \"10 in version 0.20 to 100 in 0.22.\", FutureWarning)\n"
     ]
    }
   ],
   "source": [
    "from sklearn.ensemble import RandomForestRegressor\n",
    "rfmod3 = RandomForestRegressor().fit(X3, y)"
   ]
  },
  {
   "cell_type": "code",
   "execution_count": 24,
   "metadata": {},
   "outputs": [],
   "source": [
    "y_hat3 = rfmod3.predict(X3)"
   ]
  },
  {
   "cell_type": "code",
   "execution_count": 25,
   "metadata": {},
   "outputs": [
    {
     "name": "stdout",
     "output_type": "stream",
     "text": [
      "MSE= 0.196438\n",
      "RMSE= 0.443214\n",
      "MAE= 0.282383\n",
      "MSLE= 0.006768\n",
      "RMSLE= 0.082270\n",
      "R2= 0.811338\n"
     ]
    }
   ],
   "source": [
    "print('MSE= %f' % metrics.mean_squared_error(y,y_hat3))#, squared=False)) <--- version 0.33 +\n",
    "print('RMSE= %f' % np.sqrt(metrics.mean_squared_error(y,y_hat3)))\n",
    "print('MAE= %f' % metrics.mean_absolute_error(y,y_hat3))\n",
    "print('MSLE= %f' % metrics.mean_squared_log_error(y,y_hat3))\n",
    "print('RMSLE= %f' % np.sqrt(metrics.mean_squared_log_error(y,y_hat3)))\n",
    "print('R2= %f' % metrics.r2_score(y,y_hat3))"
   ]
  },
  {
   "cell_type": "code",
   "execution_count": 48,
   "metadata": {},
   "outputs": [],
   "source": [
    "ydev_hat3 = rfmod3.predict(Xdev3)"
   ]
  },
  {
   "cell_type": "code",
   "execution_count": 49,
   "metadata": {},
   "outputs": [
    {
     "name": "stdout",
     "output_type": "stream",
     "text": [
      "MSE= 0.557160\n",
      "RMSE= 0.746431\n",
      "MAE= 0.526641\n",
      "MSLE= 0.019236\n",
      "RMSLE= 0.138694\n",
      "R2= 0.466412\n"
     ]
    }
   ],
   "source": [
    "print('MSE= %f' % metrics.mean_squared_error(ydev,ydev_hat3))#, squared=False)) <--- version 0.33 +\n",
    "print('RMSE= %f' % np.sqrt(metrics.mean_squared_error(ydev,ydev_hat3)))\n",
    "print('MAE= %f' % metrics.mean_absolute_error(ydev,ydev_hat3))\n",
    "print('MSLE= %f' % metrics.mean_squared_log_error(ydev,ydev_hat3))\n",
    "print('RMSLE= %f' % np.sqrt(metrics.mean_squared_log_error(ydev,ydev_hat3)))\n",
    "print('R2= %f' % metrics.r2_score(ydev,ydev_hat3))"
   ]
  },
  {
   "cell_type": "code",
   "execution_count": 29,
   "metadata": {},
   "outputs": [
    {
     "name": "stderr",
     "output_type": "stream",
     "text": [
      "C:\\Users\\Guy\\Anaconda3\\lib\\site-packages\\sklearn\\ensemble\\forest.py:245: FutureWarning: The default value of n_estimators will change from 10 in version 0.20 to 100 in 0.22.\n",
      "  \"10 in version 0.20 to 100 in 0.22.\", FutureWarning)\n"
     ]
    }
   ],
   "source": [
    "from sklearn.ensemble import RandomForestRegressor\n",
    "rfmod4 = RandomForestRegressor().fit(X4, y)"
   ]
  },
  {
   "cell_type": "code",
   "execution_count": 27,
   "metadata": {},
   "outputs": [],
   "source": [
    "y_hat4 = rfmod4.predict(X4)"
   ]
  },
  {
   "cell_type": "code",
   "execution_count": 28,
   "metadata": {},
   "outputs": [
    {
     "name": "stdout",
     "output_type": "stream",
     "text": [
      "MSE= 0.196484\n",
      "RMSE= 0.443265\n",
      "MAE= 0.282336\n",
      "MSLE= 0.006767\n",
      "RMSLE= 0.082261\n",
      "R2= 0.811294\n"
     ]
    }
   ],
   "source": [
    "print('MSE= %f' % metrics.mean_squared_error(y,y_hat4))#, squared=False)) <--- version 0.44 +\n",
    "print('RMSE= %f' % np.sqrt(metrics.mean_squared_error(y,y_hat4)))\n",
    "print('MAE= %f' % metrics.mean_absolute_error(y,y_hat4))\n",
    "print('MSLE= %f' % metrics.mean_squared_log_error(y,y_hat4))\n",
    "print('RMSLE= %f' % np.sqrt(metrics.mean_squared_log_error(y,y_hat4)))\n",
    "print('R2= %f' % metrics.r2_score(y,y_hat4))"
   ]
  },
  {
   "cell_type": "markdown",
   "metadata": {},
   "source": [
    "### XGboost"
   ]
  },
  {
   "cell_type": "code",
   "execution_count": 6,
   "metadata": {},
   "outputs": [],
   "source": [
    "from xgboost.sklearn import XGBRegressor"
   ]
  },
  {
   "cell_type": "code",
   "execution_count": 7,
   "metadata": {},
   "outputs": [],
   "source": [
    "params = {'objective':'reg:linear', 'max_depth':6, 'learning_rate':1,\n",
    "         'n_estimators':5}"
   ]
  },
  {
   "cell_type": "code",
   "execution_count": 84,
   "metadata": {},
   "outputs": [
    {
     "name": "stdout",
     "output_type": "stream",
     "text": [
      "[22:18:40] WARNING: C:/Users/Administrator/workspace/xgboost-win64_release_1.1.0/src/objective/regression_obj.cu:168: reg:linear is now deprecated in favor of reg:squarederror.\n",
      "[22:18:55] WARNING: C:/Users/Administrator/workspace/xgboost-win64_release_1.1.0/src/objective/regression_obj.cu:168: reg:linear is now deprecated in favor of reg:squarederror.\n"
     ]
    }
   ],
   "source": [
    "xgb = XGBRegressor(**params).fit(X2,y)"
   ]
  },
  {
   "cell_type": "code",
   "execution_count": 85,
   "metadata": {},
   "outputs": [],
   "source": [
    "y_hat2= xgb.predict(X2)"
   ]
  },
  {
   "cell_type": "code",
   "execution_count": 86,
   "metadata": {},
   "outputs": [
    {
     "name": "stdout",
     "output_type": "stream",
     "text": [
      "MSE= 0.737664\n",
      "RMSE= 0.858874\n",
      "MAE= 0.672583\n",
      "MSLE= 0.025105\n",
      "RMSLE= 0.158445\n",
      "R2= 0.291539\n"
     ]
    }
   ],
   "source": [
    "print('MSE= %f' % metrics.mean_squared_error(y,y_hat2))#, squared=False)) <--- version 0.44 +\n",
    "print('RMSE= %f' % np.sqrt(metrics.mean_squared_error(y,y_hat2)))\n",
    "print('MAE= %f' % metrics.mean_absolute_error(y,y_hat2))\n",
    "print('MSLE= %f' % metrics.mean_squared_log_error(y,y_hat2))\n",
    "print('RMSLE= %f' % np.sqrt(metrics.mean_squared_log_error(y,y_hat2)))\n",
    "print('R2= %f' % metrics.r2_score(y,y_hat2))"
   ]
  },
  {
   "cell_type": "code",
   "execution_count": 87,
   "metadata": {},
   "outputs": [],
   "source": [
    "ydev_hat2= xgb.predict(Xdev2)"
   ]
  },
  {
   "cell_type": "code",
   "execution_count": 88,
   "metadata": {},
   "outputs": [
    {
     "name": "stdout",
     "output_type": "stream",
     "text": [
      "MSE= 0.742225\n",
      "RMSE= 0.861525\n",
      "MAE= 0.674458\n",
      "MSLE= 0.025319\n",
      "RMSLE= 0.159120\n",
      "R2= 0.289177\n"
     ]
    }
   ],
   "source": [
    "print('MSE= %f' % metrics.mean_squared_error(ydev,ydev_hat2))#, squared=False)) <--- version 0.44 +\n",
    "print('RMSE= %f' % np.sqrt(metrics.mean_squared_error(ydev,ydev_hat2)))\n",
    "print('MAE= %f' % metrics.mean_absolute_error(ydev,ydev_hat2))\n",
    "print('MSLE= %f' % metrics.mean_squared_log_error(ydev,ydev_hat2))\n",
    "print('RMSLE= %f' % np.sqrt(metrics.mean_squared_log_error(ydev,ydev_hat2)))\n",
    "print('R2= %f' % metrics.r2_score(ydev,ydev_hat2))"
   ]
  },
  {
   "cell_type": "code",
   "execution_count": 8,
   "metadata": {},
   "outputs": [],
   "source": [
    "params1 = {'n_estimators': 971,\n",
    " 'min_samples_split': 5,\n",
    " 'min_samples_leaf': 1,\n",
    " 'max_features': 'auto',\n",
    " 'max_depth': None,\n",
    " 'bootstrap': False}"
   ]
  },
  {
   "cell_type": "code",
   "execution_count": 11,
   "metadata": {},
   "outputs": [
    {
     "name": "stdout",
     "output_type": "stream",
     "text": [
      "[00:29:51] WARNING: C:\\Users\\Administrator\\workspace\\xgboost-win64_release_1.1.0\\src\\learner.cc:480: \n",
      "Parameters: { bootstrap, max_features, min_samples_leaf, min_samples_split } might not be used.\n",
      "\n",
      "  This may not be accurate due to some parameters are only used in language bindings but\n",
      "  passed down to XGBoost core.  Or some parameters are not used but slip through this\n",
      "  verification. Please open an issue if you find above cases.\n",
      "\n",
      "\n"
     ]
    }
   ],
   "source": [
    "xgb1 = XGBRegressor(**params1).fit(X2,y)"
   ]
  },
  {
   "cell_type": "code",
   "execution_count": 12,
   "metadata": {},
   "outputs": [],
   "source": [
    "y_hat2= xgb1.predict(X2)"
   ]
  },
  {
   "cell_type": "code",
   "execution_count": 15,
   "metadata": {},
   "outputs": [],
   "source": [
    "ydev_hat2= xgb1.predict(Xdev2)"
   ]
  },
  {
   "cell_type": "code",
   "execution_count": 16,
   "metadata": {},
   "outputs": [
    {
     "name": "stdout",
     "output_type": "stream",
     "text": [
      "MSE= 0.322754\n",
      "RMSE= 0.568114\n",
      "MAE= 0.427480\n",
      "MSLE= 0.011654\n",
      "RMSLE= 0.107953\n",
      "R2= 0.690024\n"
     ]
    }
   ],
   "source": [
    "print('MSE= %f' % metrics.mean_squared_error(y,y_hat2))#, squared=False)) <--- version 0.44 +\n",
    "print('RMSE= %f' % np.sqrt(metrics.mean_squared_error(y,y_hat2)))\n",
    "print('MAE= %f' % metrics.mean_absolute_error(y,y_hat2))\n",
    "print('MSLE= %f' % metrics.mean_squared_log_error(y,y_hat2))\n",
    "print('RMSLE= %f' % np.sqrt(metrics.mean_squared_log_error(y,y_hat2)))\n",
    "print('R2= %f' % metrics.r2_score(y,y_hat2))"
   ]
  },
  {
   "cell_type": "code",
   "execution_count": 17,
   "metadata": {},
   "outputs": [
    {
     "name": "stdout",
     "output_type": "stream",
     "text": [
      "MSE= 0.340779\n",
      "RMSE= 0.583763\n",
      "MAE= 0.439514\n",
      "MSLE= 0.012291\n",
      "RMSLE= 0.110865\n",
      "R2= 0.673639\n"
     ]
    }
   ],
   "source": [
    "print('MSE= %f' % metrics.mean_squared_error(ydev,ydev_hat2))#, squared=False)) <--- version 0.44 +\n",
    "print('RMSE= %f' % np.sqrt(metrics.mean_squared_error(ydev,ydev_hat2)))\n",
    "print('MAE= %f' % metrics.mean_absolute_error(ydev,ydev_hat2))\n",
    "print('MSLE= %f' % metrics.mean_squared_log_error(ydev,ydev_hat2))\n",
    "print('RMSLE= %f' % np.sqrt(metrics.mean_squared_log_error(ydev,ydev_hat2)))\n",
    "print('R2= %f' % metrics.r2_score(ydev,ydev_hat2))"
   ]
  },
  {
   "cell_type": "markdown",
   "metadata": {},
   "source": [
    "# Ada Boost"
   ]
  },
  {
   "cell_type": "code",
   "execution_count": 89,
   "metadata": {},
   "outputs": [],
   "source": [
    "from sklearn.ensemble import AdaBoostRegressor\n",
    "ABRmod2 = AdaBoostRegressor(random_state=1).fit(X2,y)"
   ]
  },
  {
   "cell_type": "code",
   "execution_count": 90,
   "metadata": {},
   "outputs": [],
   "source": [
    "y_hat2 = ABRmod2.predict(X2)"
   ]
  },
  {
   "cell_type": "code",
   "execution_count": 91,
   "metadata": {},
   "outputs": [
    {
     "name": "stdout",
     "output_type": "stream",
     "text": [
      "MSE= 0.937782\n",
      "RMSE= 0.968391\n",
      "MAE= 0.768766\n",
      "MSLE= 0.031287\n",
      "RMSLE= 0.176881\n",
      "R2= 0.099343\n"
     ]
    }
   ],
   "source": [
    "print('MSE= %f' % metrics.mean_squared_error(y,y_hat2))#, squared=False)) <--- version 0.44 +\n",
    "print('RMSE= %f' % np.sqrt(metrics.mean_squared_error(y,y_hat2)))\n",
    "print('MAE= %f' % metrics.mean_absolute_error(y,y_hat2))\n",
    "print('MSLE= %f' % metrics.mean_squared_log_error(y,y_hat2))\n",
    "print('RMSLE= %f' % np.sqrt(metrics.mean_squared_log_error(y,y_hat2)))\n",
    "print('R2= %f' % metrics.r2_score(y,y_hat2))"
   ]
  },
  {
   "cell_type": "code",
   "execution_count": 92,
   "metadata": {},
   "outputs": [],
   "source": [
    "ydev_hat2 = ABRmod2.predict(Xdev2)"
   ]
  },
  {
   "cell_type": "code",
   "execution_count": 93,
   "metadata": {},
   "outputs": [
    {
     "name": "stdout",
     "output_type": "stream",
     "text": [
      "MSE= 0.940957\n",
      "RMSE= 0.970029\n",
      "MAE= 0.770139\n",
      "MSLE= 0.031467\n",
      "RMSLE= 0.177390\n",
      "R2= 0.098852\n"
     ]
    }
   ],
   "source": [
    "print('MSE= %f' % metrics.mean_squared_error(ydev,ydev_hat2))#, squared=False)) <--- version 0.44 +\n",
    "print('RMSE= %f' % np.sqrt(metrics.mean_squared_error(ydev,ydev_hat2)))\n",
    "print('MAE= %f' % metrics.mean_absolute_error(ydev,ydev_hat2))\n",
    "print('MSLE= %f' % metrics.mean_squared_log_error(ydev,ydev_hat2))\n",
    "print('RMSLE= %f' % np.sqrt(metrics.mean_squared_log_error(ydev,ydev_hat2)))\n",
    "print('R2= %f' % metrics.r2_score(ydev,ydev_hat2))"
   ]
  },
  {
   "cell_type": "code",
   "execution_count": 21,
   "metadata": {},
   "outputs": [],
   "source": [
    "from sklearn.ensemble import AdaBoostRegressor\n",
    "ABRmod3 = AdaBoostRegressor(random_state=1).fit(X3,y)"
   ]
  },
  {
   "cell_type": "code",
   "execution_count": 22,
   "metadata": {},
   "outputs": [
    {
     "data": {
      "text/plain": [
       "0.9683691577384022"
      ]
     },
     "execution_count": 22,
     "metadata": {},
     "output_type": "execute_result"
    }
   ],
   "source": [
    "np.sqrt(np.mean((ABRmod3.predict(X3)-y)**2))"
   ]
  },
  {
   "cell_type": "markdown",
   "metadata": {},
   "source": [
    "## Decision tree"
   ]
  },
  {
   "cell_type": "code",
   "execution_count": 43,
   "metadata": {},
   "outputs": [],
   "source": [
    "from sklearn.tree import DecisionTreeRegressor\n",
    "dtree2= DecisionTreeRegressor(random_state=2).fit(X2,y)"
   ]
  },
  {
   "cell_type": "code",
   "execution_count": 44,
   "metadata": {},
   "outputs": [],
   "source": [
    "y_hat2 = dtree2.predict(X2)"
   ]
  },
  {
   "cell_type": "code",
   "execution_count": 45,
   "metadata": {},
   "outputs": [
    {
     "name": "stdout",
     "output_type": "stream",
     "text": [
      "MSE= 0.104607\n",
      "RMSE= 0.323431\n",
      "MAE= 0.132992\n",
      "MSLE= 0.003484\n",
      "RMSLE= 0.059029\n",
      "R2= 0.899534\n"
     ]
    }
   ],
   "source": [
    "print('MSE= %f' % metrics.mean_squared_error(y,y_hat2))#, squared=False)) <--- version 0.44 +\n",
    "print('RMSE= %f' % np.sqrt(metrics.mean_squared_error(y,y_hat2)))\n",
    "print('MAE= %f' % metrics.mean_absolute_error(y,y_hat2))\n",
    "print('MSLE= %f' % metrics.mean_squared_log_error(y,y_hat2))\n",
    "print('RMSLE= %f' % np.sqrt(metrics.mean_squared_log_error(y,y_hat2)))\n",
    "print('R2= %f' % metrics.r2_score(y,y_hat2))"
   ]
  },
  {
   "cell_type": "code",
   "execution_count": 46,
   "metadata": {},
   "outputs": [],
   "source": [
    "ydev_hat2 = dtree2.predict(Xdev2)"
   ]
  },
  {
   "cell_type": "code",
   "execution_count": 47,
   "metadata": {},
   "outputs": [
    {
     "name": "stdout",
     "output_type": "stream",
     "text": [
      "MSE= 0.609066\n",
      "RMSE= 0.780427\n",
      "MAE= 0.533675\n",
      "MSLE= 0.021693\n",
      "R2= 0.416702\n"
     ]
    }
   ],
   "source": [
    "print('MSE= %f' % metrics.mean_squared_error(ydev,ydev_hat2))#, squared=False)) <--- version 0.22 +\n",
    "print('RMSE= %f' % np.sqrt(metrics.mean_squared_error(ydev,ydev_hat2)))\n",
    "print('MAE= %f' % metrics.mean_absolute_error(ydev,ydev_hat2))\n",
    "print('MSLE= %f' % metrics.mean_squared_log_error(ydev,ydev_hat2))\n",
    "print('R2= %f' % metrics.r2_score(ydev,ydev_hat2))"
   ]
  },
  {
   "cell_type": "markdown",
   "metadata": {},
   "source": [
    "# KNN"
   ]
  },
  {
   "cell_type": "code",
   "execution_count": 6,
   "metadata": {},
   "outputs": [],
   "source": [
    "from sklearn.neighbors import KNeighborsRegressor"
   ]
  },
  {
   "cell_type": "code",
   "execution_count": 19,
   "metadata": {},
   "outputs": [],
   "source": [
    "neigh = KNeighborsRegressor(n_neighbors=100)"
   ]
  },
  {
   "cell_type": "code",
   "execution_count": 20,
   "metadata": {},
   "outputs": [],
   "source": [
    "knmod=neigh.fit(X2,y)"
   ]
  },
  {
   "cell_type": "code",
   "execution_count": null,
   "metadata": {},
   "outputs": [],
   "source": [
    "y_hat2 = knmod.predict(X2)"
   ]
  },
  {
   "cell_type": "code",
   "execution_count": null,
   "metadata": {},
   "outputs": [],
   "source": [
    "print('MSE= %f' % metrics.mean_squared_error(y,y_hat2))#, squared=False)) <--- version 0.44 +\n",
    "print('RMSE= %f' % np.sqrt(metrics.mean_squared_error(y,y_hat2)))\n",
    "print('MAE= %f' % metrics.mean_absolute_error(y,y_hat2))\n",
    "print('MSLE= %f' % metrics.mean_squared_log_error(y,y_hat2))\n",
    "print('RMSLE= %f' % np.sqrt(metrics.mean_squared_log_error(y,y_hat2)))\n",
    "print('R2= %f' % metrics.r2_score(y,y_hat2))"
   ]
  },
  {
   "cell_type": "code",
   "execution_count": null,
   "metadata": {},
   "outputs": [],
   "source": [
    "ydev_hat2 = knmod.predict(Xdev2)"
   ]
  },
  {
   "cell_type": "code",
   "execution_count": null,
   "metadata": {},
   "outputs": [],
   "source": [
    "print('MSE= %f' % metrics.mean_squared_error(ydev,ydev_hat2))#, squared=False)) <--- version 0.44 +\n",
    "print('RMSE= %f' % np.sqrt(metrics.mean_squared_error(ydev,ydev_hat2)))\n",
    "print('MAE= %f' % metrics.mean_absolute_error(ydev,ydev_hat2))\n",
    "print('MSLE= %f' % metrics.mean_squared_log_error(ydev,ydev_hat2))\n",
    "print('RMSLE= %f' % np.sqrt(metrics.mean_squared_log_error(ydev,ydev_hat2)))\n",
    "print('R2= %f' % metrics.r2_score(ydev,ydev_hat2))"
   ]
  },
  {
   "cell_type": "markdown",
   "metadata": {},
   "source": [
    "## SVM"
   ]
  },
  {
   "cell_type": "code",
   "execution_count": null,
   "metadata": {},
   "outputs": [],
   "source": [
    "a1"
   ]
  },
  {
   "cell_type": "code",
   "execution_count": null,
   "metadata": {},
   "outputs": [],
   "source": []
  },
  {
   "cell_type": "code",
   "execution_count": null,
   "metadata": {},
   "outputs": [],
   "source": []
  },
  {
   "cell_type": "markdown",
   "metadata": {},
   "source": [
    "### Summarization and Selection of Variables "
   ]
  },
  {
   "cell_type": "code",
   "execution_count": null,
   "metadata": {},
   "outputs": [],
   "source": [
    "varSel['Sum'] =  np.sum(varSel,axis=1)\n",
    "varSel"
   ]
  },
  {
   "cell_type": "code",
   "execution_count": null,
   "metadata": {},
   "outputs": [],
   "source": [
    "varSel.groupby('Sum')['Variable'].count()\n"
   ]
  },
  {
   "cell_type": "code",
   "execution_count": null,
   "metadata": {},
   "outputs": [],
   "source": [
    "varSel.loc[(varSel['Sum']>=2)]\n"
   ]
  },
  {
   "cell_type": "code",
   "execution_count": null,
   "metadata": {},
   "outputs": [],
   "source": [
    "varSel.loc[(varSel['Sum']>=3)]"
   ]
  },
  {
   "cell_type": "code",
   "execution_count": null,
   "metadata": {},
   "outputs": [],
   "source": [
    "l=list()\n",
    "varSel.loc[(varSel['Sum']>=3)]\n"
   ]
  },
  {
   "cell_type": "code",
   "execution_count": 74,
   "metadata": {},
   "outputs": [],
   "source": [
    "l=varSel.loc[(varSel['Sum']>=3)]['Variable'].tolist()"
   ]
  },
  {
   "cell_type": "code",
   "execution_count": 69,
   "metadata": {},
   "outputs": [
    {
     "data": {
      "text/plain": [
       "0                          item_nbr\n",
       "1                         store_nbr\n",
       "2                              Year\n",
       "4                     store_cluster\n",
       "8            min_prev_3months_sales\n",
       "9            max_prev_3months_sales\n",
       "12         total_month_transactions\n",
       "16    min_prev_3months_transactions\n",
       "19                        BEVERAGES\n",
       "29                         CLEANING\n",
       "34                      store_typeD\n",
       "80                        class1072\n",
       "87                        top5_item\n",
       "Name: Variable, dtype: object"
      ]
     },
     "execution_count": 69,
     "metadata": {},
     "output_type": "execute_result"
    }
   ],
   "source": [
    "l"
   ]
  },
  {
   "cell_type": "code",
   "execution_count": 49,
   "metadata": {},
   "outputs": [],
   "source": [
    "varSel.to_csv(\"c:/Users/Guy/Documents/DataScience/Data/varSel.csv\")"
   ]
  },
  {
   "cell_type": "markdown",
   "metadata": {},
   "source": [
    "We can now decide a threshold for selecting our variables!"
   ]
  }
 ],
 "metadata": {
  "kernelspec": {
   "display_name": "Python 3",
   "language": "python",
   "name": "python3"
  },
  "language_info": {
   "codemirror_mode": {
    "name": "ipython",
    "version": 3
   },
   "file_extension": ".py",
   "mimetype": "text/x-python",
   "name": "python",
   "nbconvert_exporter": "python",
   "pygments_lexer": "ipython3",
   "version": "3.7.1"
  }
 },
 "nbformat": 4,
 "nbformat_minor": 2
}
