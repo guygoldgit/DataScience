{
 "cells": [
  {
   "cell_type": "code",
   "execution_count": 13,
   "metadata": {},
   "outputs": [],
   "source": [
    "library(DBI)\n",
    "library(RSQLite)\n",
    "library(dplyr)\n",
    "library(ggplot2)"
   ]
  },
  {
   "cell_type": "code",
   "execution_count": 14,
   "metadata": {},
   "outputs": [],
   "source": [
    "df <- read.csv(\"/Users/Guy/Documents/DataScience/data/numeric_feature_table.csv\")"
   ]
  },
  {
   "cell_type": "code",
   "execution_count": 27,
   "metadata": {},
   "outputs": [
    {
     "data": {
      "text/html": [
       "<table>\n",
       "<caption>A data.frame: 6 × 97</caption>\n",
       "<thead>\n",
       "\t<tr><th></th><th scope=col>id</th><th scope=col>item_nbr</th><th scope=col>store_nbr</th><th scope=col>Year</th><th scope=col>month</th><th scope=col>store_cluster</th><th scope=col>prev_month_sales</th><th scope=col>prev_3month_sales</th><th scope=col>avg_prev_3months_sales</th><th scope=col>min_prev_3months_sales</th><th scope=col>...</th><th scope=col>item414353</th><th scope=col>top5_item</th><th scope=col>year2016</th><th scope=col>month7</th><th scope=col>month5</th><th scope=col>month6</th><th scope=col>month4</th><th scope=col>month8</th><th scope=col>top5_month</th><th scope=col>total_unit_sales</th></tr>\n",
       "\t<tr><th></th><th scope=col>&lt;int&gt;</th><th scope=col>&lt;int&gt;</th><th scope=col>&lt;int&gt;</th><th scope=col>&lt;int&gt;</th><th scope=col>&lt;int&gt;</th><th scope=col>&lt;int&gt;</th><th scope=col>&lt;dbl&gt;</th><th scope=col>&lt;dbl&gt;</th><th scope=col>&lt;dbl&gt;</th><th scope=col>&lt;dbl&gt;</th><th scope=col>...</th><th scope=col>&lt;int&gt;</th><th scope=col>&lt;int&gt;</th><th scope=col>&lt;int&gt;</th><th scope=col>&lt;int&gt;</th><th scope=col>&lt;int&gt;</th><th scope=col>&lt;int&gt;</th><th scope=col>&lt;int&gt;</th><th scope=col>&lt;int&gt;</th><th scope=col>&lt;int&gt;</th><th scope=col>&lt;dbl&gt;</th></tr>\n",
       "</thead>\n",
       "<tbody>\n",
       "\t<tr><th scope=row>1</th><td>1</td><td>1003679</td><td>1</td><td>2013</td><td>10</td><td>13</td><td>7.436898e-07</td><td>6.427949e-07</td><td>7.060924e-07</td><td>6.842175e-07</td><td>...</td><td>0</td><td>0</td><td>0</td><td>0</td><td>0</td><td>0</td><td>0</td><td>0</td><td>0</td><td>3.637586</td></tr>\n",
       "\t<tr><th scope=row>2</th><td>2</td><td>1003679</td><td>1</td><td>2014</td><td> 6</td><td>13</td><td>7.924480e-07</td><td>8.289726e-07</td><td>7.695696e-07</td><td>6.894849e-07</td><td>...</td><td>0</td><td>0</td><td>0</td><td>0</td><td>0</td><td>1</td><td>0</td><td>0</td><td>1</td><td>3.663562</td></tr>\n",
       "\t<tr><th scope=row>3</th><td>3</td><td>1003679</td><td>1</td><td>2015</td><td> 1</td><td>13</td><td>1.139009e-06</td><td>7.272208e-07</td><td>9.598006e-07</td><td>6.788059e-07</td><td>...</td><td>0</td><td>0</td><td>0</td><td>0</td><td>0</td><td>0</td><td>0</td><td>0</td><td>0</td><td>3.784190</td></tr>\n",
       "\t<tr><th scope=row>4</th><td>4</td><td>1003679</td><td>1</td><td>2015</td><td> 4</td><td>13</td><td>7.893375e-07</td><td>7.184410e-07</td><td>8.082575e-07</td><td>7.861772e-07</td><td>...</td><td>0</td><td>0</td><td>0</td><td>0</td><td>0</td><td>0</td><td>1</td><td>0</td><td>1</td><td>4.343805</td></tr>\n",
       "\t<tr><th scope=row>5</th><td>5</td><td>1003679</td><td>1</td><td>2015</td><td> 9</td><td>13</td><td>7.184410e-07</td><td>8.508061e-07</td><td>7.272208e-07</td><td>7.139003e-07</td><td>...</td><td>0</td><td>0</td><td>0</td><td>0</td><td>0</td><td>0</td><td>0</td><td>0</td><td>0</td><td>3.931826</td></tr>\n",
       "\t<tr><th scope=row>6</th><td>6</td><td>1003679</td><td>1</td><td>2015</td><td>10</td><td>13</td><td>7.476011e-07</td><td>7.272208e-07</td><td>7.228797e-07</td><td>7.092527e-07</td><td>...</td><td>0</td><td>0</td><td>0</td><td>0</td><td>0</td><td>0</td><td>0</td><td>0</td><td>0</td><td>3.761200</td></tr>\n",
       "</tbody>\n",
       "</table>\n"
      ],
      "text/latex": [
       "A data.frame: 6 × 97\n",
       "\\begin{tabular}{r|lllllllllllllllllllll}\n",
       "  & id & item\\_nbr & store\\_nbr & Year & month & store\\_cluster & prev\\_month\\_sales & prev\\_3month\\_sales & avg\\_prev\\_3months\\_sales & min\\_prev\\_3months\\_sales & ... & item414353 & top5\\_item & year2016 & month7 & month5 & month6 & month4 & month8 & top5\\_month & total\\_unit\\_sales\\\\\n",
       "  & <int> & <int> & <int> & <int> & <int> & <int> & <dbl> & <dbl> & <dbl> & <dbl> & ... & <int> & <int> & <int> & <int> & <int> & <int> & <int> & <int> & <int> & <dbl>\\\\\n",
       "\\hline\n",
       "\t1 & 1 & 1003679 & 1 & 2013 & 10 & 13 & 7.436898e-07 & 6.427949e-07 & 7.060924e-07 & 6.842175e-07 & ... & 0 & 0 & 0 & 0 & 0 & 0 & 0 & 0 & 0 & 3.637586\\\\\n",
       "\t2 & 2 & 1003679 & 1 & 2014 &  6 & 13 & 7.924480e-07 & 8.289726e-07 & 7.695696e-07 & 6.894849e-07 & ... & 0 & 0 & 0 & 0 & 0 & 1 & 0 & 0 & 1 & 3.663562\\\\\n",
       "\t3 & 3 & 1003679 & 1 & 2015 &  1 & 13 & 1.139009e-06 & 7.272208e-07 & 9.598006e-07 & 6.788059e-07 & ... & 0 & 0 & 0 & 0 & 0 & 0 & 0 & 0 & 0 & 3.784190\\\\\n",
       "\t4 & 4 & 1003679 & 1 & 2015 &  4 & 13 & 7.893375e-07 & 7.184410e-07 & 8.082575e-07 & 7.861772e-07 & ... & 0 & 0 & 0 & 0 & 0 & 0 & 1 & 0 & 1 & 4.343805\\\\\n",
       "\t5 & 5 & 1003679 & 1 & 2015 &  9 & 13 & 7.184410e-07 & 8.508061e-07 & 7.272208e-07 & 7.139003e-07 & ... & 0 & 0 & 0 & 0 & 0 & 0 & 0 & 0 & 0 & 3.931826\\\\\n",
       "\t6 & 6 & 1003679 & 1 & 2015 & 10 & 13 & 7.476011e-07 & 7.272208e-07 & 7.228797e-07 & 7.092527e-07 & ... & 0 & 0 & 0 & 0 & 0 & 0 & 0 & 0 & 0 & 3.761200\\\\\n",
       "\\end{tabular}\n"
      ],
      "text/markdown": [
       "\n",
       "A data.frame: 6 × 97\n",
       "\n",
       "| <!--/--> | id &lt;int&gt; | item_nbr &lt;int&gt; | store_nbr &lt;int&gt; | Year &lt;int&gt; | month &lt;int&gt; | store_cluster &lt;int&gt; | prev_month_sales &lt;dbl&gt; | prev_3month_sales &lt;dbl&gt; | avg_prev_3months_sales &lt;dbl&gt; | min_prev_3months_sales &lt;dbl&gt; | ... ... | item414353 &lt;int&gt; | top5_item &lt;int&gt; | year2016 &lt;int&gt; | month7 &lt;int&gt; | month5 &lt;int&gt; | month6 &lt;int&gt; | month4 &lt;int&gt; | month8 &lt;int&gt; | top5_month &lt;int&gt; | total_unit_sales &lt;dbl&gt; |\n",
       "|---|---|---|---|---|---|---|---|---|---|---|---|---|---|---|---|---|---|---|---|---|---|\n",
       "| 1 | 1 | 1003679 | 1 | 2013 | 10 | 13 | 7.436898e-07 | 6.427949e-07 | 7.060924e-07 | 6.842175e-07 | ... | 0 | 0 | 0 | 0 | 0 | 0 | 0 | 0 | 0 | 3.637586 |\n",
       "| 2 | 2 | 1003679 | 1 | 2014 |  6 | 13 | 7.924480e-07 | 8.289726e-07 | 7.695696e-07 | 6.894849e-07 | ... | 0 | 0 | 0 | 0 | 0 | 1 | 0 | 0 | 1 | 3.663562 |\n",
       "| 3 | 3 | 1003679 | 1 | 2015 |  1 | 13 | 1.139009e-06 | 7.272208e-07 | 9.598006e-07 | 6.788059e-07 | ... | 0 | 0 | 0 | 0 | 0 | 0 | 0 | 0 | 0 | 3.784190 |\n",
       "| 4 | 4 | 1003679 | 1 | 2015 |  4 | 13 | 7.893375e-07 | 7.184410e-07 | 8.082575e-07 | 7.861772e-07 | ... | 0 | 0 | 0 | 0 | 0 | 0 | 1 | 0 | 1 | 4.343805 |\n",
       "| 5 | 5 | 1003679 | 1 | 2015 |  9 | 13 | 7.184410e-07 | 8.508061e-07 | 7.272208e-07 | 7.139003e-07 | ... | 0 | 0 | 0 | 0 | 0 | 0 | 0 | 0 | 0 | 3.931826 |\n",
       "| 6 | 6 | 1003679 | 1 | 2015 | 10 | 13 | 7.476011e-07 | 7.272208e-07 | 7.228797e-07 | 7.092527e-07 | ... | 0 | 0 | 0 | 0 | 0 | 0 | 0 | 0 | 0 | 3.761200 |\n",
       "\n"
      ],
      "text/plain": [
       "  id item_nbr store_nbr Year month store_cluster prev_month_sales\n",
       "1 1  1003679  1         2013 10    13            7.436898e-07    \n",
       "2 2  1003679  1         2014  6    13            7.924480e-07    \n",
       "3 3  1003679  1         2015  1    13            1.139009e-06    \n",
       "4 4  1003679  1         2015  4    13            7.893375e-07    \n",
       "5 5  1003679  1         2015  9    13            7.184410e-07    \n",
       "6 6  1003679  1         2015 10    13            7.476011e-07    \n",
       "  prev_3month_sales avg_prev_3months_sales min_prev_3months_sales ...\n",
       "1 6.427949e-07      7.060924e-07           6.842175e-07           ...\n",
       "2 8.289726e-07      7.695696e-07           6.894849e-07           ...\n",
       "3 7.272208e-07      9.598006e-07           6.788059e-07           ...\n",
       "4 7.184410e-07      8.082575e-07           7.861772e-07           ...\n",
       "5 8.508061e-07      7.272208e-07           7.139003e-07           ...\n",
       "6 7.272208e-07      7.228797e-07           7.092527e-07           ...\n",
       "  item414353 top5_item year2016 month7 month5 month6 month4 month8 top5_month\n",
       "1 0          0         0        0      0      0      0      0      0         \n",
       "2 0          0         0        0      0      1      0      0      1         \n",
       "3 0          0         0        0      0      0      0      0      0         \n",
       "4 0          0         0        0      0      0      1      0      1         \n",
       "5 0          0         0        0      0      0      0      0      0         \n",
       "6 0          0         0        0      0      0      0      0      0         \n",
       "  total_unit_sales\n",
       "1 3.637586        \n",
       "2 3.663562        \n",
       "3 3.784190        \n",
       "4 4.343805        \n",
       "5 3.931826        \n",
       "6 3.761200        "
      ]
     },
     "metadata": {},
     "output_type": "display_data"
    }
   ],
   "source": [
    "head(df)"
   ]
  },
  {
   "cell_type": "code",
   "execution_count": 31,
   "metadata": {},
   "outputs": [
    {
     "data": {
      "text/html": [
       "<style>\n",
       ".list-inline {list-style: none; margin:0; padding: 0}\n",
       ".list-inline>li {display: inline-block}\n",
       ".list-inline>li:not(:last-child)::after {content: \"\\00b7\"; padding: 0 .5ex}\n",
       "</style>\n",
       "<ol class=list-inline><li>1734047</li><li>97</li></ol>\n"
      ],
      "text/latex": [
       "\\begin{enumerate*}\n",
       "\\item 1734047\n",
       "\\item 97\n",
       "\\end{enumerate*}\n"
      ],
      "text/markdown": [
       "1. 1734047\n",
       "2. 97\n",
       "\n",
       "\n"
      ],
      "text/plain": [
       "[1] 1734047      97"
      ]
     },
     "metadata": {},
     "output_type": "display_data"
    }
   ],
   "source": [
    "dim(df)"
   ]
  },
  {
   "cell_type": "code",
   "execution_count": 28,
   "metadata": {},
   "outputs": [],
   "source": [
    "minmax <- function(x) {\n",
    "    return(((x-min(x,na.rm=T))/(max(x,na.rm=T)-min(x,na.rm=T))))\n",
    "}"
   ]
  },
  {
   "cell_type": "code",
   "execution_count": 17,
   "metadata": {},
   "outputs": [],
   "source": [
    "nf<- c()\n",
    "for (v in names(df)){\n",
    "    if ((!v %in% c('Year','month','store_nbr','item_nbr'))&(is.numeric(df[[v]])==T)&\n",
    "        (max(df[[v]],na.rm=T)>1 & length(unique(df[[v]]))>3))  {\n",
    "        nf<- c(nf,v)\n",
    "    } \n",
    "}"
   ]
  },
  {
   "cell_type": "code",
   "execution_count": 19,
   "metadata": {},
   "outputs": [],
   "source": [
    "nf<-nf[3:18]"
   ]
  },
  {
   "cell_type": "code",
   "execution_count": 18,
   "metadata": {},
   "outputs": [
    {
     "data": {
      "text/html": [
       "<style>\n",
       ".list-inline {list-style: none; margin:0; padding: 0}\n",
       ".list-inline>li {display: inline-block}\n",
       ".list-inline>li:not(:last-child)::after {content: \"\\00b7\"; padding: 0 .5ex}\n",
       "</style>\n",
       "<ol class=list-inline><li>'id'</li><li>'store_cluster'</li><li>'prev_month_sales'</li><li>'prev_3month_sales'</li><li>'avg_prev_3months_sales'</li><li>'min_prev_3months_sales'</li><li>'max_prev_3months_sales'</li><li>'monthly_oilprice_avg'</li><li>'total_month_holidays'</li><li>'total_month_transactions'</li><li>'prev_month_transactions'</li><li>'prev_3month_transactions'</li><li>'avg_prev_3months_transactions'</li><li>'min_prev_3months_transactions'</li><li>'max_prev_3months_transactions'</li><li>'total_city_sales'</li><li>'sales_perc'</li><li>'total_unit_sales'</li></ol>\n"
      ],
      "text/latex": [
       "\\begin{enumerate*}\n",
       "\\item 'id'\n",
       "\\item 'store\\_cluster'\n",
       "\\item 'prev\\_month\\_sales'\n",
       "\\item 'prev\\_3month\\_sales'\n",
       "\\item 'avg\\_prev\\_3months\\_sales'\n",
       "\\item 'min\\_prev\\_3months\\_sales'\n",
       "\\item 'max\\_prev\\_3months\\_sales'\n",
       "\\item 'monthly\\_oilprice\\_avg'\n",
       "\\item 'total\\_month\\_holidays'\n",
       "\\item 'total\\_month\\_transactions'\n",
       "\\item 'prev\\_month\\_transactions'\n",
       "\\item 'prev\\_3month\\_transactions'\n",
       "\\item 'avg\\_prev\\_3months\\_transactions'\n",
       "\\item 'min\\_prev\\_3months\\_transactions'\n",
       "\\item 'max\\_prev\\_3months\\_transactions'\n",
       "\\item 'total\\_city\\_sales'\n",
       "\\item 'sales\\_perc'\n",
       "\\item 'total\\_unit\\_sales'\n",
       "\\end{enumerate*}\n"
      ],
      "text/markdown": [
       "1. 'id'\n",
       "2. 'store_cluster'\n",
       "3. 'prev_month_sales'\n",
       "4. 'prev_3month_sales'\n",
       "5. 'avg_prev_3months_sales'\n",
       "6. 'min_prev_3months_sales'\n",
       "7. 'max_prev_3months_sales'\n",
       "8. 'monthly_oilprice_avg'\n",
       "9. 'total_month_holidays'\n",
       "10. 'total_month_transactions'\n",
       "11. 'prev_month_transactions'\n",
       "12. 'prev_3month_transactions'\n",
       "13. 'avg_prev_3months_transactions'\n",
       "14. 'min_prev_3months_transactions'\n",
       "15. 'max_prev_3months_transactions'\n",
       "16. 'total_city_sales'\n",
       "17. 'sales_perc'\n",
       "18. 'total_unit_sales'\n",
       "\n",
       "\n"
      ],
      "text/plain": [
       " [1] \"id\"                            \"store_cluster\"                \n",
       " [3] \"prev_month_sales\"              \"prev_3month_sales\"            \n",
       " [5] \"avg_prev_3months_sales\"        \"min_prev_3months_sales\"       \n",
       " [7] \"max_prev_3months_sales\"        \"monthly_oilprice_avg\"         \n",
       " [9] \"total_month_holidays\"          \"total_month_transactions\"     \n",
       "[11] \"prev_month_transactions\"       \"prev_3month_transactions\"     \n",
       "[13] \"avg_prev_3months_transactions\" \"min_prev_3months_transactions\"\n",
       "[15] \"max_prev_3months_transactions\" \"total_city_sales\"             \n",
       "[17] \"sales_perc\"                    \"total_unit_sales\"             "
      ]
     },
     "metadata": {},
     "output_type": "display_data"
    }
   ],
   "source": [
    "nf"
   ]
  },
  {
   "cell_type": "code",
   "execution_count": 20,
   "metadata": {},
   "outputs": [
    {
     "data": {
      "text/html": [
       "<style>\n",
       ".list-inline {list-style: none; margin:0; padding: 0}\n",
       ".list-inline>li {display: inline-block}\n",
       ".list-inline>li:not(:last-child)::after {content: \"\\00b7\"; padding: 0 .5ex}\n",
       "</style>\n",
       "<ol class=list-inline><li>'prev_month_sales'</li><li>'prev_3month_sales'</li><li>'avg_prev_3months_sales'</li><li>'min_prev_3months_sales'</li><li>'max_prev_3months_sales'</li><li>'monthly_oilprice_avg'</li><li>'total_month_holidays'</li><li>'total_month_transactions'</li><li>'prev_month_transactions'</li><li>'prev_3month_transactions'</li><li>'avg_prev_3months_transactions'</li><li>'min_prev_3months_transactions'</li><li>'max_prev_3months_transactions'</li><li>'total_city_sales'</li><li>'sales_perc'</li><li>'total_unit_sales'</li></ol>\n"
      ],
      "text/latex": [
       "\\begin{enumerate*}\n",
       "\\item 'prev\\_month\\_sales'\n",
       "\\item 'prev\\_3month\\_sales'\n",
       "\\item 'avg\\_prev\\_3months\\_sales'\n",
       "\\item 'min\\_prev\\_3months\\_sales'\n",
       "\\item 'max\\_prev\\_3months\\_sales'\n",
       "\\item 'monthly\\_oilprice\\_avg'\n",
       "\\item 'total\\_month\\_holidays'\n",
       "\\item 'total\\_month\\_transactions'\n",
       "\\item 'prev\\_month\\_transactions'\n",
       "\\item 'prev\\_3month\\_transactions'\n",
       "\\item 'avg\\_prev\\_3months\\_transactions'\n",
       "\\item 'min\\_prev\\_3months\\_transactions'\n",
       "\\item 'max\\_prev\\_3months\\_transactions'\n",
       "\\item 'total\\_city\\_sales'\n",
       "\\item 'sales\\_perc'\n",
       "\\item 'total\\_unit\\_sales'\n",
       "\\end{enumerate*}\n"
      ],
      "text/markdown": [
       "1. 'prev_month_sales'\n",
       "2. 'prev_3month_sales'\n",
       "3. 'avg_prev_3months_sales'\n",
       "4. 'min_prev_3months_sales'\n",
       "5. 'max_prev_3months_sales'\n",
       "6. 'monthly_oilprice_avg'\n",
       "7. 'total_month_holidays'\n",
       "8. 'total_month_transactions'\n",
       "9. 'prev_month_transactions'\n",
       "10. 'prev_3month_transactions'\n",
       "11. 'avg_prev_3months_transactions'\n",
       "12. 'min_prev_3months_transactions'\n",
       "13. 'max_prev_3months_transactions'\n",
       "14. 'total_city_sales'\n",
       "15. 'sales_perc'\n",
       "16. 'total_unit_sales'\n",
       "\n",
       "\n"
      ],
      "text/plain": [
       " [1] \"prev_month_sales\"              \"prev_3month_sales\"            \n",
       " [3] \"avg_prev_3months_sales\"        \"min_prev_3months_sales\"       \n",
       " [5] \"max_prev_3months_sales\"        \"monthly_oilprice_avg\"         \n",
       " [7] \"total_month_holidays\"          \"total_month_transactions\"     \n",
       " [9] \"prev_month_transactions\"       \"prev_3month_transactions\"     \n",
       "[11] \"avg_prev_3months_transactions\" \"min_prev_3months_transactions\"\n",
       "[13] \"max_prev_3months_transactions\" \"total_city_sales\"             \n",
       "[15] \"sales_perc\"                    \"total_unit_sales\"             "
      ]
     },
     "metadata": {},
     "output_type": "display_data"
    }
   ],
   "source": [
    "nf"
   ]
  },
  {
   "cell_type": "code",
   "execution_count": 21,
   "metadata": {},
   "outputs": [],
   "source": [
    "nf <- nf[1:15]"
   ]
  },
  {
   "cell_type": "code",
   "execution_count": 22,
   "metadata": {},
   "outputs": [
    {
     "data": {
      "text/html": [
       "<style>\n",
       ".list-inline {list-style: none; margin:0; padding: 0}\n",
       ".list-inline>li {display: inline-block}\n",
       ".list-inline>li:not(:last-child)::after {content: \"\\00b7\"; padding: 0 .5ex}\n",
       "</style>\n",
       "<ol class=list-inline><li>'prev_month_sales'</li><li>'prev_3month_sales'</li><li>'avg_prev_3months_sales'</li><li>'min_prev_3months_sales'</li><li>'max_prev_3months_sales'</li><li>'monthly_oilprice_avg'</li><li>'total_month_holidays'</li><li>'total_month_transactions'</li><li>'prev_month_transactions'</li><li>'prev_3month_transactions'</li><li>'avg_prev_3months_transactions'</li><li>'min_prev_3months_transactions'</li><li>'max_prev_3months_transactions'</li><li>'total_city_sales'</li><li>'sales_perc'</li></ol>\n"
      ],
      "text/latex": [
       "\\begin{enumerate*}\n",
       "\\item 'prev\\_month\\_sales'\n",
       "\\item 'prev\\_3month\\_sales'\n",
       "\\item 'avg\\_prev\\_3months\\_sales'\n",
       "\\item 'min\\_prev\\_3months\\_sales'\n",
       "\\item 'max\\_prev\\_3months\\_sales'\n",
       "\\item 'monthly\\_oilprice\\_avg'\n",
       "\\item 'total\\_month\\_holidays'\n",
       "\\item 'total\\_month\\_transactions'\n",
       "\\item 'prev\\_month\\_transactions'\n",
       "\\item 'prev\\_3month\\_transactions'\n",
       "\\item 'avg\\_prev\\_3months\\_transactions'\n",
       "\\item 'min\\_prev\\_3months\\_transactions'\n",
       "\\item 'max\\_prev\\_3months\\_transactions'\n",
       "\\item 'total\\_city\\_sales'\n",
       "\\item 'sales\\_perc'\n",
       "\\end{enumerate*}\n"
      ],
      "text/markdown": [
       "1. 'prev_month_sales'\n",
       "2. 'prev_3month_sales'\n",
       "3. 'avg_prev_3months_sales'\n",
       "4. 'min_prev_3months_sales'\n",
       "5. 'max_prev_3months_sales'\n",
       "6. 'monthly_oilprice_avg'\n",
       "7. 'total_month_holidays'\n",
       "8. 'total_month_transactions'\n",
       "9. 'prev_month_transactions'\n",
       "10. 'prev_3month_transactions'\n",
       "11. 'avg_prev_3months_transactions'\n",
       "12. 'min_prev_3months_transactions'\n",
       "13. 'max_prev_3months_transactions'\n",
       "14. 'total_city_sales'\n",
       "15. 'sales_perc'\n",
       "\n",
       "\n"
      ],
      "text/plain": [
       " [1] \"prev_month_sales\"              \"prev_3month_sales\"            \n",
       " [3] \"avg_prev_3months_sales\"        \"min_prev_3months_sales\"       \n",
       " [5] \"max_prev_3months_sales\"        \"monthly_oilprice_avg\"         \n",
       " [7] \"total_month_holidays\"          \"total_month_transactions\"     \n",
       " [9] \"prev_month_transactions\"       \"prev_3month_transactions\"     \n",
       "[11] \"avg_prev_3months_transactions\" \"min_prev_3months_transactions\"\n",
       "[13] \"max_prev_3months_transactions\" \"total_city_sales\"             \n",
       "[15] \"sales_perc\"                   "
      ]
     },
     "metadata": {},
     "output_type": "display_data"
    }
   ],
   "source": [
    "nf"
   ]
  },
  {
   "cell_type": "code",
   "execution_count": 23,
   "metadata": {},
   "outputs": [],
   "source": [
    "df[,nf] <- minmax(df[,nf])\n"
   ]
  },
  {
   "cell_type": "code",
   "execution_count": 24,
   "metadata": {},
   "outputs": [
    {
     "name": "stderr",
     "output_type": "stream",
     "text": [
      "Warning message:\n",
      "\"Use of `df[[v]]` is discouraged. Use `.data[[v]]` instead.\"\n",
      "Warning message:\n",
      "\"Use of `df[[v]]` is discouraged. Use `.data[[v]]` instead.\"\n"
     ]
    },
    {
     "data": {
      "image/png": "[encoded data removed]",
      "text/plain": [
       "plot without title"
      ]
     },
     "metadata": {
      "image/png": {
       "height": 420,
       "width": 420
      }
     },
     "output_type": "display_data"
    },
    {
     "name": "stderr",
     "output_type": "stream",
     "text": [
      "Warning message:\n",
      "\"Use of `df[[v]]` is discouraged. Use `.data[[v]]` instead.\"\n"
     ]
    },
    {
     "data": {
      "image/png": "[encoded data removed]",
      "text/plain": [
       "plot without title"
      ]
     },
     "metadata": {
      "image/png": {
       "height": 420,
       "width": 420
      }
     },
     "output_type": "display_data"
    },
    {
     "name": "stderr",
     "output_type": "stream",
     "text": [
      "Warning message:\n",
      "\"Use of `df[[v]]` is discouraged. Use `.data[[v]]` instead.\"\n"
     ]
    },
    {
     "data": {
      "image/png": "[encoded data removed]",
      "text/plain": [
       "plot without title"
      ]
     },
     "metadata": {
      "image/png": {
       "height": 420,
       "width": 420
      }
     },
     "output_type": "display_data"
    },
    {
     "name": "stderr",
     "output_type": "stream",
     "text": [
      "Warning message:\n",
      "\"Use of `df[[v]]` is discouraged. Use `.data[[v]]` instead.\"\n"
     ]
    },
    {
     "data": {
      "image/png": "[encoded data removed]",
      "text/plain": [
       "plot without title"
      ]
     },
     "metadata": {
      "image/png": {
       "height": 420,
       "width": 420
      }
     },
     "output_type": "display_data"
    },
    {
     "name": "stderr",
     "output_type": "stream",
     "text": [
      "Warning message:\n",
      "\"Use of `df[[v]]` is discouraged. Use `.data[[v]]` instead.\"\n"
     ]
    },
    {
     "data": {
      "image/png": "[encoded data removed]",
      "text/plain": [
       "plot without title"
      ]
     },
     "metadata": {
      "image/png": {
       "height": 420,
       "width": 420
      }
     },
     "output_type": "display_data"
    },
    {
     "name": "stderr",
     "output_type": "stream",
     "text": [
      "Warning message:\n",
      "\"Use of `df[[v]]` is discouraged. Use `.data[[v]]` instead.\"\n"
     ]
    },
    {
     "data": {
      "image/png": "[encoded data removed]",
      "text/plain": [
       "plot without title"
      ]
     },
     "metadata": {
      "image/png": {
       "height": 420,
       "width": 420
      }
     },
     "output_type": "display_data"
    },
    {
     "name": "stderr",
     "output_type": "stream",
     "text": [
      "Warning message:\n",
      "\"Use of `df[[v]]` is discouraged. Use `.data[[v]]` instead.\"\n"
     ]
    },
    {
     "data": {
      "image/png": "[encoded data removed]",
      "text/plain": [
       "plot without title"
      ]
     },
     "metadata": {
      "image/png": {
       "height": 420,
       "width": 420
      }
     },
     "output_type": "display_data"
    },
    {
     "name": "stderr",
     "output_type": "stream",
     "text": [
      "Warning message:\n",
      "\"Use of `df[[v]]` is discouraged. Use `.data[[v]]` instead.\"\n"
     ]
    },
    {
     "data": {
      "image/png": "[encoded data removed]",
      "text/plain": [
       "plot without title"
      ]
     },
     "metadata": {
      "image/png": {
       "height": 420,
       "width": 420
      }
     },
     "output_type": "display_data"
    },
    {
     "name": "stderr",
     "output_type": "stream",
     "text": [
      "Warning message:\n",
      "\"Use of `df[[v]]` is discouraged. Use `.data[[v]]` instead.\"\n"
     ]
    },
    {
     "data": {
      "image/png": "[encoded data removed]",
      "text/plain": [
       "plot without title"
      ]
     },
     "metadata": {
      "image/png": {
       "height": 420,
       "width": 420
      }
     },
     "output_type": "display_data"
    },
    {
     "name": "stderr",
     "output_type": "stream",
     "text": [
      "Warning message:\n",
      "\"Use of `df[[v]]` is discouraged. Use `.data[[v]]` instead.\"\n"
     ]
    },
    {
     "data": {
      "image/png": "[encoded data removed]",
      "text/plain": [
       "plot without title"
      ]
     },
     "metadata": {
      "image/png": {
       "height": 420,
       "width": 420
      }
     },
     "output_type": "display_data"
    },
    {
     "name": "stderr",
     "output_type": "stream",
     "text": [
      "Warning message:\n",
      "\"Use of `df[[v]]` is discouraged. Use `.data[[v]]` instead.\"\n"
     ]
    },
    {
     "data": {
      "image/png": "[encoded data removed]",
      "text/plain": [
       "plot without title"
      ]
     },
     "metadata": {
      "image/png": {
       "height": 420,
       "width": 420
      }
     },
     "output_type": "display_data"
    },
    {
     "name": "stderr",
     "output_type": "stream",
     "text": [
      "Warning message:\n",
      "\"Use of `df[[v]]` is discouraged. Use `.data[[v]]` instead.\"\n"
     ]
    },
    {
     "data": {
      "image/png": "[encoded data removed]",
      "text/plain": [
       "plot without title"
      ]
     },
     "metadata": {
      "image/png": {
       "height": 420,
       "width": 420
      }
     },
     "output_type": "display_data"
    },
    {
     "name": "stderr",
     "output_type": "stream",
     "text": [
      "Warning message:\n",
      "\"Use of `df[[v]]` is discouraged. Use `.data[[v]]` instead.\"\n"
     ]
    },
    {
     "data": {
      "image/png": "[encoded data removed]",
      "text/plain": [
       "plot without title"
      ]
     },
     "metadata": {
      "image/png": {
       "height": 420,
       "width": 420
      }
     },
     "output_type": "display_data"
    },
    {
     "name": "stderr",
     "output_type": "stream",
     "text": [
      "Warning message:\n",
      "\"Use of `df[[v]]` is discouraged. Use `.data[[v]]` instead.\"\n"
     ]
    },
    {
     "data": {
      "image/png": "[encoded data removed]",
      "text/plain": [
       "plot without title"
      ]
     },
     "metadata": {
      "image/png": {
       "height": 420,
       "width": 420
      }
     },
     "output_type": "display_data"
    },
    {
     "data": {
      "image/png": "[encoded data removed]",
      "text/plain": [
       "plot without title"
      ]
     },
     "metadata": {
      "image/png": {
       "height": 420,
       "width": 420
      }
     },
     "output_type": "display_data"
    }
   ],
   "source": [
    "for (v in nf){\n",
    "    print(ggplot(df,aes(x=df[[v]])) +\n",
    "    geom_density(adjust=2)+ xlab(v))\n",
    "}"
   ]
  },
  {
   "cell_type": "code",
   "execution_count": 30,
   "metadata": {},
   "outputs": [],
   "source": [
    "df$item_nbr <- as.character(df$item_nbr)\n",
    "df$Year <- as.character(df$Year)\n",
    "df$store_nbr <- as.character(df$store_nbr)"
   ]
  },
  {
   "cell_type": "code",
   "execution_count": 38,
   "metadata": {},
   "outputs": [],
   "source": [
    "items <- df %>% group_by(item_nbr) %>% summarize(item_per=n()/1734047)"
   ]
  },
  {
   "cell_type": "code",
   "execution_count": 39,
   "metadata": {},
   "outputs": [],
   "source": [
    "stores <- df %>% group_by(store_nbr) %>% summarize(store_per=n()/1734047)"
   ]
  },
  {
   "cell_type": "code",
   "execution_count": 40,
   "metadata": {},
   "outputs": [],
   "source": [
    "Years <- df %>% group_by(Year) %>% summarize(Year_per=n()/1734047)"
   ]
  },
  {
   "cell_type": "code",
   "execution_count": 41,
   "metadata": {
    "scrolled": true
   },
   "outputs": [
    {
     "data": {
      "text/html": [
       "<table>\n",
       "<caption>A tibble: 51 × 2</caption>\n",
       "<thead>\n",
       "\t<tr><th scope=col>store_nbr</th><th scope=col>store_per</th></tr>\n",
       "\t<tr><th scope=col>&lt;chr&gt;</th><th scope=col>&lt;dbl&gt;</th></tr>\n",
       "</thead>\n",
       "<tbody>\n",
       "\t<tr><td>1 </td><td>0.0225253410</td></tr>\n",
       "\t<tr><td>10</td><td>0.0207837504</td></tr>\n",
       "\t<tr><td>11</td><td>0.0224503719</td></tr>\n",
       "\t<tr><td>12</td><td>0.0210547926</td></tr>\n",
       "\t<tr><td>13</td><td>0.0209181181</td></tr>\n",
       "\t<tr><td>14</td><td>0.0208143147</td></tr>\n",
       "\t<tr><td>15</td><td>0.0217214412</td></tr>\n",
       "\t<tr><td>16</td><td>0.0213592826</td></tr>\n",
       "\t<tr><td>17</td><td>0.0218615758</td></tr>\n",
       "\t<tr><td>18</td><td>0.0213321784</td></tr>\n",
       "\t<tr><td>19</td><td>0.0214596260</td></tr>\n",
       "\t<tr><td>2 </td><td>0.0231914129</td></tr>\n",
       "\t<tr><td>20</td><td>0.0128179917</td></tr>\n",
       "\t<tr><td>21</td><td>0.0104864516</td></tr>\n",
       "\t<tr><td>22</td><td>0.0087339040</td></tr>\n",
       "\t<tr><td>23</td><td>0.0219538455</td></tr>\n",
       "\t<tr><td>24</td><td>0.0217099075</td></tr>\n",
       "\t<tr><td>25</td><td>0.0203685367</td></tr>\n",
       "\t<tr><td>26</td><td>0.0206874439</td></tr>\n",
       "\t<tr><td>27</td><td>0.0219913301</td></tr>\n",
       "\t<tr><td>28</td><td>0.0228892296</td></tr>\n",
       "\t<tr><td>29</td><td>0.0122568765</td></tr>\n",
       "\t<tr><td>3 </td><td>0.0160260939</td></tr>\n",
       "\t<tr><td>30</td><td>0.0206303520</td></tr>\n",
       "\t<tr><td>31</td><td>0.0226695124</td></tr>\n",
       "\t<tr><td>32</td><td>0.0192762941</td></tr>\n",
       "\t<tr><td>33</td><td>0.0219238579</td></tr>\n",
       "\t<tr><td>34</td><td>0.0224249977</td></tr>\n",
       "\t<tr><td>35</td><td>0.0188858779</td></tr>\n",
       "\t<tr><td>36</td><td>0.0211960806</td></tr>\n",
       "\t<tr><td>37</td><td>0.0227934998</td></tr>\n",
       "\t<tr><td>38</td><td>0.0224301879</td></tr>\n",
       "\t<tr><td>39</td><td>0.0230749224</td></tr>\n",
       "\t<tr><td>4 </td><td>0.0229278676</td></tr>\n",
       "\t<tr><td>40</td><td>0.0215611226</td></tr>\n",
       "\t<tr><td>41</td><td>0.0218719562</td></tr>\n",
       "\t<tr><td>42</td><td>0.0098123061</td></tr>\n",
       "\t<tr><td>43</td><td>0.0210922772</td></tr>\n",
       "\t<tr><td>46</td><td>0.0040696705</td></tr>\n",
       "\t<tr><td>48</td><td>0.0162896392</td></tr>\n",
       "\t<tr><td>49</td><td>0.0192832144</td></tr>\n",
       "\t<tr><td>5 </td><td>0.0229803460</td></tr>\n",
       "\t<tr><td>50</td><td>0.0231037567</td></tr>\n",
       "\t<tr><td>51</td><td>0.0225732059</td></tr>\n",
       "\t<tr><td>52</td><td>0.0008852125</td></tr>\n",
       "\t<tr><td>53</td><td>0.0164903258</td></tr>\n",
       "\t<tr><td>54</td><td>0.0200980712</td></tr>\n",
       "\t<tr><td>6 </td><td>0.0232438913</td></tr>\n",
       "\t<tr><td>7 </td><td>0.0227041136</td></tr>\n",
       "\t<tr><td>8 </td><td>0.0233471180</td></tr>\n",
       "\t<tr><td>9 </td><td>0.0229665055</td></tr>\n",
       "</tbody>\n",
       "</table>\n"
      ],
      "text/latex": [
       "A tibble: 51 × 2\n",
       "\\begin{tabular}{ll}\n",
       " store\\_nbr & store\\_per\\\\\n",
       " <chr> & <dbl>\\\\\n",
       "\\hline\n",
       "\t 1  & 0.0225253410\\\\\n",
       "\t 10 & 0.0207837504\\\\\n",
       "\t 11 & 0.0224503719\\\\\n",
       "\t 12 & 0.0210547926\\\\\n",
       "\t 13 & 0.0209181181\\\\\n",
       "\t 14 & 0.0208143147\\\\\n",
       "\t 15 & 0.0217214412\\\\\n",
       "\t 16 & 0.0213592826\\\\\n",
       "\t 17 & 0.0218615758\\\\\n",
       "\t 18 & 0.0213321784\\\\\n",
       "\t 19 & 0.0214596260\\\\\n",
       "\t 2  & 0.0231914129\\\\\n",
       "\t 20 & 0.0128179917\\\\\n",
       "\t 21 & 0.0104864516\\\\\n",
       "\t 22 & 0.0087339040\\\\\n",
       "\t 23 & 0.0219538455\\\\\n",
       "\t 24 & 0.0217099075\\\\\n",
       "\t 25 & 0.0203685367\\\\\n",
       "\t 26 & 0.0206874439\\\\\n",
       "\t 27 & 0.0219913301\\\\\n",
       "\t 28 & 0.0228892296\\\\\n",
       "\t 29 & 0.0122568765\\\\\n",
       "\t 3  & 0.0160260939\\\\\n",
       "\t 30 & 0.0206303520\\\\\n",
       "\t 31 & 0.0226695124\\\\\n",
       "\t 32 & 0.0192762941\\\\\n",
       "\t 33 & 0.0219238579\\\\\n",
       "\t 34 & 0.0224249977\\\\\n",
       "\t 35 & 0.0188858779\\\\\n",
       "\t 36 & 0.0211960806\\\\\n",
       "\t 37 & 0.0227934998\\\\\n",
       "\t 38 & 0.0224301879\\\\\n",
       "\t 39 & 0.0230749224\\\\\n",
       "\t 4  & 0.0229278676\\\\\n",
       "\t 40 & 0.0215611226\\\\\n",
       "\t 41 & 0.0218719562\\\\\n",
       "\t 42 & 0.0098123061\\\\\n",
       "\t 43 & 0.0210922772\\\\\n",
       "\t 46 & 0.0040696705\\\\\n",
       "\t 48 & 0.0162896392\\\\\n",
       "\t 49 & 0.0192832144\\\\\n",
       "\t 5  & 0.0229803460\\\\\n",
       "\t 50 & 0.0231037567\\\\\n",
       "\t 51 & 0.0225732059\\\\\n",
       "\t 52 & 0.0008852125\\\\\n",
       "\t 53 & 0.0164903258\\\\\n",
       "\t 54 & 0.0200980712\\\\\n",
       "\t 6  & 0.0232438913\\\\\n",
       "\t 7  & 0.0227041136\\\\\n",
       "\t 8  & 0.0233471180\\\\\n",
       "\t 9  & 0.0229665055\\\\\n",
       "\\end{tabular}\n"
      ],
      "text/markdown": [
       "\n",
       "A tibble: 51 × 2\n",
       "\n",
       "| store_nbr &lt;chr&gt; | store_per &lt;dbl&gt; |\n",
       "|---|---|\n",
       "| 1  | 0.0225253410 |\n",
       "| 10 | 0.0207837504 |\n",
       "| 11 | 0.0224503719 |\n",
       "| 12 | 0.0210547926 |\n",
       "| 13 | 0.0209181181 |\n",
       "| 14 | 0.0208143147 |\n",
       "| 15 | 0.0217214412 |\n",
       "| 16 | 0.0213592826 |\n",
       "| 17 | 0.0218615758 |\n",
       "| 18 | 0.0213321784 |\n",
       "| 19 | 0.0214596260 |\n",
       "| 2  | 0.0231914129 |\n",
       "| 20 | 0.0128179917 |\n",
       "| 21 | 0.0104864516 |\n",
       "| 22 | 0.0087339040 |\n",
       "| 23 | 0.0219538455 |\n",
       "| 24 | 0.0217099075 |\n",
       "| 25 | 0.0203685367 |\n",
       "| 26 | 0.0206874439 |\n",
       "| 27 | 0.0219913301 |\n",
       "| 28 | 0.0228892296 |\n",
       "| 29 | 0.0122568765 |\n",
       "| 3  | 0.0160260939 |\n",
       "| 30 | 0.0206303520 |\n",
       "| 31 | 0.0226695124 |\n",
       "| 32 | 0.0192762941 |\n",
       "| 33 | 0.0219238579 |\n",
       "| 34 | 0.0224249977 |\n",
       "| 35 | 0.0188858779 |\n",
       "| 36 | 0.0211960806 |\n",
       "| 37 | 0.0227934998 |\n",
       "| 38 | 0.0224301879 |\n",
       "| 39 | 0.0230749224 |\n",
       "| 4  | 0.0229278676 |\n",
       "| 40 | 0.0215611226 |\n",
       "| 41 | 0.0218719562 |\n",
       "| 42 | 0.0098123061 |\n",
       "| 43 | 0.0210922772 |\n",
       "| 46 | 0.0040696705 |\n",
       "| 48 | 0.0162896392 |\n",
       "| 49 | 0.0192832144 |\n",
       "| 5  | 0.0229803460 |\n",
       "| 50 | 0.0231037567 |\n",
       "| 51 | 0.0225732059 |\n",
       "| 52 | 0.0008852125 |\n",
       "| 53 | 0.0164903258 |\n",
       "| 54 | 0.0200980712 |\n",
       "| 6  | 0.0232438913 |\n",
       "| 7  | 0.0227041136 |\n",
       "| 8  | 0.0233471180 |\n",
       "| 9  | 0.0229665055 |\n",
       "\n"
      ],
      "text/plain": [
       "   store_nbr store_per   \n",
       "1  1         0.0225253410\n",
       "2  10        0.0207837504\n",
       "3  11        0.0224503719\n",
       "4  12        0.0210547926\n",
       "5  13        0.0209181181\n",
       "6  14        0.0208143147\n",
       "7  15        0.0217214412\n",
       "8  16        0.0213592826\n",
       "9  17        0.0218615758\n",
       "10 18        0.0213321784\n",
       "11 19        0.0214596260\n",
       "12 2         0.0231914129\n",
       "13 20        0.0128179917\n",
       "14 21        0.0104864516\n",
       "15 22        0.0087339040\n",
       "16 23        0.0219538455\n",
       "17 24        0.0217099075\n",
       "18 25        0.0203685367\n",
       "19 26        0.0206874439\n",
       "20 27        0.0219913301\n",
       "21 28        0.0228892296\n",
       "22 29        0.0122568765\n",
       "23 3         0.0160260939\n",
       "24 30        0.0206303520\n",
       "25 31        0.0226695124\n",
       "26 32        0.0192762941\n",
       "27 33        0.0219238579\n",
       "28 34        0.0224249977\n",
       "29 35        0.0188858779\n",
       "30 36        0.0211960806\n",
       "31 37        0.0227934998\n",
       "32 38        0.0224301879\n",
       "33 39        0.0230749224\n",
       "34 4         0.0229278676\n",
       "35 40        0.0215611226\n",
       "36 41        0.0218719562\n",
       "37 42        0.0098123061\n",
       "38 43        0.0210922772\n",
       "39 46        0.0040696705\n",
       "40 48        0.0162896392\n",
       "41 49        0.0192832144\n",
       "42 5         0.0229803460\n",
       "43 50        0.0231037567\n",
       "44 51        0.0225732059\n",
       "45 52        0.0008852125\n",
       "46 53        0.0164903258\n",
       "47 54        0.0200980712\n",
       "48 6         0.0232438913\n",
       "49 7         0.0227041136\n",
       "50 8         0.0233471180\n",
       "51 9         0.0229665055"
      ]
     },
     "metadata": {},
     "output_type": "display_data"
    }
   ],
   "source": [
    "stores"
   ]
  },
  {
   "cell_type": "code",
   "execution_count": 42,
   "metadata": {},
   "outputs": [],
   "source": [
    "dfsales <- df %>% select(id,total_unit_sales)"
   ]
  },
  {
   "cell_type": "code",
   "execution_count": 43,
   "metadata": {},
   "outputs": [],
   "source": [
    "df1 <- df[, !names(df) %in% c('total_unit_sales')]"
   ]
  },
  {
   "cell_type": "markdown",
   "metadata": {},
   "source": [
    "df2 <- left_join(df,)"
   ]
  },
  {
   "cell_type": "code",
   "execution_count": 25,
   "metadata": {},
   "outputs": [
    {
     "data": {
      "text/html": [
       "<table>\n",
       "<caption>A data.frame: 1734047 × 15</caption>\n",
       "<thead>\n",
       "\t<tr><th scope=col>prev_month_sales</th><th scope=col>prev_3month_sales</th><th scope=col>avg_prev_3months_sales</th><th scope=col>min_prev_3months_sales</th><th scope=col>max_prev_3months_sales</th><th scope=col>monthly_oilprice_avg</th><th scope=col>total_month_holidays</th><th scope=col>total_month_transactions</th><th scope=col>prev_month_transactions</th><th scope=col>prev_3month_transactions</th><th scope=col>avg_prev_3months_transactions</th><th scope=col>min_prev_3months_transactions</th><th scope=col>max_prev_3months_transactions</th><th scope=col>total_city_sales</th><th scope=col>sales_perc</th></tr>\n",
       "\t<tr><th scope=col>&lt;dbl&gt;</th><th scope=col>&lt;dbl&gt;</th><th scope=col>&lt;dbl&gt;</th><th scope=col>&lt;dbl&gt;</th><th scope=col>&lt;dbl&gt;</th><th scope=col>&lt;dbl&gt;</th><th scope=col>&lt;dbl&gt;</th><th scope=col>&lt;dbl&gt;</th><th scope=col>&lt;dbl&gt;</th><th scope=col>&lt;dbl&gt;</th><th scope=col>&lt;dbl&gt;</th><th scope=col>&lt;dbl&gt;</th><th scope=col>&lt;dbl&gt;</th><th scope=col>&lt;dbl&gt;</th><th scope=col>&lt;dbl&gt;</th></tr>\n",
       "</thead>\n",
       "<tbody>\n",
       "\t<tr><td>7.436898e-07</td><td>6.427949e-07</td><td>7.060924e-07</td><td>6.842175e-07</td><td>7.396995e-07</td><td>1.982866e-05</td><td>3.660398e-07</td><td>0.009169330</td><td>0.008797215</td><td>0.009455724</td><td>0.009003485</td><td>0.008797215</td><td>0.009169330</td><td>0.75534773</td><td>9.756374e-06</td></tr>\n",
       "\t<tr><td>7.924480e-07</td><td>8.289726e-07</td><td>7.695696e-07</td><td>6.894849e-07</td><td>8.101476e-07</td><td>2.086680e-05</td><td>7.610664e-07</td><td>0.009022380</td><td>0.009327538</td><td>0.008751984</td><td>0.009147472</td><td>0.009022380</td><td>0.009327538</td><td>0.84414277</td><td>9.889182e-06</td></tr>\n",
       "\t<tr><td>1.139009e-06</td><td>7.272208e-07</td><td>9.598006e-07</td><td>6.788059e-07</td><td>1.138474e-06</td><td>9.297395e-06</td><td>1.685264e-07</td><td>0.009342747</td><td>0.010573255</td><td>0.009191254</td><td>0.009472118</td><td>0.008500352</td><td>0.010573255</td><td>0.86654644</td><td>9.662024e-06</td></tr>\n",
       "\t<tr><td>7.893375e-07</td><td>7.184410e-07</td><td>8.082575e-07</td><td>7.861772e-07</td><td>8.263907e-07</td><td>1.072618e-05</td><td>9.585798e-07</td><td>0.009113039</td><td>0.009439923</td><td>0.009342747</td><td>0.008914801</td><td>0.008191442</td><td>0.009439923</td><td>0.86912216</td><td>9.796942e-06</td></tr>\n",
       "\t<tr><td>7.184410e-07</td><td>8.508061e-07</td><td>7.272208e-07</td><td>7.139003e-07</td><td>7.436898e-07</td><td>8.953826e-06</td><td>1.685264e-07</td><td>0.009121532</td><td>0.008820126</td><td>0.009454934</td><td>0.009087428</td><td>0.008820126</td><td>0.009320625</td><td>0.92333480</td><td>9.398021e-06</td></tr>\n",
       "\t<tr><td>7.476011e-07</td><td>7.272208e-07</td><td>7.228797e-07</td><td>7.092527e-07</td><td>7.436898e-07</td><td>9.100798e-06</td><td>3.660398e-07</td><td>0.009052995</td><td>0.009121532</td><td>0.009320625</td><td>0.008998218</td><td>0.008820126</td><td>0.009121532</td><td>0.88573414</td><td>9.290597e-06</td></tr>\n",
       "\t<tr><td>7.092527e-07</td><td>8.014960e-07</td><td>7.851124e-07</td><td>7.044931e-07</td><td>8.184360e-07</td><td>9.197331e-06</td><td>5.635531e-07</td><td>0.008964114</td><td>0.009237867</td><td>0.008424507</td><td>0.009111920</td><td>0.008964114</td><td>0.009237867</td><td>0.85235715</td><td>9.333642e-06</td></tr>\n",
       "\t<tr><td>6.732417e-07</td><td>8.157117e-07</td><td>6.859890e-07</td><td>6.675163e-07</td><td>7.139003e-07</td><td>8.804668e-06</td><td>7.610664e-07</td><td>0.008871282</td><td>0.008939030</td><td>0.008964114</td><td>0.008939556</td><td>0.008871282</td><td>0.009008357</td><td>0.74283258</td><td>8.993555e-06</td></tr>\n",
       "\t<tr><td>6.732417e-07</td><td>6.788059e-07</td><td>6.338155e-07</td><td>6.067840e-07</td><td>6.675163e-07</td><td>8.989660e-06</td><td>1.353606e-06</td><td>0.008540645</td><td>0.009011517</td><td>0.008871282</td><td>0.008806761</td><td>0.008540645</td><td>0.009011517</td><td>0.85560100</td><td>9.545335e-06</td></tr>\n",
       "\t<tr><td>1.088836e-06</td><td>6.732417e-07</td><td>9.160571e-07</td><td>6.219848e-07</td><td>1.088147e-06</td><td>1.034125e-05</td><td>1.685264e-07</td><td>0.008975174</td><td>0.010288441</td><td>0.009011517</td><td>0.009268087</td><td>0.008540645</td><td>0.010288441</td><td>0.85875369</td><td>9.594782e-06</td></tr>\n",
       "\t<tr><td>8.340373e-07</td><td>9.099105e-07</td><td>8.738996e-07</td><td>8.157117e-07</td><td>9.470534e-07</td><td>1.863791e-05</td><td>5.635531e-07</td><td>0.006671379</td><td>0.006537465</td><td>0.006008722</td><td>0.006571635</td><td>0.006506060</td><td>0.006671379</td><td>0.74694016</td><td>9.592767e-06</td></tr>\n",
       "\t<tr><td>8.641266e-07</td><td>7.955102e-07</td><td>8.690736e-07</td><td>8.340373e-07</td><td>9.047352e-07</td><td>2.013101e-05</td><td>9.585798e-07</td><td>0.006350222</td><td>0.006217888</td><td>0.006051187</td><td>0.006129336</td><td>0.005819899</td><td>0.006350222</td><td>0.84163613</td><td>1.010695e-05</td></tr>\n",
       "\t<tr><td>8.766053e-07</td><td>8.365218e-07</td><td>8.718457e-07</td><td>7.985258e-07</td><td>9.230830e-07</td><td>2.043115e-05</td><td>7.610664e-07</td><td>0.006253046</td><td>0.006283068</td><td>0.006350222</td><td>0.006345350</td><td>0.006253046</td><td>0.006499937</td><td>0.85874861</td><td>9.540579e-06</td></tr>\n",
       "\t<tr><td>7.551987e-07</td><td>8.014960e-07</td><td>7.741366e-07</td><td>7.476011e-07</td><td>8.157117e-07</td><td>1.664054e-05</td><td>3.660398e-07</td><td>0.005784939</td><td>0.006203470</td><td>0.006253046</td><td>0.006165679</td><td>0.005784939</td><td>0.006508628</td><td>0.90253889</td><td>9.758640e-06</td></tr>\n",
       "\t<tr><td>7.893375e-07</td><td>9.029795e-07</td><td>7.893375e-07</td><td>7.588906e-07</td><td>8.184360e-07</td><td>8.437939e-06</td><td>7.610664e-07</td><td>0.005933074</td><td>0.005791852</td><td>0.006071926</td><td>0.005856505</td><td>0.005791852</td><td>0.005933074</td><td>0.89835491</td><td>9.126638e-06</td></tr>\n",
       "\t<tr><td>8.044221e-07</td><td>7.228797e-07</td><td>9.696891e-07</td><td>8.014960e-07</td><td>1.074569e-06</td><td>1.053174e-05</td><td>3.660398e-07</td><td>0.004703159</td><td>0.005006342</td><td>0.004913313</td><td>0.005348566</td><td>0.004703159</td><td>0.006336199</td><td>0.74451962</td><td>9.426208e-06</td></tr>\n",
       "\t<tr><td>7.861772e-07</td><td>9.442114e-07</td><td>8.575786e-07</td><td>7.829655e-07</td><td>9.339296e-07</td><td>9.545741e-06</td><td>5.635531e-07</td><td>0.005349422</td><td>0.005243160</td><td>0.004703159</td><td>0.005253694</td><td>0.005168500</td><td>0.005349422</td><td>0.80875189</td><td>8.910208e-06</td></tr>\n",
       "\t<tr><td>7.730047e-07</td><td>9.354316e-07</td><td>7.328644e-07</td><td>4.776248e-07</td><td>8.157117e-07</td><td>9.458953e-06</td><td>7.610664e-07</td><td>0.002688523</td><td>0.005366408</td><td>0.005349422</td><td>0.004400634</td><td>0.002688523</td><td>0.005366408</td><td>0.35574125</td><td>8.567123e-06</td></tr>\n",
       "\t<tr><td>1.102784e-06</td><td>1.294982e-06</td><td>1.041641e-06</td><td>9.899953e-07</td><td>1.102142e-06</td><td>1.988111e-05</td><td>5.635531e-07</td><td>0.014940275</td><td>0.013687448</td><td>0.017566214</td><td>0.014240485</td><td>0.013687448</td><td>0.014940275</td><td>0.06191955</td><td>6.226485e-07</td></tr>\n",
       "\t<tr><td>1.184147e-06</td><td>9.911272e-07</td><td>1.090208e-06</td><td>1.009439e-06</td><td>1.183722e-06</td><td>2.086680e-05</td><td>7.610664e-07</td><td>0.014189724</td><td>0.014884971</td><td>0.014940275</td><td>0.014558218</td><td>0.014189724</td><td>0.014884971</td><td>0.05757755</td><td>6.475149e-07</td></tr>\n",
       "\t<tr><td>9.911272e-07</td><td>1.074569e-06</td><td>1.061838e-06</td><td>9.830643e-07</td><td>1.158802e-06</td><td>1.167664e-05</td><td>5.635531e-07</td><td>0.014435826</td><td>0.013739789</td><td>0.012790935</td><td>0.014042511</td><td>0.013739789</td><td>0.014435826</td><td>0.05984079</td><td>5.803200e-07</td></tr>\n",
       "\t<tr><td>9.721893e-07</td><td>1.159284e-06</td><td>9.746582e-07</td><td>9.442114e-07</td><td>1.004227e-06</td><td>8.437939e-06</td><td>7.610664e-07</td><td>0.014356820</td><td>0.013907872</td><td>0.014435826</td><td>0.013859416</td><td>0.013313555</td><td>0.014356820</td><td>0.05924914</td><td>5.748537e-07</td></tr>\n",
       "\t<tr><td>9.354316e-07</td><td>9.456375e-07</td><td>9.598006e-07</td><td>9.339296e-07</td><td>9.933717e-07</td><td>8.354170e-06</td><td>1.353606e-06</td><td>0.012959018</td><td>0.013621281</td><td>0.014356820</td><td>0.013367871</td><td>0.012959018</td><td>0.013621281</td><td>0.05082425</td><td>5.388947e-07</td></tr>\n",
       "\t<tr><td>9.413279e-07</td><td>9.606804e-07</td><td>9.442114e-07</td><td>9.354316e-07</td><td>9.566901e-07</td><td>8.895136e-06</td><td>1.685264e-07</td><td>0.013456950</td><td>0.013731691</td><td>0.012775924</td><td>0.013522261</td><td>0.013378142</td><td>0.013731691</td><td>0.04997375</td><td>5.946723e-07</td></tr>\n",
       "\t<tr><td>9.047352e-07</td><td>1.085365e-06</td><td>8.545972e-07</td><td>7.861772e-07</td><td>9.029795e-07</td><td>1.988111e-05</td><td>5.635531e-07</td><td>0.007273992</td><td>0.006513171</td><td>0.008002421</td><td>0.006879821</td><td>0.006513171</td><td>0.007273992</td><td>0.05122555</td><td>5.101059e-07</td></tr>\n",
       "\t<tr><td>1.001032e-06</td><td>7.893375e-07</td><td>9.364266e-07</td><td>8.315212e-07</td><td>9.999561e-07</td><td>2.086680e-05</td><td>7.610664e-07</td><td>0.007088527</td><td>0.007341344</td><td>0.007273992</td><td>0.007250686</td><td>0.007088527</td><td>0.007341344</td><td>0.04449381</td><td>4.937888e-07</td></tr>\n",
       "\t<tr><td>1.135780e-06</td><td>8.508061e-07</td><td>1.007370e-06</td><td>8.805956e-07</td><td>1.135236e-06</td><td>9.297395e-06</td><td>1.685264e-07</td><td>0.007138300</td><td>0.008019605</td><td>0.007223429</td><td>0.007453927</td><td>0.007138300</td><td>0.008019605</td><td>0.04933361</td><td>5.227352e-07</td></tr>\n",
       "\t<tr><td>7.924480e-07</td><td>8.597855e-07</td><td>8.445847e-07</td><td>7.893375e-07</td><td>8.845069e-07</td><td>8.953826e-06</td><td>1.685264e-07</td><td>0.006871065</td><td>0.007246143</td><td>0.007700226</td><td>0.007154628</td><td>0.006871065</td><td>0.007346677</td><td>0.05159823</td><td>4.978179e-07</td></tr>\n",
       "\t<tr><td>8.263907e-07</td><td>1.089523e-06</td><td>8.445847e-07</td><td>7.695696e-07</td><td>9.132869e-07</td><td>8.804668e-06</td><td>7.610664e-07</td><td>0.006846968</td><td>0.007049419</td><td>0.007564732</td><td>0.006959946</td><td>0.006846968</td><td>0.007049419</td><td>0.03873480</td><td>4.414913e-07</td></tr>\n",
       "\t<tr><td>8.073056e-07</td><td>7.730047e-07</td><td>8.413989e-07</td><td>8.044221e-07</td><td>8.902323e-07</td><td>8.989660e-06</td><td>1.353606e-06</td><td>0.006962909</td><td>0.007049222</td><td>0.006846968</td><td>0.006914913</td><td>0.006732608</td><td>0.007049222</td><td>0.04227253</td><td>4.440503e-07</td></tr>\n",
       "\t<tr><td>...</td><td>...</td><td>...</td><td>...</td><td>...</td><td>...</td><td>...</td><td>...</td><td>...</td><td>...</td><td>...</td><td>...</td><td>...</td><td>...</td><td>...</td></tr>\n",
       "\t<tr><td>8.073056e-07</td><td>7.436898e-07</td><td>7.903797e-07</td><td>7.551987e-07</td><td>8.073056e-07</td><td>8.894217e-06</td><td>7.610664e-07</td><td>0.009934694</td><td>0.010330511</td><td>0.009513398</td><td>0.009856940</td><td>0.009305614</td><td>0.010330511</td><td>0.18957090</td><td>2.206573e-06</td></tr>\n",
       "\t<tr><td>7.476011e-07</td><td>8.101476e-07</td><td>7.356269e-07</td><td>6.360989e-07</td><td>7.955102e-07</td><td>1.838161e-05</td><td>1.685264e-07</td><td>0.004255988</td><td>0.004846751</td><td>0.005780396</td><td>0.004600057</td><td>0.004255988</td><td>0.004846751</td><td>0.01612823</td><td>1.483899e-07</td></tr>\n",
       "\t<tr><td>8.101476e-07</td><td>6.427949e-07</td><td>7.774939e-07</td><td>7.092527e-07</td><td>8.073056e-07</td><td>1.168167e-05</td><td>7.610664e-07</td><td>0.005875005</td><td>0.004354350</td><td>0.004255988</td><td>0.004874600</td><td>0.004354350</td><td>0.005875005</td><td>0.02254143</td><td>1.799638e-07</td></tr>\n",
       "\t<tr><td>7.763811e-07</td><td>8.101476e-07</td><td>7.564370e-07</td><td>6.732417e-07</td><td>8.014960e-07</td><td>9.962069e-06</td><td>3.660398e-07</td><td>0.004623758</td><td>0.004775843</td><td>0.004354350</td><td>0.005091536</td><td>0.004623758</td><td>0.005875005</td><td>0.01650953</td><td>1.712204e-07</td></tr>\n",
       "\t<tr><td>6.946154e-07</td><td>7.436898e-07</td><td>7.741366e-07</td><td>6.894849e-07</td><td>8.073056e-07</td><td>1.002462e-05</td><td>9.585798e-07</td><td>0.005177981</td><td>0.005046832</td><td>0.004910350</td><td>0.005211492</td><td>0.005046832</td><td>0.005409664</td><td>0.01953714</td><td>1.794783e-07</td></tr>\n",
       "\t<tr><td>7.588906e-07</td><td>7.396995e-07</td><td>7.436898e-07</td><td>6.732417e-07</td><td>7.861772e-07</td><td>7.386921e-06</td><td>3.660398e-07</td><td>0.005245925</td><td>0.005081594</td><td>0.006562549</td><td>0.005039129</td><td>0.004789867</td><td>0.005245925</td><td>0.01680185</td><td>1.658955e-07</td></tr>\n",
       "\t<tr><td>6.675163e-07</td><td>6.219848e-07</td><td>7.601061e-07</td><td>5.723469e-07</td><td>8.976169e-07</td><td>8.989660e-06</td><td>1.353606e-06</td><td>0.006647875</td><td>0.006658343</td><td>0.007995311</td><td>0.006615483</td><td>0.006540230</td><td>0.006658343</td><td>0.02607589</td><td>2.628071e-07</td></tr>\n",
       "\t<tr><td>5.987211e-07</td><td>6.219848e-07</td><td>5.931570e-07</td><td>5.723469e-07</td><td>6.145306e-07</td><td>1.005615e-05</td><td>9.585798e-07</td><td>0.006653603</td><td>0.006821489</td><td>0.006590793</td><td>0.006649850</td><td>0.006474458</td><td>0.006821489</td><td>0.03947848</td><td>4.264975e-07</td></tr>\n",
       "\t<tr><td>7.730047e-07</td><td>6.427949e-07</td><td>7.752621e-07</td><td>7.314686e-07</td><td>8.157117e-07</td><td>1.863791e-05</td><td>5.635531e-07</td><td>0.005504075</td><td>0.005182523</td><td>0.004909955</td><td>0.005416577</td><td>0.005182523</td><td>0.005563132</td><td>0.02001742</td><td>2.288690e-07</td></tr>\n",
       "\t<tr><td>8.184360e-07</td><td>8.184360e-07</td><td>8.597855e-07</td><td>8.101476e-07</td><td>9.293538e-07</td><td>2.102055e-05</td><td>7.610664e-07</td><td>0.005393665</td><td>0.005044462</td><td>0.005504075</td><td>0.005179561</td><td>0.005044462</td><td>0.005393665</td><td>0.02071929</td><td>2.369946e-07</td></tr>\n",
       "\t<tr><td>5.987211e-07</td><td>7.514364e-07</td><td>6.513838e-07</td><td>5.903150e-07</td><td>6.842175e-07</td><td>1.988111e-05</td><td>5.635531e-07</td><td>0.005286218</td><td>0.004791249</td><td>0.006008327</td><td>0.004979809</td><td>0.004791249</td><td>0.005286218</td><td>0.02326005</td><td>2.157998e-07</td></tr>\n",
       "\t<tr><td>6.219848e-07</td><td>5.723469e-07</td><td>7.660737e-07</td><td>6.145306e-07</td><td>8.263907e-07</td><td>1.838161e-05</td><td>1.685264e-07</td><td>0.005073496</td><td>0.005613102</td><td>0.005199707</td><td>0.005297081</td><td>0.005073496</td><td>0.005613102</td><td>0.02280301</td><td>2.217983e-07</td></tr>\n",
       "\t<tr><td>8.641266e-07</td><td>8.014960e-07</td><td>8.568375e-07</td><td>8.484960e-07</td><td>8.619680e-07</td><td>1.168167e-05</td><td>7.610664e-07</td><td>0.006193199</td><td>0.005250666</td><td>0.005073496</td><td>0.005529818</td><td>0.005145588</td><td>0.006193199</td><td>0.02583784</td><td>2.105203e-07</td></tr>\n",
       "\t<tr><td>8.619680e-07</td><td>8.508061e-07</td><td>8.530895e-07</td><td>8.365218e-07</td><td>8.619680e-07</td><td>9.297395e-06</td><td>1.685264e-07</td><td>0.005176203</td><td>0.006193199</td><td>0.005145588</td><td>0.005540023</td><td>0.005176203</td><td>0.006193199</td><td>0.02273316</td><td>2.252494e-07</td></tr>\n",
       "\t<tr><td>1.070835e-06</td><td>7.314686e-07</td><td>1.012163e-06</td><td>8.976169e-07</td><td>1.070080e-06</td><td>9.100798e-06</td><td>3.660398e-07</td><td>0.005201287</td><td>0.005082977</td><td>0.005268442</td><td>0.005256723</td><td>0.005082977</td><td>0.005485904</td><td>0.02407852</td><td>2.243646e-07</td></tr>\n",
       "\t<tr><td>9.498550e-07</td><td>1.108473e-06</td><td>9.857887e-07</td><td>9.484592e-07</td><td>1.024296e-06</td><td>7.386921e-06</td><td>3.660398e-07</td><td>0.005049597</td><td>0.004798755</td><td>0.005927346</td><td>0.004823247</td><td>0.004621388</td><td>0.005049597</td><td>0.02139263</td><td>2.191431e-07</td></tr>\n",
       "\t<tr><td>9.877119e-07</td><td>9.512411e-07</td><td>9.645917e-07</td><td>9.064754e-07</td><td>9.899953e-07</td><td>8.804668e-06</td><td>7.610664e-07</td><td>0.005105098</td><td>0.005216891</td><td>0.005340929</td><td>0.005106678</td><td>0.004998046</td><td>0.005216891</td><td>0.02306302</td><td>2.511399e-07</td></tr>\n",
       "\t<tr><td>8.845069e-07</td><td>8.976169e-07</td><td>9.018004e-07</td><td>8.825609e-07</td><td>9.182457e-07</td><td>1.005615e-05</td><td>9.585798e-07</td><td>0.004781571</td><td>0.004786707</td><td>0.004818704</td><td>0.004730613</td><td>0.004623561</td><td>0.004786707</td><td>0.02105700</td><td>2.139592e-07</td></tr>\n",
       "\t<tr><td>9.262433e-07</td><td>9.413279e-07</td><td>9.278046e-07</td><td>7.436898e-07</td><td>1.023340e-06</td><td>1.863791e-05</td><td>5.635531e-07</td><td>0.010984083</td><td>0.010536122</td><td>0.009501943</td><td>0.010900205</td><td>0.010536122</td><td>0.011180411</td><td>0.74694016</td><td>9.592767e-06</td></tr>\n",
       "\t<tr><td>8.237746e-07</td><td>7.924480e-07</td><td>7.965205e-07</td><td>7.695696e-07</td><td>8.211233e-07</td><td>1.982866e-05</td><td>3.660398e-07</td><td>0.010848391</td><td>0.010805135</td><td>0.010860439</td><td>0.010848654</td><td>0.010805135</td><td>0.010892436</td><td>0.75534773</td><td>9.756374e-06</td></tr>\n",
       "\t<tr><td>7.955102e-07</td><td>8.389754e-07</td><td>8.024762e-07</td><td>7.924480e-07</td><td>8.157117e-07</td><td>2.086680e-05</td><td>7.610664e-07</td><td>0.011096863</td><td>0.011429673</td><td>0.011236307</td><td>0.011228275</td><td>0.011096863</td><td>0.011429673</td><td>0.84414277</td><td>9.889182e-06</td></tr>\n",
       "\t<tr><td>1.001032e-06</td><td>8.014960e-07</td><td>9.288387e-07</td><td>7.660737e-07</td><td>9.999561e-07</td><td>1.838161e-05</td><td>1.685264e-07</td><td>0.010979540</td><td>0.011041756</td><td>0.011096863</td><td>0.010959920</td><td>0.010858464</td><td>0.011041756</td><td>0.90454060</td><td>9.919051e-06</td></tr>\n",
       "\t<tr><td>9.566901e-07</td><td>9.539844e-07</td><td>9.369223e-07</td><td>9.029795e-07</td><td>9.553419e-07</td><td>1.168167e-05</td><td>7.610664e-07</td><td>0.013170753</td><td>0.010777089</td><td>0.010979540</td><td>0.011663792</td><td>0.010777089</td><td>0.013170753</td><td>1.00000000</td><td>9.240630e-06</td></tr>\n",
       "\t<tr><td>1.049354e-06</td><td>1.045106e-06</td><td>1.032397e-06</td><td>1.022379e-06</td><td>1.048512e-06</td><td>9.100798e-06</td><td>3.660398e-07</td><td>0.010793877</td><td>0.010599722</td><td>0.010939840</td><td>0.010728237</td><td>0.010599722</td><td>0.010793877</td><td>0.88573414</td><td>9.290597e-06</td></tr>\n",
       "\t<tr><td>1.034523e-06</td><td>9.047352e-07</td><td>1.000316e-06</td><td>9.324161e-07</td><td>1.033615e-06</td><td>9.197331e-06</td><td>5.635531e-07</td><td>0.011124515</td><td>0.011206285</td><td>0.010374754</td><td>0.011139526</td><td>0.011087777</td><td>0.011206285</td><td>0.85235715</td><td>9.333642e-06</td></tr>\n",
       "\t<tr><td>8.129492e-07</td><td>9.339296e-07</td><td>8.281157e-07</td><td>8.101476e-07</td><td>8.597855e-07</td><td>8.804668e-06</td><td>7.610664e-07</td><td>0.010308192</td><td>0.010764645</td><td>0.011124515</td><td>0.010551199</td><td>0.010308192</td><td>0.010764645</td><td>0.74283258</td><td>8.993555e-06</td></tr>\n",
       "\t<tr><td>1.011485e-06</td><td>8.745795e-07</td><td>9.632965e-07</td><td>8.530895e-07</td><td>1.010465e-06</td><td>1.034125e-05</td><td>1.685264e-07</td><td>0.010682875</td><td>0.012910035</td><td>0.010720600</td><td>0.011327887</td><td>0.010390753</td><td>0.012910035</td><td>0.85875369</td><td>9.594782e-06</td></tr>\n",
       "\t<tr><td>9.047352e-07</td><td>8.641266e-07</td><td>9.230830e-07</td><td>9.029795e-07</td><td>9.484592e-07</td><td>9.181164e-06</td><td>5.635531e-07</td><td>0.010908040</td><td>0.010619473</td><td>0.010632311</td><td>0.010795852</td><td>0.010619473</td><td>0.010908040</td><td>0.79963438</td><td>8.947516e-06</td></tr>\n",
       "\t<tr><td>8.101476e-07</td><td>8.340373e-07</td><td>8.166240e-07</td><td>8.014960e-07</td><td>8.389754e-07</td><td>1.863791e-05</td><td>5.635531e-07</td><td>0.010669049</td><td>0.010196992</td><td>0.008929746</td><td>0.010417548</td><td>0.010196992</td><td>0.010669049</td><td>0.74694016</td><td>9.592767e-06</td></tr>\n",
       "\t<tr><td>7.660737e-07</td><td>5.987211e-07</td><td>7.286469e-07</td><td>6.946154e-07</td><td>7.625148e-07</td><td>2.013101e-05</td><td>9.585798e-07</td><td>0.010937074</td><td>0.010846218</td><td>0.010741734</td><td>0.010570687</td><td>0.009928769</td><td>0.010937074</td><td>0.84163613</td><td>1.010695e-05</td></tr>\n",
       "</tbody>\n",
       "</table>\n"
      ],
      "text/latex": [
       "A data.frame: 1734047 × 15\n",
       "\\begin{tabular}{lllllllllllllll}\n",
       " prev\\_month\\_sales & prev\\_3month\\_sales & avg\\_prev\\_3months\\_sales & min\\_prev\\_3months\\_sales & max\\_prev\\_3months\\_sales & monthly\\_oilprice\\_avg & total\\_month\\_holidays & total\\_month\\_transactions & prev\\_month\\_transactions & prev\\_3month\\_transactions & avg\\_prev\\_3months\\_transactions & min\\_prev\\_3months\\_transactions & max\\_prev\\_3months\\_transactions & total\\_city\\_sales & sales\\_perc\\\\\n",
       " <dbl> & <dbl> & <dbl> & <dbl> & <dbl> & <dbl> & <dbl> & <dbl> & <dbl> & <dbl> & <dbl> & <dbl> & <dbl> & <dbl> & <dbl>\\\\\n",
       "\\hline\n",
       "\t 7.436898e-07 & 6.427949e-07 & 7.060924e-07 & 6.842175e-07 & 7.396995e-07 & 1.982866e-05 & 3.660398e-07 & 0.009169330 & 0.008797215 & 0.009455724 & 0.009003485 & 0.008797215 & 0.009169330 & 0.75534773 & 9.756374e-06\\\\\n",
       "\t 7.924480e-07 & 8.289726e-07 & 7.695696e-07 & 6.894849e-07 & 8.101476e-07 & 2.086680e-05 & 7.610664e-07 & 0.009022380 & 0.009327538 & 0.008751984 & 0.009147472 & 0.009022380 & 0.009327538 & 0.84414277 & 9.889182e-06\\\\\n",
       "\t 1.139009e-06 & 7.272208e-07 & 9.598006e-07 & 6.788059e-07 & 1.138474e-06 & 9.297395e-06 & 1.685264e-07 & 0.009342747 & 0.010573255 & 0.009191254 & 0.009472118 & 0.008500352 & 0.010573255 & 0.86654644 & 9.662024e-06\\\\\n",
       "\t 7.893375e-07 & 7.184410e-07 & 8.082575e-07 & 7.861772e-07 & 8.263907e-07 & 1.072618e-05 & 9.585798e-07 & 0.009113039 & 0.009439923 & 0.009342747 & 0.008914801 & 0.008191442 & 0.009439923 & 0.86912216 & 9.796942e-06\\\\\n",
       "\t 7.184410e-07 & 8.508061e-07 & 7.272208e-07 & 7.139003e-07 & 7.436898e-07 & 8.953826e-06 & 1.685264e-07 & 0.009121532 & 0.008820126 & 0.009454934 & 0.009087428 & 0.008820126 & 0.009320625 & 0.92333480 & 9.398021e-06\\\\\n",
       "\t 7.476011e-07 & 7.272208e-07 & 7.228797e-07 & 7.092527e-07 & 7.436898e-07 & 9.100798e-06 & 3.660398e-07 & 0.009052995 & 0.009121532 & 0.009320625 & 0.008998218 & 0.008820126 & 0.009121532 & 0.88573414 & 9.290597e-06\\\\\n",
       "\t 7.092527e-07 & 8.014960e-07 & 7.851124e-07 & 7.044931e-07 & 8.184360e-07 & 9.197331e-06 & 5.635531e-07 & 0.008964114 & 0.009237867 & 0.008424507 & 0.009111920 & 0.008964114 & 0.009237867 & 0.85235715 & 9.333642e-06\\\\\n",
       "\t 6.732417e-07 & 8.157117e-07 & 6.859890e-07 & 6.675163e-07 & 7.139003e-07 & 8.804668e-06 & 7.610664e-07 & 0.008871282 & 0.008939030 & 0.008964114 & 0.008939556 & 0.008871282 & 0.009008357 & 0.74283258 & 8.993555e-06\\\\\n",
       "\t 6.732417e-07 & 6.788059e-07 & 6.338155e-07 & 6.067840e-07 & 6.675163e-07 & 8.989660e-06 & 1.353606e-06 & 0.008540645 & 0.009011517 & 0.008871282 & 0.008806761 & 0.008540645 & 0.009011517 & 0.85560100 & 9.545335e-06\\\\\n",
       "\t 1.088836e-06 & 6.732417e-07 & 9.160571e-07 & 6.219848e-07 & 1.088147e-06 & 1.034125e-05 & 1.685264e-07 & 0.008975174 & 0.010288441 & 0.009011517 & 0.009268087 & 0.008540645 & 0.010288441 & 0.85875369 & 9.594782e-06\\\\\n",
       "\t 8.340373e-07 & 9.099105e-07 & 8.738996e-07 & 8.157117e-07 & 9.470534e-07 & 1.863791e-05 & 5.635531e-07 & 0.006671379 & 0.006537465 & 0.006008722 & 0.006571635 & 0.006506060 & 0.006671379 & 0.74694016 & 9.592767e-06\\\\\n",
       "\t 8.641266e-07 & 7.955102e-07 & 8.690736e-07 & 8.340373e-07 & 9.047352e-07 & 2.013101e-05 & 9.585798e-07 & 0.006350222 & 0.006217888 & 0.006051187 & 0.006129336 & 0.005819899 & 0.006350222 & 0.84163613 & 1.010695e-05\\\\\n",
       "\t 8.766053e-07 & 8.365218e-07 & 8.718457e-07 & 7.985258e-07 & 9.230830e-07 & 2.043115e-05 & 7.610664e-07 & 0.006253046 & 0.006283068 & 0.006350222 & 0.006345350 & 0.006253046 & 0.006499937 & 0.85874861 & 9.540579e-06\\\\\n",
       "\t 7.551987e-07 & 8.014960e-07 & 7.741366e-07 & 7.476011e-07 & 8.157117e-07 & 1.664054e-05 & 3.660398e-07 & 0.005784939 & 0.006203470 & 0.006253046 & 0.006165679 & 0.005784939 & 0.006508628 & 0.90253889 & 9.758640e-06\\\\\n",
       "\t 7.893375e-07 & 9.029795e-07 & 7.893375e-07 & 7.588906e-07 & 8.184360e-07 & 8.437939e-06 & 7.610664e-07 & 0.005933074 & 0.005791852 & 0.006071926 & 0.005856505 & 0.005791852 & 0.005933074 & 0.89835491 & 9.126638e-06\\\\\n",
       "\t 8.044221e-07 & 7.228797e-07 & 9.696891e-07 & 8.014960e-07 & 1.074569e-06 & 1.053174e-05 & 3.660398e-07 & 0.004703159 & 0.005006342 & 0.004913313 & 0.005348566 & 0.004703159 & 0.006336199 & 0.74451962 & 9.426208e-06\\\\\n",
       "\t 7.861772e-07 & 9.442114e-07 & 8.575786e-07 & 7.829655e-07 & 9.339296e-07 & 9.545741e-06 & 5.635531e-07 & 0.005349422 & 0.005243160 & 0.004703159 & 0.005253694 & 0.005168500 & 0.005349422 & 0.80875189 & 8.910208e-06\\\\\n",
       "\t 7.730047e-07 & 9.354316e-07 & 7.328644e-07 & 4.776248e-07 & 8.157117e-07 & 9.458953e-06 & 7.610664e-07 & 0.002688523 & 0.005366408 & 0.005349422 & 0.004400634 & 0.002688523 & 0.005366408 & 0.35574125 & 8.567123e-06\\\\\n",
       "\t 1.102784e-06 & 1.294982e-06 & 1.041641e-06 & 9.899953e-07 & 1.102142e-06 & 1.988111e-05 & 5.635531e-07 & 0.014940275 & 0.013687448 & 0.017566214 & 0.014240485 & 0.013687448 & 0.014940275 & 0.06191955 & 6.226485e-07\\\\\n",
       "\t 1.184147e-06 & 9.911272e-07 & 1.090208e-06 & 1.009439e-06 & 1.183722e-06 & 2.086680e-05 & 7.610664e-07 & 0.014189724 & 0.014884971 & 0.014940275 & 0.014558218 & 0.014189724 & 0.014884971 & 0.05757755 & 6.475149e-07\\\\\n",
       "\t 9.911272e-07 & 1.074569e-06 & 1.061838e-06 & 9.830643e-07 & 1.158802e-06 & 1.167664e-05 & 5.635531e-07 & 0.014435826 & 0.013739789 & 0.012790935 & 0.014042511 & 0.013739789 & 0.014435826 & 0.05984079 & 5.803200e-07\\\\\n",
       "\t 9.721893e-07 & 1.159284e-06 & 9.746582e-07 & 9.442114e-07 & 1.004227e-06 & 8.437939e-06 & 7.610664e-07 & 0.014356820 & 0.013907872 & 0.014435826 & 0.013859416 & 0.013313555 & 0.014356820 & 0.05924914 & 5.748537e-07\\\\\n",
       "\t 9.354316e-07 & 9.456375e-07 & 9.598006e-07 & 9.339296e-07 & 9.933717e-07 & 8.354170e-06 & 1.353606e-06 & 0.012959018 & 0.013621281 & 0.014356820 & 0.013367871 & 0.012959018 & 0.013621281 & 0.05082425 & 5.388947e-07\\\\\n",
       "\t 9.413279e-07 & 9.606804e-07 & 9.442114e-07 & 9.354316e-07 & 9.566901e-07 & 8.895136e-06 & 1.685264e-07 & 0.013456950 & 0.013731691 & 0.012775924 & 0.013522261 & 0.013378142 & 0.013731691 & 0.04997375 & 5.946723e-07\\\\\n",
       "\t 9.047352e-07 & 1.085365e-06 & 8.545972e-07 & 7.861772e-07 & 9.029795e-07 & 1.988111e-05 & 5.635531e-07 & 0.007273992 & 0.006513171 & 0.008002421 & 0.006879821 & 0.006513171 & 0.007273992 & 0.05122555 & 5.101059e-07\\\\\n",
       "\t 1.001032e-06 & 7.893375e-07 & 9.364266e-07 & 8.315212e-07 & 9.999561e-07 & 2.086680e-05 & 7.610664e-07 & 0.007088527 & 0.007341344 & 0.007273992 & 0.007250686 & 0.007088527 & 0.007341344 & 0.04449381 & 4.937888e-07\\\\\n",
       "\t 1.135780e-06 & 8.508061e-07 & 1.007370e-06 & 8.805956e-07 & 1.135236e-06 & 9.297395e-06 & 1.685264e-07 & 0.007138300 & 0.008019605 & 0.007223429 & 0.007453927 & 0.007138300 & 0.008019605 & 0.04933361 & 5.227352e-07\\\\\n",
       "\t 7.924480e-07 & 8.597855e-07 & 8.445847e-07 & 7.893375e-07 & 8.845069e-07 & 8.953826e-06 & 1.685264e-07 & 0.006871065 & 0.007246143 & 0.007700226 & 0.007154628 & 0.006871065 & 0.007346677 & 0.05159823 & 4.978179e-07\\\\\n",
       "\t 8.263907e-07 & 1.089523e-06 & 8.445847e-07 & 7.695696e-07 & 9.132869e-07 & 8.804668e-06 & 7.610664e-07 & 0.006846968 & 0.007049419 & 0.007564732 & 0.006959946 & 0.006846968 & 0.007049419 & 0.03873480 & 4.414913e-07\\\\\n",
       "\t 8.073056e-07 & 7.730047e-07 & 8.413989e-07 & 8.044221e-07 & 8.902323e-07 & 8.989660e-06 & 1.353606e-06 & 0.006962909 & 0.007049222 & 0.006846968 & 0.006914913 & 0.006732608 & 0.007049222 & 0.04227253 & 4.440503e-07\\\\\n",
       "\t ... & ... & ... & ... & ... & ... & ... & ... & ... & ... & ... & ... & ... & ... & ...\\\\\n",
       "\t 8.073056e-07 & 7.436898e-07 & 7.903797e-07 & 7.551987e-07 & 8.073056e-07 & 8.894217e-06 & 7.610664e-07 & 0.009934694 & 0.010330511 & 0.009513398 & 0.009856940 & 0.009305614 & 0.010330511 & 0.18957090 & 2.206573e-06\\\\\n",
       "\t 7.476011e-07 & 8.101476e-07 & 7.356269e-07 & 6.360989e-07 & 7.955102e-07 & 1.838161e-05 & 1.685264e-07 & 0.004255988 & 0.004846751 & 0.005780396 & 0.004600057 & 0.004255988 & 0.004846751 & 0.01612823 & 1.483899e-07\\\\\n",
       "\t 8.101476e-07 & 6.427949e-07 & 7.774939e-07 & 7.092527e-07 & 8.073056e-07 & 1.168167e-05 & 7.610664e-07 & 0.005875005 & 0.004354350 & 0.004255988 & 0.004874600 & 0.004354350 & 0.005875005 & 0.02254143 & 1.799638e-07\\\\\n",
       "\t 7.763811e-07 & 8.101476e-07 & 7.564370e-07 & 6.732417e-07 & 8.014960e-07 & 9.962069e-06 & 3.660398e-07 & 0.004623758 & 0.004775843 & 0.004354350 & 0.005091536 & 0.004623758 & 0.005875005 & 0.01650953 & 1.712204e-07\\\\\n",
       "\t 6.946154e-07 & 7.436898e-07 & 7.741366e-07 & 6.894849e-07 & 8.073056e-07 & 1.002462e-05 & 9.585798e-07 & 0.005177981 & 0.005046832 & 0.004910350 & 0.005211492 & 0.005046832 & 0.005409664 & 0.01953714 & 1.794783e-07\\\\\n",
       "\t 7.588906e-07 & 7.396995e-07 & 7.436898e-07 & 6.732417e-07 & 7.861772e-07 & 7.386921e-06 & 3.660398e-07 & 0.005245925 & 0.005081594 & 0.006562549 & 0.005039129 & 0.004789867 & 0.005245925 & 0.01680185 & 1.658955e-07\\\\\n",
       "\t 6.675163e-07 & 6.219848e-07 & 7.601061e-07 & 5.723469e-07 & 8.976169e-07 & 8.989660e-06 & 1.353606e-06 & 0.006647875 & 0.006658343 & 0.007995311 & 0.006615483 & 0.006540230 & 0.006658343 & 0.02607589 & 2.628071e-07\\\\\n",
       "\t 5.987211e-07 & 6.219848e-07 & 5.931570e-07 & 5.723469e-07 & 6.145306e-07 & 1.005615e-05 & 9.585798e-07 & 0.006653603 & 0.006821489 & 0.006590793 & 0.006649850 & 0.006474458 & 0.006821489 & 0.03947848 & 4.264975e-07\\\\\n",
       "\t 7.730047e-07 & 6.427949e-07 & 7.752621e-07 & 7.314686e-07 & 8.157117e-07 & 1.863791e-05 & 5.635531e-07 & 0.005504075 & 0.005182523 & 0.004909955 & 0.005416577 & 0.005182523 & 0.005563132 & 0.02001742 & 2.288690e-07\\\\\n",
       "\t 8.184360e-07 & 8.184360e-07 & 8.597855e-07 & 8.101476e-07 & 9.293538e-07 & 2.102055e-05 & 7.610664e-07 & 0.005393665 & 0.005044462 & 0.005504075 & 0.005179561 & 0.005044462 & 0.005393665 & 0.02071929 & 2.369946e-07\\\\\n",
       "\t 5.987211e-07 & 7.514364e-07 & 6.513838e-07 & 5.903150e-07 & 6.842175e-07 & 1.988111e-05 & 5.635531e-07 & 0.005286218 & 0.004791249 & 0.006008327 & 0.004979809 & 0.004791249 & 0.005286218 & 0.02326005 & 2.157998e-07\\\\\n",
       "\t 6.219848e-07 & 5.723469e-07 & 7.660737e-07 & 6.145306e-07 & 8.263907e-07 & 1.838161e-05 & 1.685264e-07 & 0.005073496 & 0.005613102 & 0.005199707 & 0.005297081 & 0.005073496 & 0.005613102 & 0.02280301 & 2.217983e-07\\\\\n",
       "\t 8.641266e-07 & 8.014960e-07 & 8.568375e-07 & 8.484960e-07 & 8.619680e-07 & 1.168167e-05 & 7.610664e-07 & 0.006193199 & 0.005250666 & 0.005073496 & 0.005529818 & 0.005145588 & 0.006193199 & 0.02583784 & 2.105203e-07\\\\\n",
       "\t 8.619680e-07 & 8.508061e-07 & 8.530895e-07 & 8.365218e-07 & 8.619680e-07 & 9.297395e-06 & 1.685264e-07 & 0.005176203 & 0.006193199 & 0.005145588 & 0.005540023 & 0.005176203 & 0.006193199 & 0.02273316 & 2.252494e-07\\\\\n",
       "\t 1.070835e-06 & 7.314686e-07 & 1.012163e-06 & 8.976169e-07 & 1.070080e-06 & 9.100798e-06 & 3.660398e-07 & 0.005201287 & 0.005082977 & 0.005268442 & 0.005256723 & 0.005082977 & 0.005485904 & 0.02407852 & 2.243646e-07\\\\\n",
       "\t 9.498550e-07 & 1.108473e-06 & 9.857887e-07 & 9.484592e-07 & 1.024296e-06 & 7.386921e-06 & 3.660398e-07 & 0.005049597 & 0.004798755 & 0.005927346 & 0.004823247 & 0.004621388 & 0.005049597 & 0.02139263 & 2.191431e-07\\\\\n",
       "\t 9.877119e-07 & 9.512411e-07 & 9.645917e-07 & 9.064754e-07 & 9.899953e-07 & 8.804668e-06 & 7.610664e-07 & 0.005105098 & 0.005216891 & 0.005340929 & 0.005106678 & 0.004998046 & 0.005216891 & 0.02306302 & 2.511399e-07\\\\\n",
       "\t 8.845069e-07 & 8.976169e-07 & 9.018004e-07 & 8.825609e-07 & 9.182457e-07 & 1.005615e-05 & 9.585798e-07 & 0.004781571 & 0.004786707 & 0.004818704 & 0.004730613 & 0.004623561 & 0.004786707 & 0.02105700 & 2.139592e-07\\\\\n",
       "\t 9.262433e-07 & 9.413279e-07 & 9.278046e-07 & 7.436898e-07 & 1.023340e-06 & 1.863791e-05 & 5.635531e-07 & 0.010984083 & 0.010536122 & 0.009501943 & 0.010900205 & 0.010536122 & 0.011180411 & 0.74694016 & 9.592767e-06\\\\\n",
       "\t 8.237746e-07 & 7.924480e-07 & 7.965205e-07 & 7.695696e-07 & 8.211233e-07 & 1.982866e-05 & 3.660398e-07 & 0.010848391 & 0.010805135 & 0.010860439 & 0.010848654 & 0.010805135 & 0.010892436 & 0.75534773 & 9.756374e-06\\\\\n",
       "\t 7.955102e-07 & 8.389754e-07 & 8.024762e-07 & 7.924480e-07 & 8.157117e-07 & 2.086680e-05 & 7.610664e-07 & 0.011096863 & 0.011429673 & 0.011236307 & 0.011228275 & 0.011096863 & 0.011429673 & 0.84414277 & 9.889182e-06\\\\\n",
       "\t 1.001032e-06 & 8.014960e-07 & 9.288387e-07 & 7.660737e-07 & 9.999561e-07 & 1.838161e-05 & 1.685264e-07 & 0.010979540 & 0.011041756 & 0.011096863 & 0.010959920 & 0.010858464 & 0.011041756 & 0.90454060 & 9.919051e-06\\\\\n",
       "\t 9.566901e-07 & 9.539844e-07 & 9.369223e-07 & 9.029795e-07 & 9.553419e-07 & 1.168167e-05 & 7.610664e-07 & 0.013170753 & 0.010777089 & 0.010979540 & 0.011663792 & 0.010777089 & 0.013170753 & 1.00000000 & 9.240630e-06\\\\\n",
       "\t 1.049354e-06 & 1.045106e-06 & 1.032397e-06 & 1.022379e-06 & 1.048512e-06 & 9.100798e-06 & 3.660398e-07 & 0.010793877 & 0.010599722 & 0.010939840 & 0.010728237 & 0.010599722 & 0.010793877 & 0.88573414 & 9.290597e-06\\\\\n",
       "\t 1.034523e-06 & 9.047352e-07 & 1.000316e-06 & 9.324161e-07 & 1.033615e-06 & 9.197331e-06 & 5.635531e-07 & 0.011124515 & 0.011206285 & 0.010374754 & 0.011139526 & 0.011087777 & 0.011206285 & 0.85235715 & 9.333642e-06\\\\\n",
       "\t 8.129492e-07 & 9.339296e-07 & 8.281157e-07 & 8.101476e-07 & 8.597855e-07 & 8.804668e-06 & 7.610664e-07 & 0.010308192 & 0.010764645 & 0.011124515 & 0.010551199 & 0.010308192 & 0.010764645 & 0.74283258 & 8.993555e-06\\\\\n",
       "\t 1.011485e-06 & 8.745795e-07 & 9.632965e-07 & 8.530895e-07 & 1.010465e-06 & 1.034125e-05 & 1.685264e-07 & 0.010682875 & 0.012910035 & 0.010720600 & 0.011327887 & 0.010390753 & 0.012910035 & 0.85875369 & 9.594782e-06\\\\\n",
       "\t 9.047352e-07 & 8.641266e-07 & 9.230830e-07 & 9.029795e-07 & 9.484592e-07 & 9.181164e-06 & 5.635531e-07 & 0.010908040 & 0.010619473 & 0.010632311 & 0.010795852 & 0.010619473 & 0.010908040 & 0.79963438 & 8.947516e-06\\\\\n",
       "\t 8.101476e-07 & 8.340373e-07 & 8.166240e-07 & 8.014960e-07 & 8.389754e-07 & 1.863791e-05 & 5.635531e-07 & 0.010669049 & 0.010196992 & 0.008929746 & 0.010417548 & 0.010196992 & 0.010669049 & 0.74694016 & 9.592767e-06\\\\\n",
       "\t 7.660737e-07 & 5.987211e-07 & 7.286469e-07 & 6.946154e-07 & 7.625148e-07 & 2.013101e-05 & 9.585798e-07 & 0.010937074 & 0.010846218 & 0.010741734 & 0.010570687 & 0.009928769 & 0.010937074 & 0.84163613 & 1.010695e-05\\\\\n",
       "\\end{tabular}\n"
      ],
      "text/markdown": [
       "\n",
       "A data.frame: 1734047 × 15\n",
       "\n",
       "| prev_month_sales &lt;dbl&gt; | prev_3month_sales &lt;dbl&gt; | avg_prev_3months_sales &lt;dbl&gt; | min_prev_3months_sales &lt;dbl&gt; | max_prev_3months_sales &lt;dbl&gt; | monthly_oilprice_avg &lt;dbl&gt; | total_month_holidays &lt;dbl&gt; | total_month_transactions &lt;dbl&gt; | prev_month_transactions &lt;dbl&gt; | prev_3month_transactions &lt;dbl&gt; | avg_prev_3months_transactions &lt;dbl&gt; | min_prev_3months_transactions &lt;dbl&gt; | max_prev_3months_transactions &lt;dbl&gt; | total_city_sales &lt;dbl&gt; | sales_perc &lt;dbl&gt; |\n",
       "|---|---|---|---|---|---|---|---|---|---|---|---|---|---|---|\n",
       "| 7.436898e-07 | 6.427949e-07 | 7.060924e-07 | 6.842175e-07 | 7.396995e-07 | 1.982866e-05 | 3.660398e-07 | 0.009169330 | 0.008797215 | 0.009455724 | 0.009003485 | 0.008797215 | 0.009169330 | 0.75534773 | 9.756374e-06 |\n",
       "| 7.924480e-07 | 8.289726e-07 | 7.695696e-07 | 6.894849e-07 | 8.101476e-07 | 2.086680e-05 | 7.610664e-07 | 0.009022380 | 0.009327538 | 0.008751984 | 0.009147472 | 0.009022380 | 0.009327538 | 0.84414277 | 9.889182e-06 |\n",
       "| 1.139009e-06 | 7.272208e-07 | 9.598006e-07 | 6.788059e-07 | 1.138474e-06 | 9.297395e-06 | 1.685264e-07 | 0.009342747 | 0.010573255 | 0.009191254 | 0.009472118 | 0.008500352 | 0.010573255 | 0.86654644 | 9.662024e-06 |\n",
       "| 7.893375e-07 | 7.184410e-07 | 8.082575e-07 | 7.861772e-07 | 8.263907e-07 | 1.072618e-05 | 9.585798e-07 | 0.009113039 | 0.009439923 | 0.009342747 | 0.008914801 | 0.008191442 | 0.009439923 | 0.86912216 | 9.796942e-06 |\n",
       "| 7.184410e-07 | 8.508061e-07 | 7.272208e-07 | 7.139003e-07 | 7.436898e-07 | 8.953826e-06 | 1.685264e-07 | 0.009121532 | 0.008820126 | 0.009454934 | 0.009087428 | 0.008820126 | 0.009320625 | 0.92333480 | 9.398021e-06 |\n",
       "| 7.476011e-07 | 7.272208e-07 | 7.228797e-07 | 7.092527e-07 | 7.436898e-07 | 9.100798e-06 | 3.660398e-07 | 0.009052995 | 0.009121532 | 0.009320625 | 0.008998218 | 0.008820126 | 0.009121532 | 0.88573414 | 9.290597e-06 |\n",
       "| 7.092527e-07 | 8.014960e-07 | 7.851124e-07 | 7.044931e-07 | 8.184360e-07 | 9.197331e-06 | 5.635531e-07 | 0.008964114 | 0.009237867 | 0.008424507 | 0.009111920 | 0.008964114 | 0.009237867 | 0.85235715 | 9.333642e-06 |\n",
       "| 6.732417e-07 | 8.157117e-07 | 6.859890e-07 | 6.675163e-07 | 7.139003e-07 | 8.804668e-06 | 7.610664e-07 | 0.008871282 | 0.008939030 | 0.008964114 | 0.008939556 | 0.008871282 | 0.009008357 | 0.74283258 | 8.993555e-06 |\n",
       "| 6.732417e-07 | 6.788059e-07 | 6.338155e-07 | 6.067840e-07 | 6.675163e-07 | 8.989660e-06 | 1.353606e-06 | 0.008540645 | 0.009011517 | 0.008871282 | 0.008806761 | 0.008540645 | 0.009011517 | 0.85560100 | 9.545335e-06 |\n",
       "| 1.088836e-06 | 6.732417e-07 | 9.160571e-07 | 6.219848e-07 | 1.088147e-06 | 1.034125e-05 | 1.685264e-07 | 0.008975174 | 0.010288441 | 0.009011517 | 0.009268087 | 0.008540645 | 0.010288441 | 0.85875369 | 9.594782e-06 |\n",
       "| 8.340373e-07 | 9.099105e-07 | 8.738996e-07 | 8.157117e-07 | 9.470534e-07 | 1.863791e-05 | 5.635531e-07 | 0.006671379 | 0.006537465 | 0.006008722 | 0.006571635 | 0.006506060 | 0.006671379 | 0.74694016 | 9.592767e-06 |\n",
       "| 8.641266e-07 | 7.955102e-07 | 8.690736e-07 | 8.340373e-07 | 9.047352e-07 | 2.013101e-05 | 9.585798e-07 | 0.006350222 | 0.006217888 | 0.006051187 | 0.006129336 | 0.005819899 | 0.006350222 | 0.84163613 | 1.010695e-05 |\n",
       "| 8.766053e-07 | 8.365218e-07 | 8.718457e-07 | 7.985258e-07 | 9.230830e-07 | 2.043115e-05 | 7.610664e-07 | 0.006253046 | 0.006283068 | 0.006350222 | 0.006345350 | 0.006253046 | 0.006499937 | 0.85874861 | 9.540579e-06 |\n",
       "| 7.551987e-07 | 8.014960e-07 | 7.741366e-07 | 7.476011e-07 | 8.157117e-07 | 1.664054e-05 | 3.660398e-07 | 0.005784939 | 0.006203470 | 0.006253046 | 0.006165679 | 0.005784939 | 0.006508628 | 0.90253889 | 9.758640e-06 |\n",
       "| 7.893375e-07 | 9.029795e-07 | 7.893375e-07 | 7.588906e-07 | 8.184360e-07 | 8.437939e-06 | 7.610664e-07 | 0.005933074 | 0.005791852 | 0.006071926 | 0.005856505 | 0.005791852 | 0.005933074 | 0.89835491 | 9.126638e-06 |\n",
       "| 8.044221e-07 | 7.228797e-07 | 9.696891e-07 | 8.014960e-07 | 1.074569e-06 | 1.053174e-05 | 3.660398e-07 | 0.004703159 | 0.005006342 | 0.004913313 | 0.005348566 | 0.004703159 | 0.006336199 | 0.74451962 | 9.426208e-06 |\n",
       "| 7.861772e-07 | 9.442114e-07 | 8.575786e-07 | 7.829655e-07 | 9.339296e-07 | 9.545741e-06 | 5.635531e-07 | 0.005349422 | 0.005243160 | 0.004703159 | 0.005253694 | 0.005168500 | 0.005349422 | 0.80875189 | 8.910208e-06 |\n",
       "| 7.730047e-07 | 9.354316e-07 | 7.328644e-07 | 4.776248e-07 | 8.157117e-07 | 9.458953e-06 | 7.610664e-07 | 0.002688523 | 0.005366408 | 0.005349422 | 0.004400634 | 0.002688523 | 0.005366408 | 0.35574125 | 8.567123e-06 |\n",
       "| 1.102784e-06 | 1.294982e-06 | 1.041641e-06 | 9.899953e-07 | 1.102142e-06 | 1.988111e-05 | 5.635531e-07 | 0.014940275 | 0.013687448 | 0.017566214 | 0.014240485 | 0.013687448 | 0.014940275 | 0.06191955 | 6.226485e-07 |\n",
       "| 1.184147e-06 | 9.911272e-07 | 1.090208e-06 | 1.009439e-06 | 1.183722e-06 | 2.086680e-05 | 7.610664e-07 | 0.014189724 | 0.014884971 | 0.014940275 | 0.014558218 | 0.014189724 | 0.014884971 | 0.05757755 | 6.475149e-07 |\n",
       "| 9.911272e-07 | 1.074569e-06 | 1.061838e-06 | 9.830643e-07 | 1.158802e-06 | 1.167664e-05 | 5.635531e-07 | 0.014435826 | 0.013739789 | 0.012790935 | 0.014042511 | 0.013739789 | 0.014435826 | 0.05984079 | 5.803200e-07 |\n",
       "| 9.721893e-07 | 1.159284e-06 | 9.746582e-07 | 9.442114e-07 | 1.004227e-06 | 8.437939e-06 | 7.610664e-07 | 0.014356820 | 0.013907872 | 0.014435826 | 0.013859416 | 0.013313555 | 0.014356820 | 0.05924914 | 5.748537e-07 |\n",
       "| 9.354316e-07 | 9.456375e-07 | 9.598006e-07 | 9.339296e-07 | 9.933717e-07 | 8.354170e-06 | 1.353606e-06 | 0.012959018 | 0.013621281 | 0.014356820 | 0.013367871 | 0.012959018 | 0.013621281 | 0.05082425 | 5.388947e-07 |\n",
       "| 9.413279e-07 | 9.606804e-07 | 9.442114e-07 | 9.354316e-07 | 9.566901e-07 | 8.895136e-06 | 1.685264e-07 | 0.013456950 | 0.013731691 | 0.012775924 | 0.013522261 | 0.013378142 | 0.013731691 | 0.04997375 | 5.946723e-07 |\n",
       "| 9.047352e-07 | 1.085365e-06 | 8.545972e-07 | 7.861772e-07 | 9.029795e-07 | 1.988111e-05 | 5.635531e-07 | 0.007273992 | 0.006513171 | 0.008002421 | 0.006879821 | 0.006513171 | 0.007273992 | 0.05122555 | 5.101059e-07 |\n",
       "| 1.001032e-06 | 7.893375e-07 | 9.364266e-07 | 8.315212e-07 | 9.999561e-07 | 2.086680e-05 | 7.610664e-07 | 0.007088527 | 0.007341344 | 0.007273992 | 0.007250686 | 0.007088527 | 0.007341344 | 0.04449381 | 4.937888e-07 |\n",
       "| 1.135780e-06 | 8.508061e-07 | 1.007370e-06 | 8.805956e-07 | 1.135236e-06 | 9.297395e-06 | 1.685264e-07 | 0.007138300 | 0.008019605 | 0.007223429 | 0.007453927 | 0.007138300 | 0.008019605 | 0.04933361 | 5.227352e-07 |\n",
       "| 7.924480e-07 | 8.597855e-07 | 8.445847e-07 | 7.893375e-07 | 8.845069e-07 | 8.953826e-06 | 1.685264e-07 | 0.006871065 | 0.007246143 | 0.007700226 | 0.007154628 | 0.006871065 | 0.007346677 | 0.05159823 | 4.978179e-07 |\n",
       "| 8.263907e-07 | 1.089523e-06 | 8.445847e-07 | 7.695696e-07 | 9.132869e-07 | 8.804668e-06 | 7.610664e-07 | 0.006846968 | 0.007049419 | 0.007564732 | 0.006959946 | 0.006846968 | 0.007049419 | 0.03873480 | 4.414913e-07 |\n",
       "| 8.073056e-07 | 7.730047e-07 | 8.413989e-07 | 8.044221e-07 | 8.902323e-07 | 8.989660e-06 | 1.353606e-06 | 0.006962909 | 0.007049222 | 0.006846968 | 0.006914913 | 0.006732608 | 0.007049222 | 0.04227253 | 4.440503e-07 |\n",
       "| ... | ... | ... | ... | ... | ... | ... | ... | ... | ... | ... | ... | ... | ... | ... |\n",
       "| 8.073056e-07 | 7.436898e-07 | 7.903797e-07 | 7.551987e-07 | 8.073056e-07 | 8.894217e-06 | 7.610664e-07 | 0.009934694 | 0.010330511 | 0.009513398 | 0.009856940 | 0.009305614 | 0.010330511 | 0.18957090 | 2.206573e-06 |\n",
       "| 7.476011e-07 | 8.101476e-07 | 7.356269e-07 | 6.360989e-07 | 7.955102e-07 | 1.838161e-05 | 1.685264e-07 | 0.004255988 | 0.004846751 | 0.005780396 | 0.004600057 | 0.004255988 | 0.004846751 | 0.01612823 | 1.483899e-07 |\n",
       "| 8.101476e-07 | 6.427949e-07 | 7.774939e-07 | 7.092527e-07 | 8.073056e-07 | 1.168167e-05 | 7.610664e-07 | 0.005875005 | 0.004354350 | 0.004255988 | 0.004874600 | 0.004354350 | 0.005875005 | 0.02254143 | 1.799638e-07 |\n",
       "| 7.763811e-07 | 8.101476e-07 | 7.564370e-07 | 6.732417e-07 | 8.014960e-07 | 9.962069e-06 | 3.660398e-07 | 0.004623758 | 0.004775843 | 0.004354350 | 0.005091536 | 0.004623758 | 0.005875005 | 0.01650953 | 1.712204e-07 |\n",
       "| 6.946154e-07 | 7.436898e-07 | 7.741366e-07 | 6.894849e-07 | 8.073056e-07 | 1.002462e-05 | 9.585798e-07 | 0.005177981 | 0.005046832 | 0.004910350 | 0.005211492 | 0.005046832 | 0.005409664 | 0.01953714 | 1.794783e-07 |\n",
       "| 7.588906e-07 | 7.396995e-07 | 7.436898e-07 | 6.732417e-07 | 7.861772e-07 | 7.386921e-06 | 3.660398e-07 | 0.005245925 | 0.005081594 | 0.006562549 | 0.005039129 | 0.004789867 | 0.005245925 | 0.01680185 | 1.658955e-07 |\n",
       "| 6.675163e-07 | 6.219848e-07 | 7.601061e-07 | 5.723469e-07 | 8.976169e-07 | 8.989660e-06 | 1.353606e-06 | 0.006647875 | 0.006658343 | 0.007995311 | 0.006615483 | 0.006540230 | 0.006658343 | 0.02607589 | 2.628071e-07 |\n",
       "| 5.987211e-07 | 6.219848e-07 | 5.931570e-07 | 5.723469e-07 | 6.145306e-07 | 1.005615e-05 | 9.585798e-07 | 0.006653603 | 0.006821489 | 0.006590793 | 0.006649850 | 0.006474458 | 0.006821489 | 0.03947848 | 4.264975e-07 |\n",
       "| 7.730047e-07 | 6.427949e-07 | 7.752621e-07 | 7.314686e-07 | 8.157117e-07 | 1.863791e-05 | 5.635531e-07 | 0.005504075 | 0.005182523 | 0.004909955 | 0.005416577 | 0.005182523 | 0.005563132 | 0.02001742 | 2.288690e-07 |\n",
       "| 8.184360e-07 | 8.184360e-07 | 8.597855e-07 | 8.101476e-07 | 9.293538e-07 | 2.102055e-05 | 7.610664e-07 | 0.005393665 | 0.005044462 | 0.005504075 | 0.005179561 | 0.005044462 | 0.005393665 | 0.02071929 | 2.369946e-07 |\n",
       "| 5.987211e-07 | 7.514364e-07 | 6.513838e-07 | 5.903150e-07 | 6.842175e-07 | 1.988111e-05 | 5.635531e-07 | 0.005286218 | 0.004791249 | 0.006008327 | 0.004979809 | 0.004791249 | 0.005286218 | 0.02326005 | 2.157998e-07 |\n",
       "| 6.219848e-07 | 5.723469e-07 | 7.660737e-07 | 6.145306e-07 | 8.263907e-07 | 1.838161e-05 | 1.685264e-07 | 0.005073496 | 0.005613102 | 0.005199707 | 0.005297081 | 0.005073496 | 0.005613102 | 0.02280301 | 2.217983e-07 |\n",
       "| 8.641266e-07 | 8.014960e-07 | 8.568375e-07 | 8.484960e-07 | 8.619680e-07 | 1.168167e-05 | 7.610664e-07 | 0.006193199 | 0.005250666 | 0.005073496 | 0.005529818 | 0.005145588 | 0.006193199 | 0.02583784 | 2.105203e-07 |\n",
       "| 8.619680e-07 | 8.508061e-07 | 8.530895e-07 | 8.365218e-07 | 8.619680e-07 | 9.297395e-06 | 1.685264e-07 | 0.005176203 | 0.006193199 | 0.005145588 | 0.005540023 | 0.005176203 | 0.006193199 | 0.02273316 | 2.252494e-07 |\n",
       "| 1.070835e-06 | 7.314686e-07 | 1.012163e-06 | 8.976169e-07 | 1.070080e-06 | 9.100798e-06 | 3.660398e-07 | 0.005201287 | 0.005082977 | 0.005268442 | 0.005256723 | 0.005082977 | 0.005485904 | 0.02407852 | 2.243646e-07 |\n",
       "| 9.498550e-07 | 1.108473e-06 | 9.857887e-07 | 9.484592e-07 | 1.024296e-06 | 7.386921e-06 | 3.660398e-07 | 0.005049597 | 0.004798755 | 0.005927346 | 0.004823247 | 0.004621388 | 0.005049597 | 0.02139263 | 2.191431e-07 |\n",
       "| 9.877119e-07 | 9.512411e-07 | 9.645917e-07 | 9.064754e-07 | 9.899953e-07 | 8.804668e-06 | 7.610664e-07 | 0.005105098 | 0.005216891 | 0.005340929 | 0.005106678 | 0.004998046 | 0.005216891 | 0.02306302 | 2.511399e-07 |\n",
       "| 8.845069e-07 | 8.976169e-07 | 9.018004e-07 | 8.825609e-07 | 9.182457e-07 | 1.005615e-05 | 9.585798e-07 | 0.004781571 | 0.004786707 | 0.004818704 | 0.004730613 | 0.004623561 | 0.004786707 | 0.02105700 | 2.139592e-07 |\n",
       "| 9.262433e-07 | 9.413279e-07 | 9.278046e-07 | 7.436898e-07 | 1.023340e-06 | 1.863791e-05 | 5.635531e-07 | 0.010984083 | 0.010536122 | 0.009501943 | 0.010900205 | 0.010536122 | 0.011180411 | 0.74694016 | 9.592767e-06 |\n",
       "| 8.237746e-07 | 7.924480e-07 | 7.965205e-07 | 7.695696e-07 | 8.211233e-07 | 1.982866e-05 | 3.660398e-07 | 0.010848391 | 0.010805135 | 0.010860439 | 0.010848654 | 0.010805135 | 0.010892436 | 0.75534773 | 9.756374e-06 |\n",
       "| 7.955102e-07 | 8.389754e-07 | 8.024762e-07 | 7.924480e-07 | 8.157117e-07 | 2.086680e-05 | 7.610664e-07 | 0.011096863 | 0.011429673 | 0.011236307 | 0.011228275 | 0.011096863 | 0.011429673 | 0.84414277 | 9.889182e-06 |\n",
       "| 1.001032e-06 | 8.014960e-07 | 9.288387e-07 | 7.660737e-07 | 9.999561e-07 | 1.838161e-05 | 1.685264e-07 | 0.010979540 | 0.011041756 | 0.011096863 | 0.010959920 | 0.010858464 | 0.011041756 | 0.90454060 | 9.919051e-06 |\n",
       "| 9.566901e-07 | 9.539844e-07 | 9.369223e-07 | 9.029795e-07 | 9.553419e-07 | 1.168167e-05 | 7.610664e-07 | 0.013170753 | 0.010777089 | 0.010979540 | 0.011663792 | 0.010777089 | 0.013170753 | 1.00000000 | 9.240630e-06 |\n",
       "| 1.049354e-06 | 1.045106e-06 | 1.032397e-06 | 1.022379e-06 | 1.048512e-06 | 9.100798e-06 | 3.660398e-07 | 0.010793877 | 0.010599722 | 0.010939840 | 0.010728237 | 0.010599722 | 0.010793877 | 0.88573414 | 9.290597e-06 |\n",
       "| 1.034523e-06 | 9.047352e-07 | 1.000316e-06 | 9.324161e-07 | 1.033615e-06 | 9.197331e-06 | 5.635531e-07 | 0.011124515 | 0.011206285 | 0.010374754 | 0.011139526 | 0.011087777 | 0.011206285 | 0.85235715 | 9.333642e-06 |\n",
       "| 8.129492e-07 | 9.339296e-07 | 8.281157e-07 | 8.101476e-07 | 8.597855e-07 | 8.804668e-06 | 7.610664e-07 | 0.010308192 | 0.010764645 | 0.011124515 | 0.010551199 | 0.010308192 | 0.010764645 | 0.74283258 | 8.993555e-06 |\n",
       "| 1.011485e-06 | 8.745795e-07 | 9.632965e-07 | 8.530895e-07 | 1.010465e-06 | 1.034125e-05 | 1.685264e-07 | 0.010682875 | 0.012910035 | 0.010720600 | 0.011327887 | 0.010390753 | 0.012910035 | 0.85875369 | 9.594782e-06 |\n",
       "| 9.047352e-07 | 8.641266e-07 | 9.230830e-07 | 9.029795e-07 | 9.484592e-07 | 9.181164e-06 | 5.635531e-07 | 0.010908040 | 0.010619473 | 0.010632311 | 0.010795852 | 0.010619473 | 0.010908040 | 0.79963438 | 8.947516e-06 |\n",
       "| 8.101476e-07 | 8.340373e-07 | 8.166240e-07 | 8.014960e-07 | 8.389754e-07 | 1.863791e-05 | 5.635531e-07 | 0.010669049 | 0.010196992 | 0.008929746 | 0.010417548 | 0.010196992 | 0.010669049 | 0.74694016 | 9.592767e-06 |\n",
       "| 7.660737e-07 | 5.987211e-07 | 7.286469e-07 | 6.946154e-07 | 7.625148e-07 | 2.013101e-05 | 9.585798e-07 | 0.010937074 | 0.010846218 | 0.010741734 | 0.010570687 | 0.009928769 | 0.010937074 | 0.84163613 | 1.010695e-05 |\n",
       "\n"
      ],
      "text/plain": [
       "        prev_month_sales prev_3month_sales avg_prev_3months_sales\n",
       "1       7.436898e-07     6.427949e-07      7.060924e-07          \n",
       "2       7.924480e-07     8.289726e-07      7.695696e-07          \n",
       "3       1.139009e-06     7.272208e-07      9.598006e-07          \n",
       "4       7.893375e-07     7.184410e-07      8.082575e-07          \n",
       "5       7.184410e-07     8.508061e-07      7.272208e-07          \n",
       "6       7.476011e-07     7.272208e-07      7.228797e-07          \n",
       "7       7.092527e-07     8.014960e-07      7.851124e-07          \n",
       "8       6.732417e-07     8.157117e-07      6.859890e-07          \n",
       "9       6.732417e-07     6.788059e-07      6.338155e-07          \n",
       "10      1.088836e-06     6.732417e-07      9.160571e-07          \n",
       "11      8.340373e-07     9.099105e-07      8.738996e-07          \n",
       "12      8.641266e-07     7.955102e-07      8.690736e-07          \n",
       "13      8.766053e-07     8.365218e-07      8.718457e-07          \n",
       "14      7.551987e-07     8.014960e-07      7.741366e-07          \n",
       "15      7.893375e-07     9.029795e-07      7.893375e-07          \n",
       "16      8.044221e-07     7.228797e-07      9.696891e-07          \n",
       "17      7.861772e-07     9.442114e-07      8.575786e-07          \n",
       "18      7.730047e-07     9.354316e-07      7.328644e-07          \n",
       "19      1.102784e-06     1.294982e-06      1.041641e-06          \n",
       "20      1.184147e-06     9.911272e-07      1.090208e-06          \n",
       "21      9.911272e-07     1.074569e-06      1.061838e-06          \n",
       "22      9.721893e-07     1.159284e-06      9.746582e-07          \n",
       "23      9.354316e-07     9.456375e-07      9.598006e-07          \n",
       "24      9.413279e-07     9.606804e-07      9.442114e-07          \n",
       "25      9.047352e-07     1.085365e-06      8.545972e-07          \n",
       "26      1.001032e-06     7.893375e-07      9.364266e-07          \n",
       "27      1.135780e-06     8.508061e-07      1.007370e-06          \n",
       "28      7.924480e-07     8.597855e-07      8.445847e-07          \n",
       "29      8.263907e-07     1.089523e-06      8.445847e-07          \n",
       "30      8.073056e-07     7.730047e-07      8.413989e-07          \n",
       "...     ...              ...               ...                   \n",
       "1734018 8.073056e-07     7.436898e-07      7.903797e-07          \n",
       "1734019 7.476011e-07     8.101476e-07      7.356269e-07          \n",
       "1734020 8.101476e-07     6.427949e-07      7.774939e-07          \n",
       "1734021 7.763811e-07     8.101476e-07      7.564370e-07          \n",
       "1734022 6.946154e-07     7.436898e-07      7.741366e-07          \n",
       "1734023 7.588906e-07     7.396995e-07      7.436898e-07          \n",
       "1734024 6.675163e-07     6.219848e-07      7.601061e-07          \n",
       "1734025 5.987211e-07     6.219848e-07      5.931570e-07          \n",
       "1734026 7.730047e-07     6.427949e-07      7.752621e-07          \n",
       "1734027 8.184360e-07     8.184360e-07      8.597855e-07          \n",
       "1734028 5.987211e-07     7.514364e-07      6.513838e-07          \n",
       "1734029 6.219848e-07     5.723469e-07      7.660737e-07          \n",
       "1734030 8.641266e-07     8.014960e-07      8.568375e-07          \n",
       "1734031 8.619680e-07     8.508061e-07      8.530895e-07          \n",
       "1734032 1.070835e-06     7.314686e-07      1.012163e-06          \n",
       "1734033 9.498550e-07     1.108473e-06      9.857887e-07          \n",
       "1734034 9.877119e-07     9.512411e-07      9.645917e-07          \n",
       "1734035 8.845069e-07     8.976169e-07      9.018004e-07          \n",
       "1734036 9.262433e-07     9.413279e-07      9.278046e-07          \n",
       "1734037 8.237746e-07     7.924480e-07      7.965205e-07          \n",
       "1734038 7.955102e-07     8.389754e-07      8.024762e-07          \n",
       "1734039 1.001032e-06     8.014960e-07      9.288387e-07          \n",
       "1734040 9.566901e-07     9.539844e-07      9.369223e-07          \n",
       "1734041 1.049354e-06     1.045106e-06      1.032397e-06          \n",
       "1734042 1.034523e-06     9.047352e-07      1.000316e-06          \n",
       "1734043 8.129492e-07     9.339296e-07      8.281157e-07          \n",
       "1734044 1.011485e-06     8.745795e-07      9.632965e-07          \n",
       "1734045 9.047352e-07     8.641266e-07      9.230830e-07          \n",
       "1734046 8.101476e-07     8.340373e-07      8.166240e-07          \n",
       "1734047 7.660737e-07     5.987211e-07      7.286469e-07          \n",
       "        min_prev_3months_sales max_prev_3months_sales monthly_oilprice_avg\n",
       "1       6.842175e-07           7.396995e-07           1.982866e-05        \n",
       "2       6.894849e-07           8.101476e-07           2.086680e-05        \n",
       "3       6.788059e-07           1.138474e-06           9.297395e-06        \n",
       "4       7.861772e-07           8.263907e-07           1.072618e-05        \n",
       "5       7.139003e-07           7.436898e-07           8.953826e-06        \n",
       "6       7.092527e-07           7.436898e-07           9.100798e-06        \n",
       "7       7.044931e-07           8.184360e-07           9.197331e-06        \n",
       "8       6.675163e-07           7.139003e-07           8.804668e-06        \n",
       "9       6.067840e-07           6.675163e-07           8.989660e-06        \n",
       "10      6.219848e-07           1.088147e-06           1.034125e-05        \n",
       "11      8.157117e-07           9.470534e-07           1.863791e-05        \n",
       "12      8.340373e-07           9.047352e-07           2.013101e-05        \n",
       "13      7.985258e-07           9.230830e-07           2.043115e-05        \n",
       "14      7.476011e-07           8.157117e-07           1.664054e-05        \n",
       "15      7.588906e-07           8.184360e-07           8.437939e-06        \n",
       "16      8.014960e-07           1.074569e-06           1.053174e-05        \n",
       "17      7.829655e-07           9.339296e-07           9.545741e-06        \n",
       "18      4.776248e-07           8.157117e-07           9.458953e-06        \n",
       "19      9.899953e-07           1.102142e-06           1.988111e-05        \n",
       "20      1.009439e-06           1.183722e-06           2.086680e-05        \n",
       "21      9.830643e-07           1.158802e-06           1.167664e-05        \n",
       "22      9.442114e-07           1.004227e-06           8.437939e-06        \n",
       "23      9.339296e-07           9.933717e-07           8.354170e-06        \n",
       "24      9.354316e-07           9.566901e-07           8.895136e-06        \n",
       "25      7.861772e-07           9.029795e-07           1.988111e-05        \n",
       "26      8.315212e-07           9.999561e-07           2.086680e-05        \n",
       "27      8.805956e-07           1.135236e-06           9.297395e-06        \n",
       "28      7.893375e-07           8.845069e-07           8.953826e-06        \n",
       "29      7.695696e-07           9.132869e-07           8.804668e-06        \n",
       "30      8.044221e-07           8.902323e-07           8.989660e-06        \n",
       "...     ...                    ...                    ...                 \n",
       "1734018 7.551987e-07           8.073056e-07           8.894217e-06        \n",
       "1734019 6.360989e-07           7.955102e-07           1.838161e-05        \n",
       "1734020 7.092527e-07           8.073056e-07           1.168167e-05        \n",
       "1734021 6.732417e-07           8.014960e-07           9.962069e-06        \n",
       "1734022 6.894849e-07           8.073056e-07           1.002462e-05        \n",
       "1734023 6.732417e-07           7.861772e-07           7.386921e-06        \n",
       "1734024 5.723469e-07           8.976169e-07           8.989660e-06        \n",
       "1734025 5.723469e-07           6.145306e-07           1.005615e-05        \n",
       "1734026 7.314686e-07           8.157117e-07           1.863791e-05        \n",
       "1734027 8.101476e-07           9.293538e-07           2.102055e-05        \n",
       "1734028 5.903150e-07           6.842175e-07           1.988111e-05        \n",
       "1734029 6.145306e-07           8.263907e-07           1.838161e-05        \n",
       "1734030 8.484960e-07           8.619680e-07           1.168167e-05        \n",
       "1734031 8.365218e-07           8.619680e-07           9.297395e-06        \n",
       "1734032 8.976169e-07           1.070080e-06           9.100798e-06        \n",
       "1734033 9.484592e-07           1.024296e-06           7.386921e-06        \n",
       "1734034 9.064754e-07           9.899953e-07           8.804668e-06        \n",
       "1734035 8.825609e-07           9.182457e-07           1.005615e-05        \n",
       "1734036 7.436898e-07           1.023340e-06           1.863791e-05        \n",
       "1734037 7.695696e-07           8.211233e-07           1.982866e-05        \n",
       "1734038 7.924480e-07           8.157117e-07           2.086680e-05        \n",
       "1734039 7.660737e-07           9.999561e-07           1.838161e-05        \n",
       "1734040 9.029795e-07           9.553419e-07           1.168167e-05        \n",
       "1734041 1.022379e-06           1.048512e-06           9.100798e-06        \n",
       "1734042 9.324161e-07           1.033615e-06           9.197331e-06        \n",
       "1734043 8.101476e-07           8.597855e-07           8.804668e-06        \n",
       "1734044 8.530895e-07           1.010465e-06           1.034125e-05        \n",
       "1734045 9.029795e-07           9.484592e-07           9.181164e-06        \n",
       "1734046 8.014960e-07           8.389754e-07           1.863791e-05        \n",
       "1734047 6.946154e-07           7.625148e-07           2.013101e-05        \n",
       "        total_month_holidays total_month_transactions prev_month_transactions\n",
       "1       3.660398e-07         0.009169330              0.008797215            \n",
       "2       7.610664e-07         0.009022380              0.009327538            \n",
       "3       1.685264e-07         0.009342747              0.010573255            \n",
       "4       9.585798e-07         0.009113039              0.009439923            \n",
       "5       1.685264e-07         0.009121532              0.008820126            \n",
       "6       3.660398e-07         0.009052995              0.009121532            \n",
       "7       5.635531e-07         0.008964114              0.009237867            \n",
       "8       7.610664e-07         0.008871282              0.008939030            \n",
       "9       1.353606e-06         0.008540645              0.009011517            \n",
       "10      1.685264e-07         0.008975174              0.010288441            \n",
       "11      5.635531e-07         0.006671379              0.006537465            \n",
       "12      9.585798e-07         0.006350222              0.006217888            \n",
       "13      7.610664e-07         0.006253046              0.006283068            \n",
       "14      3.660398e-07         0.005784939              0.006203470            \n",
       "15      7.610664e-07         0.005933074              0.005791852            \n",
       "16      3.660398e-07         0.004703159              0.005006342            \n",
       "17      5.635531e-07         0.005349422              0.005243160            \n",
       "18      7.610664e-07         0.002688523              0.005366408            \n",
       "19      5.635531e-07         0.014940275              0.013687448            \n",
       "20      7.610664e-07         0.014189724              0.014884971            \n",
       "21      5.635531e-07         0.014435826              0.013739789            \n",
       "22      7.610664e-07         0.014356820              0.013907872            \n",
       "23      1.353606e-06         0.012959018              0.013621281            \n",
       "24      1.685264e-07         0.013456950              0.013731691            \n",
       "25      5.635531e-07         0.007273992              0.006513171            \n",
       "26      7.610664e-07         0.007088527              0.007341344            \n",
       "27      1.685264e-07         0.007138300              0.008019605            \n",
       "28      1.685264e-07         0.006871065              0.007246143            \n",
       "29      7.610664e-07         0.006846968              0.007049419            \n",
       "30      1.353606e-06         0.006962909              0.007049222            \n",
       "...     ...                  ...                      ...                    \n",
       "1734018 7.610664e-07         0.009934694              0.010330511            \n",
       "1734019 1.685264e-07         0.004255988              0.004846751            \n",
       "1734020 7.610664e-07         0.005875005              0.004354350            \n",
       "1734021 3.660398e-07         0.004623758              0.004775843            \n",
       "1734022 9.585798e-07         0.005177981              0.005046832            \n",
       "1734023 3.660398e-07         0.005245925              0.005081594            \n",
       "1734024 1.353606e-06         0.006647875              0.006658343            \n",
       "1734025 9.585798e-07         0.006653603              0.006821489            \n",
       "1734026 5.635531e-07         0.005504075              0.005182523            \n",
       "1734027 7.610664e-07         0.005393665              0.005044462            \n",
       "1734028 5.635531e-07         0.005286218              0.004791249            \n",
       "1734029 1.685264e-07         0.005073496              0.005613102            \n",
       "1734030 7.610664e-07         0.006193199              0.005250666            \n",
       "1734031 1.685264e-07         0.005176203              0.006193199            \n",
       "1734032 3.660398e-07         0.005201287              0.005082977            \n",
       "1734033 3.660398e-07         0.005049597              0.004798755            \n",
       "1734034 7.610664e-07         0.005105098              0.005216891            \n",
       "1734035 9.585798e-07         0.004781571              0.004786707            \n",
       "1734036 5.635531e-07         0.010984083              0.010536122            \n",
       "1734037 3.660398e-07         0.010848391              0.010805135            \n",
       "1734038 7.610664e-07         0.011096863              0.011429673            \n",
       "1734039 1.685264e-07         0.010979540              0.011041756            \n",
       "1734040 7.610664e-07         0.013170753              0.010777089            \n",
       "1734041 3.660398e-07         0.010793877              0.010599722            \n",
       "1734042 5.635531e-07         0.011124515              0.011206285            \n",
       "1734043 7.610664e-07         0.010308192              0.010764645            \n",
       "1734044 1.685264e-07         0.010682875              0.012910035            \n",
       "1734045 5.635531e-07         0.010908040              0.010619473            \n",
       "1734046 5.635531e-07         0.010669049              0.010196992            \n",
       "1734047 9.585798e-07         0.010937074              0.010846218            \n",
       "        prev_3month_transactions avg_prev_3months_transactions\n",
       "1       0.009455724              0.009003485                  \n",
       "2       0.008751984              0.009147472                  \n",
       "3       0.009191254              0.009472118                  \n",
       "4       0.009342747              0.008914801                  \n",
       "5       0.009454934              0.009087428                  \n",
       "6       0.009320625              0.008998218                  \n",
       "7       0.008424507              0.009111920                  \n",
       "8       0.008964114              0.008939556                  \n",
       "9       0.008871282              0.008806761                  \n",
       "10      0.009011517              0.009268087                  \n",
       "11      0.006008722              0.006571635                  \n",
       "12      0.006051187              0.006129336                  \n",
       "13      0.006350222              0.006345350                  \n",
       "14      0.006253046              0.006165679                  \n",
       "15      0.006071926              0.005856505                  \n",
       "16      0.004913313              0.005348566                  \n",
       "17      0.004703159              0.005253694                  \n",
       "18      0.005349422              0.004400634                  \n",
       "19      0.017566214              0.014240485                  \n",
       "20      0.014940275              0.014558218                  \n",
       "21      0.012790935              0.014042511                  \n",
       "22      0.014435826              0.013859416                  \n",
       "23      0.014356820              0.013367871                  \n",
       "24      0.012775924              0.013522261                  \n",
       "25      0.008002421              0.006879821                  \n",
       "26      0.007273992              0.007250686                  \n",
       "27      0.007223429              0.007453927                  \n",
       "28      0.007700226              0.007154628                  \n",
       "29      0.007564732              0.006959946                  \n",
       "30      0.006846968              0.006914913                  \n",
       "...     ...                      ...                          \n",
       "1734018 0.009513398              0.009856940                  \n",
       "1734019 0.005780396              0.004600057                  \n",
       "1734020 0.004255988              0.004874600                  \n",
       "1734021 0.004354350              0.005091536                  \n",
       "1734022 0.004910350              0.005211492                  \n",
       "1734023 0.006562549              0.005039129                  \n",
       "1734024 0.007995311              0.006615483                  \n",
       "1734025 0.006590793              0.006649850                  \n",
       "1734026 0.004909955              0.005416577                  \n",
       "1734027 0.005504075              0.005179561                  \n",
       "1734028 0.006008327              0.004979809                  \n",
       "1734029 0.005199707              0.005297081                  \n",
       "1734030 0.005073496              0.005529818                  \n",
       "1734031 0.005145588              0.005540023                  \n",
       "1734032 0.005268442              0.005256723                  \n",
       "1734033 0.005927346              0.004823247                  \n",
       "1734034 0.005340929              0.005106678                  \n",
       "1734035 0.004818704              0.004730613                  \n",
       "1734036 0.009501943              0.010900205                  \n",
       "1734037 0.010860439              0.010848654                  \n",
       "1734038 0.011236307              0.011228275                  \n",
       "1734039 0.011096863              0.010959920                  \n",
       "1734040 0.010979540              0.011663792                  \n",
       "1734041 0.010939840              0.010728237                  \n",
       "1734042 0.010374754              0.011139526                  \n",
       "1734043 0.011124515              0.010551199                  \n",
       "1734044 0.010720600              0.011327887                  \n",
       "1734045 0.010632311              0.010795852                  \n",
       "1734046 0.008929746              0.010417548                  \n",
       "1734047 0.010741734              0.010570687                  \n",
       "        min_prev_3months_transactions max_prev_3months_transactions\n",
       "1       0.008797215                   0.009169330                  \n",
       "2       0.009022380                   0.009327538                  \n",
       "3       0.008500352                   0.010573255                  \n",
       "4       0.008191442                   0.009439923                  \n",
       "5       0.008820126                   0.009320625                  \n",
       "6       0.008820126                   0.009121532                  \n",
       "7       0.008964114                   0.009237867                  \n",
       "8       0.008871282                   0.009008357                  \n",
       "9       0.008540645                   0.009011517                  \n",
       "10      0.008540645                   0.010288441                  \n",
       "11      0.006506060                   0.006671379                  \n",
       "12      0.005819899                   0.006350222                  \n",
       "13      0.006253046                   0.006499937                  \n",
       "14      0.005784939                   0.006508628                  \n",
       "15      0.005791852                   0.005933074                  \n",
       "16      0.004703159                   0.006336199                  \n",
       "17      0.005168500                   0.005349422                  \n",
       "18      0.002688523                   0.005366408                  \n",
       "19      0.013687448                   0.014940275                  \n",
       "20      0.014189724                   0.014884971                  \n",
       "21      0.013739789                   0.014435826                  \n",
       "22      0.013313555                   0.014356820                  \n",
       "23      0.012959018                   0.013621281                  \n",
       "24      0.013378142                   0.013731691                  \n",
       "25      0.006513171                   0.007273992                  \n",
       "26      0.007088527                   0.007341344                  \n",
       "27      0.007138300                   0.008019605                  \n",
       "28      0.006871065                   0.007346677                  \n",
       "29      0.006846968                   0.007049419                  \n",
       "30      0.006732608                   0.007049222                  \n",
       "...     ...                           ...                          \n",
       "1734018 0.009305614                   0.010330511                  \n",
       "1734019 0.004255988                   0.004846751                  \n",
       "1734020 0.004354350                   0.005875005                  \n",
       "1734021 0.004623758                   0.005875005                  \n",
       "1734022 0.005046832                   0.005409664                  \n",
       "1734023 0.004789867                   0.005245925                  \n",
       "1734024 0.006540230                   0.006658343                  \n",
       "1734025 0.006474458                   0.006821489                  \n",
       "1734026 0.005182523                   0.005563132                  \n",
       "1734027 0.005044462                   0.005393665                  \n",
       "1734028 0.004791249                   0.005286218                  \n",
       "1734029 0.005073496                   0.005613102                  \n",
       "1734030 0.005145588                   0.006193199                  \n",
       "1734031 0.005176203                   0.006193199                  \n",
       "1734032 0.005082977                   0.005485904                  \n",
       "1734033 0.004621388                   0.005049597                  \n",
       "1734034 0.004998046                   0.005216891                  \n",
       "1734035 0.004623561                   0.004786707                  \n",
       "1734036 0.010536122                   0.011180411                  \n",
       "1734037 0.010805135                   0.010892436                  \n",
       "1734038 0.011096863                   0.011429673                  \n",
       "1734039 0.010858464                   0.011041756                  \n",
       "1734040 0.010777089                   0.013170753                  \n",
       "1734041 0.010599722                   0.010793877                  \n",
       "1734042 0.011087777                   0.011206285                  \n",
       "1734043 0.010308192                   0.010764645                  \n",
       "1734044 0.010390753                   0.012910035                  \n",
       "1734045 0.010619473                   0.010908040                  \n",
       "1734046 0.010196992                   0.010669049                  \n",
       "1734047 0.009928769                   0.010937074                  \n",
       "        total_city_sales sales_perc  \n",
       "1       0.75534773       9.756374e-06\n",
       "2       0.84414277       9.889182e-06\n",
       "3       0.86654644       9.662024e-06\n",
       "4       0.86912216       9.796942e-06\n",
       "5       0.92333480       9.398021e-06\n",
       "6       0.88573414       9.290597e-06\n",
       "7       0.85235715       9.333642e-06\n",
       "8       0.74283258       8.993555e-06\n",
       "9       0.85560100       9.545335e-06\n",
       "10      0.85875369       9.594782e-06\n",
       "11      0.74694016       9.592767e-06\n",
       "12      0.84163613       1.010695e-05\n",
       "13      0.85874861       9.540579e-06\n",
       "14      0.90253889       9.758640e-06\n",
       "15      0.89835491       9.126638e-06\n",
       "16      0.74451962       9.426208e-06\n",
       "17      0.80875189       8.910208e-06\n",
       "18      0.35574125       8.567123e-06\n",
       "19      0.06191955       6.226485e-07\n",
       "20      0.05757755       6.475149e-07\n",
       "21      0.05984079       5.803200e-07\n",
       "22      0.05924914       5.748537e-07\n",
       "23      0.05082425       5.388947e-07\n",
       "24      0.04997375       5.946723e-07\n",
       "25      0.05122555       5.101059e-07\n",
       "26      0.04449381       4.937888e-07\n",
       "27      0.04933361       5.227352e-07\n",
       "28      0.05159823       4.978179e-07\n",
       "29      0.03873480       4.414913e-07\n",
       "30      0.04227253       4.440503e-07\n",
       "...     ...              ...         \n",
       "1734018 0.18957090       2.206573e-06\n",
       "1734019 0.01612823       1.483899e-07\n",
       "1734020 0.02254143       1.799638e-07\n",
       "1734021 0.01650953       1.712204e-07\n",
       "1734022 0.01953714       1.794783e-07\n",
       "1734023 0.01680185       1.658955e-07\n",
       "1734024 0.02607589       2.628071e-07\n",
       "1734025 0.03947848       4.264975e-07\n",
       "1734026 0.02001742       2.288690e-07\n",
       "1734027 0.02071929       2.369946e-07\n",
       "1734028 0.02326005       2.157998e-07\n",
       "1734029 0.02280301       2.217983e-07\n",
       "1734030 0.02583784       2.105203e-07\n",
       "1734031 0.02273316       2.252494e-07\n",
       "1734032 0.02407852       2.243646e-07\n",
       "1734033 0.02139263       2.191431e-07\n",
       "1734034 0.02306302       2.511399e-07\n",
       "1734035 0.02105700       2.139592e-07\n",
       "1734036 0.74694016       9.592767e-06\n",
       "1734037 0.75534773       9.756374e-06\n",
       "1734038 0.84414277       9.889182e-06\n",
       "1734039 0.90454060       9.919051e-06\n",
       "1734040 1.00000000       9.240630e-06\n",
       "1734041 0.88573414       9.290597e-06\n",
       "1734042 0.85235715       9.333642e-06\n",
       "1734043 0.74283258       8.993555e-06\n",
       "1734044 0.85875369       9.594782e-06\n",
       "1734045 0.79963438       8.947516e-06\n",
       "1734046 0.74694016       9.592767e-06\n",
       "1734047 0.84163613       1.010695e-05"
      ]
     },
     "metadata": {},
     "output_type": "display_data"
    }
   ],
   "source": [
    "df[,nf]"
   ]
  },
  {
   "cell_type": "code",
   "execution_count": 26,
   "metadata": {},
   "outputs": [],
   "source": [
    "write.csv(df,file=\"/Users/Guy/Documents/DataScience/data/minmaxeng.csv\", row.names=FALSE)"
   ]
  },
  {
   "cell_type": "code",
   "execution_count": null,
   "metadata": {},
   "outputs": [],
   "source": []
  }
 ],
 "metadata": {
  "kernelspec": {
   "display_name": "R",
   "language": "R",
   "name": "ir"
  },
  "language_info": {
   "codemirror_mode": "r",
   "file_extension": ".r",
   "mimetype": "text/x-r-source",
   "name": "R",
   "pygments_lexer": "r",
   "version": "3.6.1"
  }
 },
 "nbformat": 4,
 "nbformat_minor": 2
}
