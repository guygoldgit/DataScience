{
 "cells": [
  {
   "cell_type": "code",
   "execution_count": null,
   "metadata": {},
   "outputs": [],
   "source": [
    "data <- Orange\n",
    "head(data)\n",
    "mod <- lm(age~circumference,data=data)\n",
    "summary(mod)\n",
    "yhat <- predict(mod,data)\n",
    "plot(yhat ~data$age)\n",
    "scatter.smooth(yhat~data$age)"
   ]
  },
  {
   "cell_type": "code",
   "execution_count": 6,
   "metadata": {},
   "outputs": [
    {
     "data": {
      "text/html": [
       "<dl class=dl-horizontal>\n",
       "\t<dt>1</dt>\n",
       "\t\t<dd>251.083562176759</dd>\n",
       "\t<dt>2</dt>\n",
       "\t\t<dd>469.931518604971</dd>\n",
       "\t<dt>3</dt>\n",
       "\t\t<dd>696.595473477047</dd>\n",
       "\t<dt>4</dt>\n",
       "\t\t<dd>915.443429905259</dd>\n",
       "\t<dt>5</dt>\n",
       "\t\t<dd>954.523422124582</dd>\n",
       "\t<dt>6</dt>\n",
       "\t\t<dd>1126.47538788961</dd>\n",
       "\t<dt>7</dt>\n",
       "\t\t<dd>1149.9233832212</dd>\n",
       "\t<dt>8</dt>\n",
       "\t\t<dd>274.531557508353</dd>\n",
       "\t<dt>9</dt>\n",
       "\t\t<dd>555.907501487482</dd>\n",
       "\t<dt>10</dt>\n",
       "\t\t<dd>884.1794361298</dd>\n",
       "\t<dt>11</dt>\n",
       "\t\t<dd>1235.89936610371</dd>\n",
       "\t<dt>12</dt>\n",
       "\t\t<dd>1360.95534120555</dd>\n",
       "\t<dt>13</dt>\n",
       "\t\t<dd>1603.25129296535</dd>\n",
       "\t<dt>14</dt>\n",
       "\t\t<dd>1603.25129296535</dd>\n",
       "\t<dt>15</dt>\n",
       "\t\t<dd>251.083562176759</dd>\n",
       "\t<dt>16</dt>\n",
       "\t\t<dd>415.219529497918</dd>\n",
       "\t<dt>17</dt>\n",
       "\t\t<dd>602.803492150671</dd>\n",
       "\t<dt>18</dt>\n",
       "\t\t<dd>860.731440798206</dd>\n",
       "\t<dt>19</dt>\n",
       "\t\t<dd>915.443429905259</dd>\n",
       "\t<dt>20</dt>\n",
       "\t\t<dd>1103.02739255801</dd>\n",
       "\t<dt>21</dt>\n",
       "\t\t<dd>1110.84339100188</dd>\n",
       "\t<dt>22</dt>\n",
       "\t\t<dd>266.715559064488</dd>\n",
       "\t<dt>23</dt>\n",
       "\t\t<dd>501.19551238043</dd>\n",
       "\t<dt>24</dt>\n",
       "\t\t<dd>891.995434573665</dd>\n",
       "\t<dt>25</dt>\n",
       "\t\t<dd>1321.87534898622</dd>\n",
       "\t<dt>26</dt>\n",
       "\t\t<dd>1415.6673303126</dd>\n",
       "\t<dt>27</dt>\n",
       "\t\t<dd>1650.14728362854</dd>\n",
       "\t<dt>28</dt>\n",
       "\t\t<dd>1689.22727584787</dd>\n",
       "\t<dt>29</dt>\n",
       "\t\t<dd>251.083562176759</dd>\n",
       "\t<dt>30</dt>\n",
       "\t\t<dd>399.587532610188</dd>\n",
       "\t<dt>31</dt>\n",
       "\t\t<dd>649.699482813859</dd>\n",
       "\t<dt>32</dt>\n",
       "\t\t<dd>993.603414343906</dd>\n",
       "\t<dt>33</dt>\n",
       "\t\t<dd>1126.47538788961</dd>\n",
       "\t<dt>34</dt>\n",
       "\t\t<dd>1376.58733809328</dd>\n",
       "\t<dt>35</dt>\n",
       "\t\t<dd>1400.03533342487</dd>\n",
       "</dl>\n"
      ],
      "text/latex": [
       "\\begin{description*}\n",
       "\\item[1] 251.083562176759\n",
       "\\item[2] 469.931518604971\n",
       "\\item[3] 696.595473477047\n",
       "\\item[4] 915.443429905259\n",
       "\\item[5] 954.523422124582\n",
       "\\item[6] 1126.47538788961\n",
       "\\item[7] 1149.9233832212\n",
       "\\item[8] 274.531557508353\n",
       "\\item[9] 555.907501487482\n",
       "\\item[10] 884.1794361298\n",
       "\\item[11] 1235.89936610371\n",
       "\\item[12] 1360.95534120555\n",
       "\\item[13] 1603.25129296535\n",
       "\\item[14] 1603.25129296535\n",
       "\\item[15] 251.083562176759\n",
       "\\item[16] 415.219529497918\n",
       "\\item[17] 602.803492150671\n",
       "\\item[18] 860.731440798206\n",
       "\\item[19] 915.443429905259\n",
       "\\item[20] 1103.02739255801\n",
       "\\item[21] 1110.84339100188\n",
       "\\item[22] 266.715559064488\n",
       "\\item[23] 501.19551238043\n",
       "\\item[24] 891.995434573665\n",
       "\\item[25] 1321.87534898622\n",
       "\\item[26] 1415.6673303126\n",
       "\\item[27] 1650.14728362854\n",
       "\\item[28] 1689.22727584787\n",
       "\\item[29] 251.083562176759\n",
       "\\item[30] 399.587532610188\n",
       "\\item[31] 649.699482813859\n",
       "\\item[32] 993.603414343906\n",
       "\\item[33] 1126.47538788961\n",
       "\\item[34] 1376.58733809328\n",
       "\\item[35] 1400.03533342487\n",
       "\\end{description*}\n"
      ],
      "text/markdown": [
       "1\n",
       ":   251.0835621767592\n",
       ":   469.9315186049713\n",
       ":   696.5954734770474\n",
       ":   915.4434299052595\n",
       ":   954.5234221245826\n",
       ":   1126.475387889617\n",
       ":   1149.92338322128\n",
       ":   274.5315575083539\n",
       ":   555.90750148748210\n",
       ":   884.179436129811\n",
       ":   1235.8993661037112\n",
       ":   1360.9553412055513\n",
       ":   1603.2512929653514\n",
       ":   1603.2512929653515\n",
       ":   251.08356217675916\n",
       ":   415.21952949791817\n",
       ":   602.80349215067118\n",
       ":   860.73144079820619\n",
       ":   915.44342990525920\n",
       ":   1103.0273925580121\n",
       ":   1110.8433910018822\n",
       ":   266.71555906448823\n",
       ":   501.1955123804324\n",
       ":   891.99543457366525\n",
       ":   1321.8753489862226\n",
       ":   1415.667330312627\n",
       ":   1650.1472836285428\n",
       ":   1689.2272758478729\n",
       ":   251.08356217675930\n",
       ":   399.58753261018831\n",
       ":   649.69948281385932\n",
       ":   993.60341434390633\n",
       ":   1126.4753878896134\n",
       ":   1376.5873380932835\n",
       ":   1400.03533342487\n",
       "\n"
      ],
      "text/plain": [
       "        1         2         3         4         5         6         7         8 \n",
       " 251.0836  469.9315  696.5955  915.4434  954.5234 1126.4754 1149.9234  274.5316 \n",
       "        9        10        11        12        13        14        15        16 \n",
       " 555.9075  884.1794 1235.8994 1360.9553 1603.2513 1603.2513  251.0836  415.2195 \n",
       "       17        18        19        20        21        22        23        24 \n",
       " 602.8035  860.7314  915.4434 1103.0274 1110.8434  266.7156  501.1955  891.9954 \n",
       "       25        26        27        28        29        30        31        32 \n",
       "1321.8753 1415.6673 1650.1473 1689.2273  251.0836  399.5875  649.6995  993.6034 \n",
       "       33        34        35 \n",
       "1126.4754 1376.5873 1400.0353 "
      ]
     },
     "metadata": {},
     "output_type": "display_data"
    }
   ],
   "source": [
    "yhat"
   ]
  },
  {
   "cell_type": "code",
   "execution_count": 9,
   "metadata": {},
   "outputs": [
    {
     "data": {
      "text/html": [
       "<table>\n",
       "<caption>A data.frame: 6 × 5</caption>\n",
       "<thead>\n",
       "\t<tr><th scope=col>Sepal.Length</th><th scope=col>Sepal.Width</th><th scope=col>Petal.Length</th><th scope=col>Petal.Width</th><th scope=col>Species</th></tr>\n",
       "\t<tr><th scope=col>&lt;dbl&gt;</th><th scope=col>&lt;dbl&gt;</th><th scope=col>&lt;dbl&gt;</th><th scope=col>&lt;dbl&gt;</th><th scope=col>&lt;fct&gt;</th></tr>\n",
       "</thead>\n",
       "<tbody>\n",
       "\t<tr><td>5.1</td><td>3.5</td><td>1.4</td><td>0.2</td><td>setosa</td></tr>\n",
       "\t<tr><td>4.9</td><td>3.0</td><td>1.4</td><td>0.2</td><td>setosa</td></tr>\n",
       "\t<tr><td>4.7</td><td>3.2</td><td>1.3</td><td>0.2</td><td>setosa</td></tr>\n",
       "\t<tr><td>4.6</td><td>3.1</td><td>1.5</td><td>0.2</td><td>setosa</td></tr>\n",
       "\t<tr><td>5.0</td><td>3.6</td><td>1.4</td><td>0.2</td><td>setosa</td></tr>\n",
       "\t<tr><td>5.4</td><td>3.9</td><td>1.7</td><td>0.4</td><td>setosa</td></tr>\n",
       "</tbody>\n",
       "</table>\n"
      ],
      "text/latex": [
       "A data.frame: 6 × 5\n",
       "\\begin{tabular}{r|lllll}\n",
       " Sepal.Length & Sepal.Width & Petal.Length & Petal.Width & Species\\\\\n",
       " <dbl> & <dbl> & <dbl> & <dbl> & <fct>\\\\\n",
       "\\hline\n",
       "\t 5.1 & 3.5 & 1.4 & 0.2 & setosa\\\\\n",
       "\t 4.9 & 3.0 & 1.4 & 0.2 & setosa\\\\\n",
       "\t 4.7 & 3.2 & 1.3 & 0.2 & setosa\\\\\n",
       "\t 4.6 & 3.1 & 1.5 & 0.2 & setosa\\\\\n",
       "\t 5.0 & 3.6 & 1.4 & 0.2 & setosa\\\\\n",
       "\t 5.4 & 3.9 & 1.7 & 0.4 & setosa\\\\\n",
       "\\end{tabular}\n"
      ],
      "text/markdown": [
       "\n",
       "A data.frame: 6 × 5\n",
       "\n",
       "| Sepal.Length &lt;dbl&gt; | Sepal.Width &lt;dbl&gt; | Petal.Length &lt;dbl&gt; | Petal.Width &lt;dbl&gt; | Species &lt;fct&gt; |\n",
       "|---|---|---|---|---|\n",
       "| 5.1 | 3.5 | 1.4 | 0.2 | setosa |\n",
       "| 4.9 | 3.0 | 1.4 | 0.2 | setosa |\n",
       "| 4.7 | 3.2 | 1.3 | 0.2 | setosa |\n",
       "| 4.6 | 3.1 | 1.5 | 0.2 | setosa |\n",
       "| 5.0 | 3.6 | 1.4 | 0.2 | setosa |\n",
       "| 5.4 | 3.9 | 1.7 | 0.4 | setosa |\n",
       "\n"
      ],
      "text/plain": [
       "  Sepal.Length Sepal.Width Petal.Length Petal.Width Species\n",
       "1 5.1          3.5         1.4          0.2         setosa \n",
       "2 4.9          3.0         1.4          0.2         setosa \n",
       "3 4.7          3.2         1.3          0.2         setosa \n",
       "4 4.6          3.1         1.5          0.2         setosa \n",
       "5 5.0          3.6         1.4          0.2         setosa \n",
       "6 5.4          3.9         1.7          0.4         setosa "
      ]
     },
     "metadata": {},
     "output_type": "display_data"
    }
   ],
   "source": [
    "data<-iris\n",
    "head(data)"
   ]
  },
  {
   "cell_type": "code",
   "execution_count": 14,
   "metadata": {},
   "outputs": [
    {
     "data": {
      "text/html": [
       "<table>\n",
       "<caption>A data.frame: 6 × 5</caption>\n",
       "<thead>\n",
       "\t<tr><th scope=col>Sepal.Length</th><th scope=col>Sepal.Width</th><th scope=col>Petal.Length</th><th scope=col>Petal.Width</th><th scope=col>Species</th></tr>\n",
       "\t<tr><th scope=col>&lt;dbl&gt;</th><th scope=col>&lt;dbl&gt;</th><th scope=col>&lt;dbl&gt;</th><th scope=col>&lt;dbl&gt;</th><th scope=col>&lt;fct&gt;</th></tr>\n",
       "</thead>\n",
       "<tbody>\n",
       "\t<tr><td>5.1</td><td>3.5</td><td>1.4</td><td>0.2</td><td>setosa</td></tr>\n",
       "\t<tr><td>4.9</td><td>3.0</td><td>1.4</td><td>0.2</td><td>setosa</td></tr>\n",
       "\t<tr><td>4.7</td><td>3.2</td><td>1.3</td><td>0.2</td><td>setosa</td></tr>\n",
       "\t<tr><td>4.6</td><td>3.1</td><td>1.5</td><td>0.2</td><td>setosa</td></tr>\n",
       "\t<tr><td>5.0</td><td>3.6</td><td>1.4</td><td>0.2</td><td>setosa</td></tr>\n",
       "\t<tr><td>5.4</td><td>3.9</td><td>1.7</td><td>0.4</td><td>setosa</td></tr>\n",
       "</tbody>\n",
       "</table>\n"
      ],
      "text/latex": [
       "A data.frame: 6 × 5\n",
       "\\begin{tabular}{r|lllll}\n",
       " Sepal.Length & Sepal.Width & Petal.Length & Petal.Width & Species\\\\\n",
       " <dbl> & <dbl> & <dbl> & <dbl> & <fct>\\\\\n",
       "\\hline\n",
       "\t 5.1 & 3.5 & 1.4 & 0.2 & setosa\\\\\n",
       "\t 4.9 & 3.0 & 1.4 & 0.2 & setosa\\\\\n",
       "\t 4.7 & 3.2 & 1.3 & 0.2 & setosa\\\\\n",
       "\t 4.6 & 3.1 & 1.5 & 0.2 & setosa\\\\\n",
       "\t 5.0 & 3.6 & 1.4 & 0.2 & setosa\\\\\n",
       "\t 5.4 & 3.9 & 1.7 & 0.4 & setosa\\\\\n",
       "\\end{tabular}\n"
      ],
      "text/markdown": [
       "\n",
       "A data.frame: 6 × 5\n",
       "\n",
       "| Sepal.Length &lt;dbl&gt; | Sepal.Width &lt;dbl&gt; | Petal.Length &lt;dbl&gt; | Petal.Width &lt;dbl&gt; | Species &lt;fct&gt; |\n",
       "|---|---|---|---|---|\n",
       "| 5.1 | 3.5 | 1.4 | 0.2 | setosa |\n",
       "| 4.9 | 3.0 | 1.4 | 0.2 | setosa |\n",
       "| 4.7 | 3.2 | 1.3 | 0.2 | setosa |\n",
       "| 4.6 | 3.1 | 1.5 | 0.2 | setosa |\n",
       "| 5.0 | 3.6 | 1.4 | 0.2 | setosa |\n",
       "| 5.4 | 3.9 | 1.7 | 0.4 | setosa |\n",
       "\n"
      ],
      "text/plain": [
       "  Sepal.Length Sepal.Width Petal.Length Petal.Width Species\n",
       "1 5.1          3.5         1.4          0.2         setosa \n",
       "2 4.9          3.0         1.4          0.2         setosa \n",
       "3 4.7          3.2         1.3          0.2         setosa \n",
       "4 4.6          3.1         1.5          0.2         setosa \n",
       "5 5.0          3.6         1.4          0.2         setosa \n",
       "6 5.4          3.9         1.7          0.4         setosa "
      ]
     },
     "metadata": {},
     "output_type": "display_data"
    },
    {
     "data": {
      "text/plain": [
       "\n",
       "Call:\n",
       "glm(formula = factor(y) ~ Sepal.Width + Petal.Length, family = \"binomial\", \n",
       "    data = data)\n",
       "\n",
       "Deviance Residuals: \n",
       "    Min       1Q   Median       3Q      Max  \n",
       "-1.9740  -0.8325  -0.4377   0.8709   2.0731  \n",
       "\n",
       "Coefficients:\n",
       "             Estimate Std. Error z value Pr(>|z|)    \n",
       "(Intercept)   8.56152    2.15716   3.969 7.22e-05 ***\n",
       "Sepal.Width  -3.16622    0.66173  -4.785 1.71e-06 ***\n",
       "Petal.Length  0.03974    0.13296   0.299    0.765    \n",
       "---\n",
       "Signif. codes:  0 ‘***’ 0.001 ‘**’ 0.01 ‘*’ 0.05 ‘.’ 0.1 ‘ ’ 1\n",
       "\n",
       "(Dispersion parameter for binomial family taken to be 1)\n",
       "\n",
       "    Null deviance: 190.95  on 149  degrees of freedom\n",
       "Residual deviance: 151.84  on 147  degrees of freedom\n",
       "AIC: 157.84\n",
       "\n",
       "Number of Fisher Scoring iterations: 5\n"
      ]
     },
     "metadata": {},
     "output_type": "display_data"
    },
    {
     "data": {
      "text/plain": [
       "    y\n",
       "yhat  0  1\n",
       "   0 88 29\n",
       "   1 12 21"
      ]
     },
     "metadata": {},
     "output_type": "display_data"
    },
    {
     "name": "stderr",
     "output_type": "stream",
     "text": [
      "Loading required package: carData\n",
      "\n"
     ]
    },
    {
     "data": {
      "text/html": [
       "<dl class=dl-horizontal>\n",
       "\t<dt>Sepal.Width</dt>\n",
       "\t\t<dd>1.07753849960391</dd>\n",
       "\t<dt>Petal.Length</dt>\n",
       "\t\t<dd>1.07753849960391</dd>\n",
       "</dl>\n"
      ],
      "text/latex": [
       "\\begin{description*}\n",
       "\\item[Sepal.Width] 1.07753849960391\n",
       "\\item[Petal.Length] 1.07753849960391\n",
       "\\end{description*}\n"
      ],
      "text/markdown": [
       "Sepal.Width\n",
       ":   1.07753849960391Petal.Length\n",
       ":   1.07753849960391\n",
       "\n"
      ],
      "text/plain": [
       " Sepal.Width Petal.Length \n",
       "    1.077538     1.077538 "
      ]
     },
     "metadata": {},
     "output_type": "display_data"
    },
    {
     "data": {
      "text/html": [
       "0.726666666666667"
      ],
      "text/latex": [
       "0.726666666666667"
      ],
      "text/markdown": [
       "0.726666666666667"
      ],
      "text/plain": [
       "[1] 0.7266667"
      ]
     },
     "metadata": {},
     "output_type": "display_data"
    },
    {
     "data": {
      "image/png": "[encoded data removed]",
      "text/plain": [
       "Plot with title “Histogram of pred”"
      ]
     },
     "metadata": {
      "image/png": {
       "height": 420,
       "width": 420
      },
      "text/plain": {
       "height": 420,
       "width": 420
      }
     },
     "output_type": "display_data"
    }
   ],
   "source": [
    "data<-iris\n",
    "head(data)\n",
    "data$y <- ifelse(data$Species==\"versicolor\",1,0)\n",
    "data$Species<- NULL\n",
    "mod <- glm(factor(y) ~ Sepal.Width + Petal.Length ,family=\"binomial\",data = data)\n",
    "summary(mod)\n",
    "pred <- predict(mod,data,type=\"response\")\n",
    "hist(pred)\n",
    "yhat <- ifelse(pred>=0.5,1,0)\n",
    "table(yhat=yhat,y=data$y)\n",
    "library(car)\n",
    "vif(mod)\n",
    "accuracy <- ((88+21)/nrow(data))\n",
    "accuracy\n",
    "\n"
   ]
  },
  {
   "cell_type": "code",
   "execution_count": null,
   "metadata": {},
   "outputs": [],
   "source": []
  }
 ],
 "metadata": {
  "kernelspec": {
   "display_name": "R",
   "language": "R",
   "name": "ir"
  },
  "language_info": {
   "codemirror_mode": "r",
   "file_extension": ".r",
   "mimetype": "text/x-r-source",
   "name": "R",
   "pygments_lexer": "r",
   "version": "3.6.1"
  }
 },
 "nbformat": 4,
 "nbformat_minor": 2
}
