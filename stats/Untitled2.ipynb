{
 "cells": [
  {
   "cell_type": "code",
   "execution_count": 1,
   "metadata": {},
   "outputs": [
    {
     "name": "stderr",
     "output_type": "stream",
     "text": [
      "\n",
      "Attaching package: 'dplyr'\n",
      "\n",
      "\n",
      "The following objects are masked from 'package:stats':\n",
      "\n",
      "    filter, lag\n",
      "\n",
      "\n",
      "The following objects are masked from 'package:base':\n",
      "\n",
      "    intersect, setdiff, setequal, union\n",
      "\n",
      "\n"
     ]
    }
   ],
   "source": [
    "library(DBI)\n",
    "library(RSQLite)\n",
    "library(dplyr)\n",
    "library(ggplot2)\n",
    "con <- dbConnect(odbc::odbc(), .connection_string = \"DSN=BoxOffice;Trusted_////connection=yes;\", \n",
    "                 timeout = 10)"
   ]
  },
  {
   "cell_type": "code",
   "execution_count": 11,
   "metadata": {},
   "outputs": [],
   "source": [
    "movies_ff_v <- dbReadTable(con,\"movies_ff_v\")"
   ]
  },
  {
   "cell_type": "code",
   "execution_count": 13,
   "metadata": {},
   "outputs": [
    {
     "data": {
      "text/plain": [
       "    movie_id        budget          original_language    popularity     \n",
       " Min.   :   1   Min.   :        0   Length:7375        Min.   :  0.000  \n",
       " 1st Qu.:1848   1st Qu.:        0   Class :character   1st Qu.:  3.970  \n",
       " Median :3696   Median :  8000000   Mode  :character   Median :  7.456  \n",
       " Mean   :3698   Mean   : 22666657                      Mean   :  8.540  \n",
       " 3rd Qu.:5550   3rd Qu.: 29000000                      3rd Qu.: 10.932  \n",
       " Max.   :7398   Max.   :380000000                      Max.   :547.488  \n",
       "                                                                        \n",
       "  release_date           runtime      runtime_cat           revenue         \n",
       " Min.   :1918-08-01   Min.   :  0.0   Length:7375        Min.   :1.000e+00  \n",
       " 1st Qu.:1992-11-13   1st Qu.: 94.0   Class :character   1st Qu.:2.405e+06  \n",
       " Median :2004-07-29   Median :104.0   Mode  :character   Median :1.693e+07  \n",
       " Mean   :2000-03-15   Mean   :107.7                      Mean   :6.688e+07  \n",
       " 3rd Qu.:2011-06-27   3rd Qu.:118.0                      3rd Qu.:6.906e+07  \n",
       " Max.   :2017-08-11   Max.   :338.0                      Max.   :1.520e+09  \n",
       " NA's   :1            NA's   :5                          NA's   :4382       \n",
       "   sw_lang_en     sw_web_presence  sw_has_poster      sw_tagline    \n",
       " Min.   :0.0000   Min.   :0.0000   Min.   :0.0000   Min.   :0.0000  \n",
       " 1st Qu.:1.0000   1st Qu.:0.0000   1st Qu.:1.0000   1st Qu.:1.0000  \n",
       " Median :1.0000   Median :0.0000   Median :1.0000   Median :1.0000  \n",
       " Mean   :0.8591   Mean   :0.3204   Mean   :0.9997   Mean   :0.8045  \n",
       " 3rd Qu.:1.0000   3rd Qu.:1.0000   3rd Qu.:1.0000   3rd Qu.:1.0000  \n",
       " Max.   :1.0000   Max.   :1.0000   Max.   :1.0000   Max.   :1.0000  \n",
       "                                                                    \n",
       "  keyword_cnt       release_year  release_month    high_release_month\n",
       " Min.   :  0.000   Min.   :1918   Min.   : 1.000   Min.   :0.0000    \n",
       " 1st Qu.:  3.000   1st Qu.:1992   1st Qu.: 4.000   1st Qu.:0.0000    \n",
       " Median :  6.000   Median :2004   Median : 7.000   Median :0.0000    \n",
       " Mean   :  7.265   Mean   :2000   Mean   : 6.844   Mean   :0.3997    \n",
       " 3rd Qu.: 10.000   3rd Qu.:2011   3rd Qu.:10.000   3rd Qu.:1.0000    \n",
       " Max.   :149.000   Max.   :2017   Max.   :12.000   Max.   :1.0000    \n",
       "                   NA's   :1      NA's   :1                          \n",
       "  release_day     seasonality        sw_collection     producers_cnt   \n",
       " Min.   : 1.00   Min.   :-50746591   Min.   :0.00000   Min.   : 1.000  \n",
       " 1st Qu.: 8.00   1st Qu.:-33273015   1st Qu.:0.00000   1st Qu.: 1.000  \n",
       " Median :15.00   Median :-15309317   Median :0.00000   Median : 2.000  \n",
       " Mean   :15.25   Mean   : -1337484   Mean   :0.02942   Mean   : 2.908  \n",
       " 3rd Qu.:22.00   3rd Qu.: 32322910   3rd Qu.:0.00000   3rd Qu.: 4.000  \n",
       " Max.   :31.00   Max.   : 74205073   Max.   :2.00000   Max.   :26.000  \n",
       " NA's   :1       NA's   :1                             NA's   :395     \n",
       " countries_cnt       lang_US          lang_FR           lang_RU       \n",
       " Min.   : 0.000   Min.   :0.0000   Min.   :0.00000   Min.   :0.00000  \n",
       " 1st Qu.: 1.000   1st Qu.:1.0000   1st Qu.:0.00000   1st Qu.:0.00000  \n",
       " Median : 1.000   Median :1.0000   Median :0.00000   Median :0.00000  \n",
       " Mean   : 1.335   Mean   :0.8735   Mean   :0.09641   Mean   :0.04854  \n",
       " 3rd Qu.: 1.000   3rd Qu.:1.0000   3rd Qu.:0.00000   3rd Qu.:0.00000  \n",
       " Max.   :12.000   Max.   :1.0000   Max.   :1.00000   Max.   :1.00000  \n",
       "                                                                      \n",
       "    lang_ES          lang_JA         keywords_cnt     actor0_movies_cnt\n",
       " Min.   :0.0000   Min.   :0.00000   Min.   :  0.000   Min.   : 0.00    \n",
       " 1st Qu.:0.0000   1st Qu.:0.00000   1st Qu.:  3.000   1st Qu.: 0.00    \n",
       " Median :0.0000   Median :0.00000   Median :  6.000   Median : 4.00    \n",
       " Mean   :0.0758   Mean   :0.02766   Mean   :  7.265   Mean   : 7.19    \n",
       " 3rd Qu.:0.0000   3rd Qu.:0.00000   3rd Qu.: 10.000   3rd Qu.:11.00    \n",
       " Max.   :1.0000   Max.   :1.00000   Max.   :149.000   Max.   :65.00    \n",
       "                                                                       \n",
       " actor0_movies_5y_cnt actor1_movies_cnt actor1_movies_5y_cnt actor2_movies_cnt\n",
       " Min.   : 0.000       Min.   : 0.000    Min.   : 0.000       Min.   : 0.000   \n",
       " 1st Qu.: 0.000       1st Qu.: 0.000    1st Qu.: 0.000       1st Qu.: 0.000   \n",
       " Median : 2.000       Median : 2.000    Median : 1.000       Median : 2.000   \n",
       " Mean   : 2.769       Mean   : 5.405    Mean   : 2.261       Mean   : 4.773   \n",
       " 3rd Qu.: 5.000       3rd Qu.: 8.000    3rd Qu.: 4.000       3rd Qu.: 7.000   \n",
       " Max.   :16.000       Max.   :67.000    Max.   :17.000       Max.   :68.000   \n",
       "                                                                              \n",
       " actor2_movies_5y_cnt sw_female_actor0 sw_female_actor1 sw_female_actor2\n",
       " Min.   : 0.000       Min.   :0.0000   Min.   :0.0000   Min.   :0.0000  \n",
       " 1st Qu.: 0.000       1st Qu.:0.0000   1st Qu.:0.0000   1st Qu.:0.0000  \n",
       " Median : 1.000       Median :0.0000   Median :0.0000   Median :0.0000  \n",
       " Mean   : 1.915       Mean   :0.2333   Mean   :0.3792   Mean   :0.3379  \n",
       " 3rd Qu.: 3.000       3rd Qu.:0.0000   3rd Qu.:1.0000   3rd Qu.:1.0000  \n",
       " Max.   :15.000       Max.   :1.0000   Max.   :1.0000   Max.   :1.0000  \n",
       "                      NA's   :934      NA's   :782      NA's   :788     \n",
       " sw_male_actor0   sw_male_actor1   sw_male_actor2   actor0_prev_revenue\n",
       " Min.   :0.0000   Min.   :0.0000   Min.   :0.0000   Min.   :1.000e+00  \n",
       " 1st Qu.:0.0000   1st Qu.:0.0000   1st Qu.:0.0000   1st Qu.:4.426e+07  \n",
       " Median :1.0000   Median :1.0000   Median :1.0000   Median :1.515e+08  \n",
       " Mean   :0.6941   Mean   :0.5171   Mean   :0.5436   Mean   :2.233e+08  \n",
       " 3rd Qu.:1.0000   3rd Qu.:1.0000   3rd Qu.:1.0000   3rd Qu.:3.113e+08  \n",
       " Max.   :1.0000   Max.   :1.0000   Max.   :1.0000   Max.   :1.520e+09  \n",
       " NA's   :934      NA's   :782      NA's   :788      NA's   :2752       \n",
       " actor1_prev_revenue actor2_prev_revenue director_movies_cnt\n",
       " Min.   :1.000e+00   Min.   :1.000e+00   Min.   : 0.000     \n",
       " 1st Qu.:3.511e+07   1st Qu.:3.086e+07   1st Qu.: 0.000     \n",
       " Median :1.256e+08   Median :1.109e+08   Median : 1.000     \n",
       " Mean   :2.052e+08   Mean   :1.957e+08   Mean   : 1.952     \n",
       " 3rd Qu.:2.684e+08   3rd Qu.:2.506e+08   3rd Qu.: 3.000     \n",
       " Max.   :1.520e+09   Max.   :1.520e+09   Max.   :29.000     \n",
       " NA's   :3201        NA's   :3423                           \n",
       " director_movies_5y_cnt genre_adventure  genre_fantasy     genre_animation \n",
       " Min.   :0.0000         Min.   :0.0000   Min.   :0.00000   Min.   :0.0000  \n",
       " 1st Qu.:0.0000         1st Qu.:0.0000   1st Qu.:0.00000   1st Qu.:0.0000  \n",
       " Median :0.0000         Median :0.0000   Median :0.00000   Median :0.0000  \n",
       " Mean   :0.6496         Mean   :0.1513   Mean   :0.08515   Mean   :0.0518  \n",
       " 3rd Qu.:1.0000         3rd Qu.:0.0000   3rd Qu.:0.00000   3rd Qu.:0.0000  \n",
       " Max.   :6.0000         Max.   :1.0000   Max.   :1.00000   Max.   :1.0000  \n",
       "                                                                           \n",
       "  genre_drama      genre_horror      genre_action     genre_comedy   \n",
       " Min.   :0.0000   Min.   :0.00000   Min.   :0.0000   Min.   :0.0000  \n",
       " 1st Qu.:0.0000   1st Qu.:0.00000   1st Qu.:0.0000   1st Qu.:0.0000  \n",
       " Median :0.0000   Median :0.00000   Median :0.0000   Median :0.0000  \n",
       " Mean   :0.4984   Mean   :0.09966   Mean   :0.2353   Mean   :0.3532  \n",
       " 3rd Qu.:1.0000   3rd Qu.:0.00000   3rd Qu.:0.0000   3rd Qu.:1.0000  \n",
       " Max.   :1.0000   Max.   :1.00000   Max.   :1.0000   Max.   :1.0000  \n",
       "                                                                     \n",
       " genre_history  genre_western     genre_thriller    genre_crime   \n",
       " Min.   :0.00   Min.   :0.00000   Min.   :0.0000   Min.   :0.000  \n",
       " 1st Qu.:0.00   1st Qu.:0.00000   1st Qu.:0.0000   1st Qu.:0.000  \n",
       " Median :0.00   Median :0.00000   Median :0.0000   Median :0.000  \n",
       " Mean   :0.04   Mean   :0.01586   Mean   :0.2534   Mean   :0.147  \n",
       " 3rd Qu.:0.00   3rd Qu.:0.00000   3rd Qu.:1.0000   3rd Qu.:0.000  \n",
       " Max.   :1.00   Max.   :1.00000   Max.   :1.0000   Max.   :1.000  \n",
       "                                                                  \n",
       " genre_documentary genre_science_fiction genre_mystery      genre_music    \n",
       " Min.   :0.00000   Min.   :0.0000        Min.   :0.00000   Min.   :0.0000  \n",
       " 1st Qu.:0.00000   1st Qu.:0.0000        1st Qu.:0.00000   1st Qu.:0.0000  \n",
       " Median :0.00000   Median :0.0000        Median :0.00000   Median :0.0000  \n",
       " Mean   :0.02997   Mean   :0.1009        Mean   :0.07458   Mean   :0.0362  \n",
       " 3rd Qu.:0.00000   3rd Qu.:0.0000        3rd Qu.:0.00000   3rd Qu.:0.0000  \n",
       " Max.   :1.00000   Max.   :1.0000        Max.   :1.00000   Max.   :1.0000  \n",
       "                                                                           \n",
       " genre_romance     genre_family       genre_war       genre_foreign    \n",
       " Min.   :0.0000   Min.   :0.00000   Min.   :0.00000   Min.   :0.00000  \n",
       " 1st Qu.:0.0000   1st Qu.:0.00000   1st Qu.:0.00000   1st Qu.:0.00000  \n",
       " Median :0.0000   Median :0.00000   Median :0.00000   Median :0.00000  \n",
       " Mean   :0.1946   Mean   :0.09153   Mean   :0.03295   Mean   :0.01139  \n",
       " 3rd Qu.:0.0000   3rd Qu.:0.00000   3rd Qu.:0.00000   3rd Qu.:0.00000  \n",
       " Max.   :1.0000   Max.   :1.00000   Max.   :1.00000   Max.   :1.00000  \n",
       "                                                                       \n",
       "   depart_Art     depart_Camera     depart_Crew      depart_Custom_Mkup\n",
       " Min.   : 0.000   Min.   : 0.000   Min.   :  0.000   Min.   : 0.000    \n",
       " 1st Qu.: 0.000   1st Qu.: 0.000   1st Qu.:  0.000   1st Qu.: 0.000    \n",
       " Median : 1.000   Median : 1.000   Median :  0.000   Median : 1.000    \n",
       " Mean   : 2.707   Mean   : 1.802   Mean   :  2.388   Mean   : 2.074    \n",
       " 3rd Qu.: 3.000   3rd Qu.: 2.000   3rd Qu.:  2.000   3rd Qu.: 2.000    \n",
       " Max.   :36.000   Max.   :24.000   Max.   :119.000   Max.   :33.000    \n",
       " NA's   :34       NA's   :34       NA's   :34        NA's   :34        \n",
       " depart_Directing depart_Editing   depart_Lighting   depart_Production\n",
       " Min.   : 0.000   Min.   : 0.000   Min.   : 0.0000   Min.   : 0.000   \n",
       " 1st Qu.: 1.000   1st Qu.: 0.000   1st Qu.: 0.0000   1st Qu.: 1.000   \n",
       " Median : 1.000   Median : 1.000   Median : 0.0000   Median : 4.000   \n",
       " Mean   : 1.665   Mean   : 1.516   Mean   : 0.4262   Mean   : 5.301   \n",
       " 3rd Qu.: 2.000   3rd Qu.: 2.000   3rd Qu.: 0.0000   3rd Qu.: 8.000   \n",
       " Max.   :30.000   Max.   :21.000   Max.   :18.0000   Max.   :38.000   \n",
       " NA's   :34       NA's   :34       NA's   :34        NA's   :34       \n",
       "  depart_Sound    depart_Visual_Effects depart_Writing   depart_Art_female\n",
       " Min.   : 0.000   Min.   : 0.00         Min.   : 0.000   Min.   :0.0000   \n",
       " 1st Qu.: 1.000   1st Qu.: 0.00         1st Qu.: 1.000   1st Qu.:0.0000   \n",
       " Median : 1.000   Median : 0.00         Median : 2.000   Median :0.0000   \n",
       " Mean   : 3.064   Mean   : 1.29         Mean   : 2.222   Mean   :0.2351   \n",
       " 3rd Qu.: 3.000   3rd Qu.: 0.00         3rd Qu.: 3.000   3rd Qu.:0.0000   \n",
       " Max.   :40.000   Max.   :89.00         Max.   :23.000   Max.   :7.0000   \n",
       " NA's   :34       NA's   :34            NA's   :34       NA's   :34       \n",
       " depart_Camera_female depart_Crew_female depart_Custom_Mkup_female\n",
       " Min.   :0.00000      Min.   : 0.00000   Min.   :0.0000           \n",
       " 1st Qu.:0.00000      1st Qu.: 0.00000   1st Qu.:0.0000           \n",
       " Median :0.00000      Median : 0.00000   Median :0.0000           \n",
       " Mean   :0.02043      Mean   : 0.06443   Mean   :0.3535           \n",
       " 3rd Qu.:0.00000      3rd Qu.: 0.00000   3rd Qu.:1.0000           \n",
       " Max.   :3.00000      Max.   :10.00000   Max.   :6.0000           \n",
       " NA's   :34           NA's   :34         NA's   :34               \n",
       " depart_Directing_female depart_Editing_female depart_Lighting_female\n",
       " Min.   :0.0000          Min.   :0.0000        Min.   :0.00000       \n",
       " 1st Qu.:0.0000          1st Qu.:0.0000        1st Qu.:0.00000       \n",
       " Median :0.0000          Median :0.0000        Median :0.00000       \n",
       " Mean   :0.1535          Mean   :0.1216        Mean   :0.00068       \n",
       " 3rd Qu.:0.0000          3rd Qu.:0.0000        3rd Qu.:0.00000       \n",
       " Max.   :4.0000          Max.   :5.0000        Max.   :1.00000       \n",
       " NA's   :34              NA's   :34            NA's   :34            \n",
       " depart_Production_female depart_Sound_female depart_Visual_Effects_female\n",
       " Min.   : 0.0000          Min.   :0.00000     Min.   :0.00000             \n",
       " 1st Qu.: 0.0000          1st Qu.:0.00000     1st Qu.:0.00000             \n",
       " Median : 0.0000          Median :0.00000     Median :0.00000             \n",
       " Mean   : 0.9396          Mean   :0.07914     Mean   :0.00845             \n",
       " 3rd Qu.: 2.0000          3rd Qu.:0.00000     3rd Qu.:0.00000             \n",
       " Max.   :12.0000          Max.   :6.00000     Max.   :2.00000             \n",
       " NA's   :34               NA's   :34          NA's   :34                  \n",
       " depart_Writing_female\n",
       " Min.   :0.0000       \n",
       " 1st Qu.:0.0000       \n",
       " Median :0.0000       \n",
       " Mean   :0.1242       \n",
       " 3rd Qu.:0.0000       \n",
       " Max.   :5.0000       \n",
       " NA's   :34           "
      ]
     },
     "metadata": {},
     "output_type": "display_data"
    }
   ],
   "source": [
    "summary(movies_ff_v)"
   ]
  },
  {
   "cell_type": "code",
   "execution_count": null,
   "metadata": {},
   "outputs": [],
   "source": []
  },
  {
   "cell_type": "code",
   "execution_count": 19,
   "metadata": {},
   "outputs": [
    {
     "data": {
      "text/plain": [
       "\n",
       "  af   ar   bm   bn   ca   cn   cs   da   de   el   en   es   fa   fi   fr   he \n",
       "   1    1    2    3    1   41    3   17   49    3 6336   95    5    3  199    6 \n",
       "  hi   hu   id   is   it   ja   ka   kn   ko   ml   mr   nb   nl   no   pl   pt \n",
       " 118    4    3    1   55   90    1    1   48   12    1    1   11    5    5   13 \n",
       "  ro   ru   sr   sv   ta   te   th   tr   ur   vi   xx   zh \n",
       "   8  105    3   20   31    9    5    9    2    1    2   46 "
      ]
     },
     "metadata": {},
     "output_type": "display_data"
    },
    {
     "data": {
      "text/plain": [
       "\n",
       "   0    1 \n",
       "   2 7373 "
      ]
     },
     "metadata": {},
     "output_type": "display_data"
    },
    {
     "data": {
      "text/plain": [
       "\n",
       " Large Medium  Short \n",
       "  1769   3884   1722 "
      ]
     },
     "metadata": {},
     "output_type": "display_data"
    },
    {
     "data": {
      "text/plain": [
       "\n",
       "   0    1 \n",
       "5012 2363 "
      ]
     },
     "metadata": {},
     "output_type": "display_data"
    }
   ],
   "source": [
    "table(movies_ff_v$original_language)\n",
    "table(movies_ff_v$sw_has_poster)\n",
    "table(movies_ff_v$runtime_cat)\n",
    "table(movies_ff_v$sw_web_presence)\n",
    "table(movies_ff_v$sw_tagline)\n",
    "table(movies_ff_v$keyword_cnt)\n",
    "\n",
    "\n"
   ]
  },
  {
   "cell_type": "code",
   "execution_count": null,
   "metadata": {},
   "outputs": [],
   "source": []
  }
 ],
 "metadata": {
  "kernelspec": {
   "display_name": "R",
   "language": "R",
   "name": "ir"
  },
  "language_info": {
   "codemirror_mode": "r",
   "file_extension": ".r",
   "mimetype": "text/x-r-source",
   "name": "R",
   "pygments_lexer": "r",
   "version": "3.6.1"
  }
 },
 "nbformat": 4,
 "nbformat_minor": 2
}
