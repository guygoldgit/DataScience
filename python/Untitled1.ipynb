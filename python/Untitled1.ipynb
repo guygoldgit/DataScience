{
 "cells": [
  {
   "cell_type": "code",
   "execution_count": null,
   "metadata": {},
   "outputs": [],
   "source": [
    "y=100\n",
    "j=1\n",
    "while(y>1):\n",
    "    y=y-1\n",
    "    j=1\n",
    "    while(j<y):\n",
    "        j=j+1\n",
    "        c=0\n",
    "        while(y%j==0):\n",
    "            c=c+1\n",
    "            while(c==0):\n",
    "                print(y)"
   ]
  },
  {
   "cell_type": "code",
   "execution_count": null,
   "metadata": {},
   "outputs": [],
   "source": []
  }
 ],
 "metadata": {
  "kernelspec": {
   "display_name": "Python 3",
   "language": "python",
   "name": "python3"
  },
  "language_info": {
   "codemirror_mode": {
    "name": "ipython",
    "version": 3
   },
   "file_extension": ".py",
   "mimetype": "text/x-python",
   "name": "python",
   "nbconvert_exporter": "python",
   "pygments_lexer": "ipython3",
   "version": "3.7.3"
  }
 },
 "nbformat": 4,
 "nbformat_minor": 2
}
